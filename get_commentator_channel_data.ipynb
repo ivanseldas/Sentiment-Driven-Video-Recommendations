{
 "cells": [
  {
   "cell_type": "code",
   "execution_count": 1,
   "metadata": {},
   "outputs": [],
   "source": [
    "import pandas as pd\n",
    "import numpy as np"
   ]
  },
  {
   "cell_type": "code",
   "execution_count": 2,
   "metadata": {},
   "outputs": [],
   "source": [
    "folder = 'dataframes_isp/data_Nude_Project_UCmCg86gXHnROv4ZIXbdGWlg'\n",
    "\n",
    "df_categories = pd.read_csv(f'./{folder}/df_categories.csv')\n",
    "df_comments = pd.read_csv(f'./{folder}/df_comments.csv')\n",
    "df_transcript = pd.read_csv(f'./{folder}/df_transcript.csv')\n",
    "df_videos = pd.read_csv(f'./{folder}/df_videos.csv')\n",
    "df_stats = pd.read_csv(f'./{folder}/df_channel_stats.csv')"
   ]
  },
  {
   "cell_type": "code",
   "execution_count": 3,
   "metadata": {},
   "outputs": [],
   "source": [
    "# Specify the path to your .txt file\n",
    "api_path = \"./keys/api_key_youtube.txt\"\n",
    "video_id_path = \"./keys/video_id_youtube.txt\"\n",
    "\n",
    "# Get api_key text\n",
    "with open(api_path, 'r') as file:\n",
    "    api_key = str(file.read())\n",
    "\n",
    "# Get video_id text\n",
    "with open(video_id_path, 'r') as file:\n",
    "    video_id = str(file.read())"
   ]
  },
  {
   "cell_type": "code",
   "execution_count": 4,
   "metadata": {},
   "outputs": [],
   "source": [
    "import requests\n",
    "import time\n",
    "\n",
    "# Channel ID or Username\n",
    "channel_id = 'UCmCg86gXHnROv4ZIXbdGWlg'  # Example: Google Developers channel ID\n",
    "\n",
    "# Define the API endpoint and parameters\n",
    "url = 'https://www.googleapis.com/youtube/v3/channels'\n",
    "params = {\n",
    "    'part': 'snippet,statistics',\n",
    "    'id': channel_id,\n",
    "    'key': api_key\n",
    "}\n",
    "\n",
    "# Make the API request\n",
    "response = requests.get(url, params=params)\n",
    "data = response.json()"
   ]
  },
  {
   "cell_type": "code",
   "execution_count": 5,
   "metadata": {},
   "outputs": [
    {
     "data": {
      "text/plain": [
       "{'viewCount': '235453222',\n",
       " 'subscriberCount': '709000',\n",
       " 'hiddenSubscriberCount': False,\n",
       " 'videoCount': '1293'}"
      ]
     },
     "execution_count": 5,
     "metadata": {},
     "output_type": "execute_result"
    }
   ],
   "source": [
    "data['items'][0]['statistics']"
   ]
  },
  {
   "cell_type": "code",
   "execution_count": 11,
   "metadata": {},
   "outputs": [],
   "source": [
    "def get_channel_data(api_key, channel_id):\n",
    "\n",
    "    url = 'https://www.googleapis.com/youtube/v3/channels'\n",
    "    params = {\n",
    "        'part': 'snippet,statistics',\n",
    "        'id': channel_id,\n",
    "        'key': api_key\n",
    "    }\n",
    "\n",
    "    # Make the API request\n",
    "    response = requests.get(url, params=params)\n",
    "    data = response.json()\n",
    "\n",
    "    if data:\n",
    "        metadata = data['items'][0]\n",
    "        channel_data = {\n",
    "            'name': metadata['snippet']['title'],\n",
    "            'description': metadata['snippet']['description'],\n",
    "            'publishedAt': metadata['snippet']['publishedAt'],\n",
    "            'viewCount': metadata['statistics']['viewCount'],\n",
    "            'subscriberCount': metadata['statistics']['subscriberCount'],\n",
    "            'videoCount': metadata['statistics']['videoCount']\n",
    "        }\n",
    "        if 'country' in metadata['snippet'].keys():\n",
    "            channel_data['country'] = metadata['snippet']['country'] \n",
    "        else:\n",
    "            channel_data['country'] = 'N/A'\n",
    "        return(channel_data)\n",
    "    else:\n",
    "        return None"
   ]
  },
  {
   "cell_type": "code",
   "execution_count": 14,
   "metadata": {},
   "outputs": [],
   "source": [
    "channel_id_list = df_comments['author_channel_id'].unique()[:1000]\n",
    "comments_channel_data = [get_channel_data(api_key, channel) for channel in channel_id_list]"
   ]
  },
  {
   "cell_type": "code",
   "execution_count": 20,
   "metadata": {},
   "outputs": [
    {
     "data": {
      "image/png": "[encoded data removed]",
      "text/plain": [
       "<Figure size 864x576 with 1 Axes>"
      ]
     },
     "metadata": {
      "needs_background": "light"
     },
     "output_type": "display_data"
    }
   ],
   "source": [
    "df_comment_channel = pd.DataFrame(comments_channel_data)\n",
    "\n",
    "import matplotlib.pyplot as plt\n",
    "\n",
    "plt.figure(figsize=(12,8))\n",
    "df_comment_channel['country'].value_counts().plot(kind='bar')\n",
    "plt.show();"
   ]
  }
 ],
 "metadata": {
  "kernelspec": {
   "display_name": "Python 3",
   "language": "python",
   "name": "python3"
  },
  "language_info": {
   "codemirror_mode": {
    "name": "ipython",
    "version": 3
   },
   "file_extension": ".py",
   "mimetype": "text/x-python",
   "name": "python",
   "nbconvert_exporter": "python",
   "pygments_lexer": "ipython3",
   "version": "3.10.12"
  }
 },
 "nbformat": 4,
 "nbformat_minor": 2
}
