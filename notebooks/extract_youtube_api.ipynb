{
 "cells": [
  {
   "cell_type": "code",
   "execution_count": 192,
   "metadata": {},
   "outputs": [],
   "source": [
    "import requests\n",
    "import pandas as pd\n",
    "pd.set_option('display.max_columns', None)\n",
    "pd.set_option('display.max_rows', None)\n",
    "\n",
    "import numpy as np\n",
    "import matplotlib.pyplot as plt\n",
    "import time"
   ]
  },
  {
   "cell_type": "code",
   "execution_count": 193,
   "metadata": {},
   "outputs": [],
   "source": [
    "# Specify the path to your .txt file\n",
    "api_path = \"../keys/api_key_youtube.txt\"\n",
    "\n",
    "api_key_number = 6\n",
    "\n",
    "# Get api_key text\n",
    "with open(api_path, 'r') as file:\n",
    "    api_key = str(file.read()).split('\\n')[api_key_number].split(':')[1].strip()"
   ]
  },
  {
   "cell_type": "code",
   "execution_count": 194,
   "metadata": {},
   "outputs": [],
   "source": [
    "# Parámetros de la consulta inicial\n",
    "queries_old = [\n",
    "    'top smartphones',\n",
    "    'smartphones gama media',\n",
    "    'smartphones gaming',\n",
    "    'unboxing smartphone',\n",
    "    'smartphones con mejor camara'\n",
    "]\n",
    "\n",
    "queries = [\n",
    "    \"What is artificial intelligence?\",\n",
    "    \"Artificial intelligence applications in healthcare\",\n",
    "    \"AI in autonomous vehicles\",\n",
    "    \"Machine learning vs deep learning\",\n",
    "    \"Artificial intelligence in finance\",\n",
    "    \"How does AI work?\",\n",
    "    \"Top AI tools for data science\",\n",
    "    \"Artificial intelligence in robotics\",\n",
    "    # \"Ethics in artificial intelligence\",\n",
    "    \"AI-driven innovation in business\",\n",
    "    # \"Future of artificial intelligence in 2024\",\n",
    "    # \"How to learn artificial intelligence?\",\n",
    "    # \"Natural language processing with AI\",\n",
    "    # \"AI in video games development\",\n",
    "    # \"AI-powered personal assistants\",\n",
    "    # \"AI in cybersecurity\",\n",
    "    # \"Artificial intelligence and the job market\",\n",
    "    # \"Best AI projects for beginners\",\n",
    "    # \"AI startups to watch in 2024\",\n",
    "    # \"Impact of AI on education\"\n",
    "]\n",
    "\n",
    "params = {\n",
    "    'part': 'snippet',\n",
    "    'type': 'video',\n",
    "    'maxResults': 50,\n",
    "    'key': api_key,\n",
    "    'order': 'viewCount',\n",
    "    # 'publishedAfter': '2022-01-01T00:00:00Z',\n",
    "    'videoDuration': 'any',\n",
    "    'regionCode': 'US'\n",
    "}"
   ]
  },
  {
   "cell_type": "code",
   "execution_count": 33,
   "metadata": {},
   "outputs": [],
   "source": [
    "import requests\n",
    "\n",
    "def fetch_search_videos(api_key, params, query, max_results=500):\n",
    "\n",
    "    url = 'https://www.googleapis.com/youtube/v3/search'\n",
    "    params['q'] = query\n",
    "    params['maxResults'] = min(max_results, 50)  # Limitar a 50 por solicitud, que es el máximo permitido por la API\n",
    "    params['key'] = api_key\n",
    "\n",
    "    response = requests.get(url, params=params)\n",
    "    all_results = response.json()['items']\n",
    "    page_info = response.json()['pageInfo']['totalResults']\n",
    "    print(f'total video results: {page_info}')\n",
    "\n",
    "    next_page_token = response.json().get('nextPageToken')\n",
    "    \n",
    "    # Continuar obteniendo resultados hasta alcanzar el límite deseado\n",
    "    while next_page_token and len(all_results) < max_results:\n",
    "        params['pageToken'] = next_page_token\n",
    "        response = requests.get(url, params=params)\n",
    "        \n",
    "        if response.status_code == 200:\n",
    "            results = response.json()\n",
    "            all_results.extend(results['items'])\n",
    "            next_page_token = results.get('nextPageToken')\n",
    "        else:\n",
    "            print(f\"Error: {response.status_code}\")\n",
    "            break\n",
    "\n",
    "    return all_results[:max_results]"
   ]
  },
  {
   "cell_type": "markdown",
   "metadata": {},
   "source": [
    "# Get Video Metadata"
   ]
  },
  {
   "cell_type": "code",
   "execution_count": 56,
   "metadata": {},
   "outputs": [],
   "source": [
    "# Function to fetch video metadata\n",
    "def fetch_video_metadata(video_id, api_key):\n",
    "    url = f\"https://www.googleapis.com/youtube/v3/videos?part=snippet,statistics,contentDetails&id={video_id}&key={api_key}\"\n",
    "    response = requests.get(url).json()\n",
    "    if 'items' in response and len(response['items']) > 0:\n",
    "        return(response['items'])\n",
    "    else:\n",
    "        return None"
   ]
  },
  {
   "cell_type": "code",
   "execution_count": 197,
   "metadata": {},
   "outputs": [
    {
     "data": {
      "text/plain": [
       "2927"
      ]
     },
     "execution_count": 197,
     "metadata": {},
     "output_type": "execute_result"
    }
   ],
   "source": [
    "df_video_id = pd.read_csv('../data/raw_data/df_video_search_ids_ai.csv')\n",
    "video_id_list = set(df_video_id['video_id'])\n",
    "len(video_id_list)"
   ]
  },
  {
   "cell_type": "code",
   "execution_count": 57,
   "metadata": {},
   "outputs": [
    {
     "data": {
      "text/plain": [
       "[{'kind': 'youtube#video',\n",
       "  'etag': 'Z9ntkPPN08eZdXPUOG8ACiM2yLk',\n",
       "  'id': 'qtlUwwtvuEg',\n",
       "  'snippet': {'publishedAt': '2023-05-01T13:00:18Z',\n",
       "   'channelId': 'UC4ay94l73_FLJ_WJkIqLnSw',\n",
       "   'title': '2024 Twelve Best free AI tools for Academic Research || Latest AI tools || AI for researchers',\n",
       "   'description': \"#aitools   #researchpaper   #academicwriting #academicwriting #researchtools   #Gurrutechsolutions\\n\\nLearn how to use Twelve Best free AI tools for Academic Research or 2023 best free AI's for academic research and studies purpose.\\n\\nTimecodes\\n0:00-Intro\\n0:50-ChatDoc\\n4:01-Explain Paper\\n6:59-Humata\\n9:48-Elicit\\n11:52-Wordtune read\\n14:01-Quillbot\\n15:46-Spinbot\\n16:48-GPT minus 1\\n17:54-ChatGPT\\n19:31-Paper Digest\\n21:07-Citefast\\n22:47-Mybib\\n\\nAbout this Video:-\\nIn this video, we'll explore 12 different AI tools that can be useful for academic research. Whether you're a student, a researcher, or an educator, these tools can help you save time and improve the quality of your work. These tools can be used for literature review, academic reading, academic writing. Besides, more importantly these tools can use for citation and referencing various studies. These tools Include: Chatdoc requests, Explain Paper, Humata, Elicit, Wordtune read, Quillbot, Spinbot, GPT minus 1, ChatGPT, Paper Digest, Citefast, Mybib\\ncitation.\\nI hope these free AI tools will help you excel in research work.\\n\\n\\nYour Queries ❓❓:- \\n1- Twelve Best free AI tools for Academic Research \\n2- 2023 latest AI tools for research\\n3- Free and best AI tool for studies \\n4- How to use AI for research purpose\\n5- Which AI can be used for paper summaries \\n6- Which AI can be used for referencing \\n\\n\\nFollow Us:- 👉 https://www.facebook.com/gurrutechsolutions/\\nBusiness  ✉️ :- gurrutechsolutions@gmail.com\",\n",
       "   'thumbnails': {'default': {'url': 'https://i.ytimg.com/vi/qtlUwwtvuEg/default.jpg',\n",
       "     'width': 120,\n",
       "     'height': 90},\n",
       "    'medium': {'url': 'https://i.ytimg.com/vi/qtlUwwtvuEg/mqdefault.jpg',\n",
       "     'width': 320,\n",
       "     'height': 180},\n",
       "    'high': {'url': 'https://i.ytimg.com/vi/qtlUwwtvuEg/hqdefault.jpg',\n",
       "     'width': 480,\n",
       "     'height': 360},\n",
       "    'standard': {'url': 'https://i.ytimg.com/vi/qtlUwwtvuEg/sddefault.jpg',\n",
       "     'width': 640,\n",
       "     'height': 480},\n",
       "    'maxres': {'url': 'https://i.ytimg.com/vi/qtlUwwtvuEg/maxresdefault.jpg',\n",
       "     'width': 1280,\n",
       "     'height': 720}},\n",
       "   'channelTitle': 'Gurru Tech Solutions',\n",
       "   'tags': ['Education',\n",
       "    '2023 Latest AI tools',\n",
       "    'AI for academic purpose',\n",
       "    'Referencing using AI tools',\n",
       "    'mybib',\n",
       "    'citefast',\n",
       "    'paper digest',\n",
       "    'academic research',\n",
       "    'using AI',\n",
       "    'AI for studeis',\n",
       "    'elicit.org',\n",
       "    'chatgpt',\n",
       "    'GPT minues 1',\n",
       "    'GPTMinues-1',\n",
       "    'word tune read',\n",
       "    'twelve best AI tools',\n",
       "    'best AI tools',\n",
       "    'Free AI tools',\n",
       "    'chatdoc',\n",
       "    'Humata ai',\n",
       "    'amazing free ai tools',\n",
       "    'research tools',\n",
       "    'academic support tools',\n",
       "    'referencing ai tools',\n",
       "    'citation ai tools',\n",
       "    'ai tools',\n",
       "    'ai tools for research',\n",
       "    'free ai tools',\n",
       "    'ai for research',\n",
       "    'best ai tools'],\n",
       "   'categoryId': '27',\n",
       "   'liveBroadcastContent': 'none',\n",
       "   'defaultLanguage': 'en',\n",
       "   'localized': {'title': '2024 Twelve Best free AI tools for Academic Research || Latest AI tools || AI for researchers',\n",
       "    'description': \"#aitools   #researchpaper   #academicwriting #academicwriting #researchtools   #Gurrutechsolutions\\n\\nLearn how to use Twelve Best free AI tools for Academic Research or 2023 best free AI's for academic research and studies purpose.\\n\\nTimecodes\\n0:00-Intro\\n0:50-ChatDoc\\n4:01-Explain Paper\\n6:59-Humata\\n9:48-Elicit\\n11:52-Wordtune read\\n14:01-Quillbot\\n15:46-Spinbot\\n16:48-GPT minus 1\\n17:54-ChatGPT\\n19:31-Paper Digest\\n21:07-Citefast\\n22:47-Mybib\\n\\nAbout this Video:-\\nIn this video, we'll explore 12 different AI tools that can be useful for academic research. Whether you're a student, a researcher, or an educator, these tools can help you save time and improve the quality of your work. These tools can be used for literature review, academic reading, academic writing. Besides, more importantly these tools can use for citation and referencing various studies. These tools Include: Chatdoc requests, Explain Paper, Humata, Elicit, Wordtune read, Quillbot, Spinbot, GPT minus 1, ChatGPT, Paper Digest, Citefast, Mybib\\ncitation.\\nI hope these free AI tools will help you excel in research work.\\n\\n\\nYour Queries ❓❓:- \\n1- Twelve Best free AI tools for Academic Research \\n2- 2023 latest AI tools for research\\n3- Free and best AI tool for studies \\n4- How to use AI for research purpose\\n5- Which AI can be used for paper summaries \\n6- Which AI can be used for referencing \\n\\n\\nFollow Us:- 👉 https://www.facebook.com/gurrutechsolutions/\\nBusiness  ✉️ :- gurrutechsolutions@gmail.com\"},\n",
       "   'defaultAudioLanguage': 'en'},\n",
       "  'contentDetails': {'duration': 'PT24M59S',\n",
       "   'dimension': '2d',\n",
       "   'definition': 'hd',\n",
       "   'caption': 'true',\n",
       "   'licensedContent': True,\n",
       "   'contentRating': {},\n",
       "   'projection': 'rectangular'},\n",
       "  'statistics': {'viewCount': '268029',\n",
       "   'likeCount': '8091',\n",
       "   'favoriteCount': '0',\n",
       "   'commentCount': '381'}}]"
      ]
     },
     "execution_count": 57,
     "metadata": {},
     "output_type": "execute_result"
    }
   ],
   "source": [
    "video_info_test = [fetch_video_metadata(id, api_key) for id in video_id_list]\n",
    "video_info_test[0]"
   ]
  },
  {
   "cell_type": "code",
   "execution_count": 59,
   "metadata": {},
   "outputs": [],
   "source": [
    "def get_video_metadata(video_response):\n",
    "    \n",
    "    if video_response == None:\n",
    "        return None\n",
    "    \n",
    "    video_metadata = video_response[0]\n",
    "\n",
    "    if video_metadata and len(video_metadata) > 0:\n",
    "        video_info = {\n",
    "                    \"videoId\": video_metadata['id'],\n",
    "                    \"title\": video_metadata['snippet']['title'],\n",
    "                    \"channelId\": video_metadata['snippet']['channelId'],\n",
    "                    \"description\": video_metadata['snippet']['description'],\n",
    "                    \"publishedAt\": video_metadata['snippet']['publishedAt'],\n",
    "                    \"thumbnail_url\": video_metadata['snippet']['thumbnails']['default']['url'],\n",
    "                    \"tags\": video_metadata['snippet'].get('tags', []),\n",
    "                    \"live_broadcast\": video_metadata['snippet']['liveBroadcastContent'],\n",
    "                    \"categoryId\": video_metadata['snippet']['categoryId'],\n",
    "                    \"viewCount\": video_metadata['statistics'].get('viewCount', 0),\n",
    "                    \"likeCount\": video_metadata['statistics'].get('likeCount', 0),\n",
    "                    \"commentCount\": video_metadata['statistics'].get('commentCount', 0),\n",
    "                    \"licensed\": video_metadata['contentDetails']['licensedContent'],\n",
    "                    \"duration\": video_metadata['contentDetails']['duration'],\n",
    "                    \"caption\": video_metadata['contentDetails']['caption'],\n",
    "                    }\n",
    "        return(video_info)\n",
    "    else:\n",
    "        return None   "
   ]
  },
  {
   "cell_type": "code",
   "execution_count": 60,
   "metadata": {},
   "outputs": [
    {
     "data": {
      "text/plain": [
       "2927"
      ]
     },
     "execution_count": 60,
     "metadata": {},
     "output_type": "execute_result"
    }
   ],
   "source": [
    "video_metadata_test = [get_video_metadata(video_info_test[n]) for n in range(0, len(video_id_list))]\n",
    "len(video_metadata_test)"
   ]
  },
  {
   "cell_type": "code",
   "execution_count": 68,
   "metadata": {},
   "outputs": [],
   "source": [
    "df_video = pd.DataFrame(video_metadata_test)"
   ]
  },
  {
   "cell_type": "code",
   "execution_count": 69,
   "metadata": {},
   "outputs": [],
   "source": [
    "from langdetect import detect, DetectorFactory, LangDetectException\n",
    "from nltk.corpus import stopwords\n",
    "\n",
    "# Create a column with language detected\n",
    "def detect_language(text):\n",
    "    try:\n",
    "        # Verificar si el texto es lo suficientemente largo\n",
    "        if len(text.strip()) == 0:\n",
    "            return None\n",
    "        # Intentar detectar el idioma\n",
    "        language = detect(text)\n",
    "        return language\n",
    "    except LangDetectException:\n",
    "        # Si el texto es demasiado corto o no se puede detectar el idioma, devolver None\n",
    "        return None"
   ]
  },
  {
   "cell_type": "code",
   "execution_count": 72,
   "metadata": {},
   "outputs": [
    {
     "data": {
      "image/png": "[encoded data removed]",
      "text/plain": [
       "<Figure size 864x576 with 1 Axes>"
      ]
     },
     "metadata": {
      "needs_background": "light"
     },
     "output_type": "display_data"
    }
   ],
   "source": [
    "df_video['language'] = df_video['title'].apply(detect_language)\n",
    "\n",
    "plt.figure(figsize=(12,8))\n",
    "df_video['language'].value_counts().plot(kind='bar')\n",
    "plt.show();"
   ]
  },
  {
   "cell_type": "code",
   "execution_count": 191,
   "metadata": {},
   "outputs": [],
   "source": [
    "df_video.to_csv('../data/raw_data/df_video_ai.csv', index=False)"
   ]
  },
  {
   "cell_type": "markdown",
   "metadata": {},
   "source": [
    "# Get Video Comments"
   ]
  },
  {
   "cell_type": "code",
   "execution_count": 100,
   "metadata": {},
   "outputs": [],
   "source": [
    "import requests\n",
    "\n",
    "def fetch_top_comments(video_id, api_key, total_comments):\n",
    "    url = 'https://www.googleapis.com/youtube/v3/commentThreads'\n",
    "    params = {\n",
    "        'part': 'snippet',\n",
    "        'videoId': video_id,\n",
    "        'order': 'relevance',\n",
    "        'key': api_key\n",
    "    }\n",
    "    \n",
    "    # Determinar el número de comentarios a recuperar según el total de comentarios\n",
    "    if total_comments <= 100:\n",
    "        max_comments = total_comments\n",
    "    elif total_comments <= 1000:\n",
    "        max_comments = int(total_comments * 0.75)\n",
    "    elif total_comments <= 10000:\n",
    "        max_comments = int(total_comments * 0.2)\n",
    "    else:\n",
    "        max_comments = int(total_comments * 0.05)\n",
    "    \n",
    "    # Limitar a un máximo de 1000 comentarios\n",
    "    max_comments = min(max_comments, 1000)\n",
    "    \n",
    "    # Preparar para recuperar comentarios\n",
    "    params['maxResults'] = 100  # Máximo permitido por la API en una solicitud\n",
    "    \n",
    "    all_comments = []\n",
    "    next_page_token = None\n",
    "\n",
    "    while len(all_comments) < max_comments:\n",
    "        if next_page_token:\n",
    "            params['pageToken'] = next_page_token\n",
    "\n",
    "        response = requests.get(url, params=params)\n",
    "        if response.status_code == 200:\n",
    "            results = response.json()\n",
    "            for item in results['items']:\n",
    "                comment = item['snippet']['topLevelComment']['snippet']\n",
    "                comment_data = {\n",
    "                    'comment_id': item['id'],\n",
    "                    'author': comment['authorDisplayName'],\n",
    "                    'author_channel_id': comment['authorChannelId']['value'],\n",
    "                    'text': comment['textDisplay'],\n",
    "                    'like_count': comment['likeCount'],\n",
    "                    'published_at': comment['publishedAt'],\n",
    "                    'updated_at': comment['updatedAt'],\n",
    "                    'totalReplyCount': item['snippet']['totalReplyCount'],\n",
    "                    'video_id': video_id\n",
    "                }\n",
    "                all_comments.append(comment_data)\n",
    "            \n",
    "            next_page_token = results.get('nextPageToken')\n",
    "            \n",
    "            if not next_page_token or len(all_comments) >= max_comments:\n",
    "                break\n",
    "        else:\n",
    "            print(f\"Error: {response.status_code}\")\n",
    "            break\n",
    "\n",
    "    return all_comments[:max_comments]"
   ]
  },
  {
   "cell_type": "code",
   "execution_count": 101,
   "metadata": {},
   "outputs": [],
   "source": [
    "# Clean dataframe \n",
    "\n",
    "df_video = df_video[df_video['language'] == 'en'].copy().reset_index()\n",
    "df_video.drop(columns='index', inplace=True)\n",
    "df_video['commentCount'] = df_video['commentCount'].astype('int64')\n",
    "\n",
    "df_clean = df_video[df_video['commentCount'] > 0].reset_index().copy()"
   ]
  },
  {
   "cell_type": "code",
   "execution_count": 116,
   "metadata": {},
   "outputs": [],
   "source": [
    "top_comments_1 = [fetch_top_comments(df_clean['videoId'][n], api_key, df_clean['commentCount'][n]) for n in range(0, len(df_clean[:500]))]"
   ]
  },
  {
   "cell_type": "code",
   "execution_count": 132,
   "metadata": {},
   "outputs": [],
   "source": [
    "top_comments_2 = [fetch_top_comments(df_clean['videoId'][n], api_key, df_clean['commentCount'][n]) for n in range(500, 1000)]"
   ]
  },
  {
   "cell_type": "code",
   "execution_count": 134,
   "metadata": {},
   "outputs": [],
   "source": [
    "top_comments_3 = [fetch_top_comments(df_clean['videoId'][n], api_key, df_clean['commentCount'][n]) for n in range(1000, 1500)]"
   ]
  },
  {
   "cell_type": "code",
   "execution_count": 136,
   "metadata": {},
   "outputs": [],
   "source": [
    "top_comments_4 = [fetch_top_comments(df_clean['videoId'][n], api_key, df_clean['commentCount'][n]) for n in range(1500, len(df_clean))]"
   ]
  },
  {
   "cell_type": "code",
   "execution_count": 190,
   "metadata": {},
   "outputs": [],
   "source": [
    "nested_list = [top_comments_1, top_comments_2, top_comments_3, top_comments_4]\n",
    "flat_list = [item for sublist in nested_list for item in sublist]\n",
    "top_comments = [item for sublist in flat_list for item in sublist]\n",
    "\n",
    "df_top_comments = pd.DataFrame(top_comments)\n",
    "len(df_top_comments['video_id'].value_counts())\n",
    "\n",
    "df_top_comments.head()\n",
    "df_top_comments.to_csv('../data/raw_data/df_comments_video_ai.csv', index=False)"
   ]
  },
  {
   "cell_type": "markdown",
   "metadata": {},
   "source": [
    "# Get video transcription"
   ]
  },
  {
   "cell_type": "code",
   "execution_count": 3,
   "metadata": {},
   "outputs": [],
   "source": [
    "from youtube_transcript_api import YouTubeTranscriptApi\n",
    "\n",
    "def get_transcription(video_id):\n",
    "    try:\n",
    "        # Get the list of available transcripts for the video\n",
    "        transcript_list = YouTubeTranscriptApi.list_transcripts(video_id)\n",
    "\n",
    "        # Attempt to find any generated transcript in its original language\n",
    "        generated_transcript = None\n",
    "        original_language = None\n",
    "        for transcript in transcript_list:\n",
    "            if transcript.is_generated:\n",
    "                generated_transcript = transcript\n",
    "                original_language = transcript.language\n",
    "                break\n",
    "\n",
    "        if not generated_transcript:\n",
    "            return None\n",
    "\n",
    "        # Fetch and return the original transcription text in the original language\n",
    "        text_formatted = \" \".join([item['text'] for item in generated_transcript.fetch()])\n",
    "\n",
    "        return {\n",
    "            \"video_id\": video_id,\n",
    "            \"original_language\": original_language,\n",
    "            \"transcription\": text_formatted\n",
    "        }\n",
    "\n",
    "    except Exception as e:\n",
    "        return None"
   ]
  },
  {
   "cell_type": "code",
   "execution_count": 198,
   "metadata": {},
   "outputs": [],
   "source": [
    "df_video_ai = pd.read_csv('../data/raw_data/df_video_ai.csv')"
   ]
  },
  {
   "cell_type": "code",
   "execution_count": 149,
   "metadata": {},
   "outputs": [
    {
     "name": "stdout",
     "output_type": "stream",
     "text": [
      "Generated transcript found in: English (auto-generated)\n"
     ]
    }
   ],
   "source": [
    "transcript_test = get_transcription(df_video_ai['videoId'][0])"
   ]
  },
  {
   "cell_type": "code",
   "execution_count": 4,
   "metadata": {},
   "outputs": [],
   "source": [
    "transcript_list = [get_transcription(id) for id in df_video_ai['videoId']]"
   ]
  },
  {
   "cell_type": "code",
   "execution_count": 173,
   "metadata": {},
   "outputs": [
    {
     "data": {
      "text/plain": [
       "{'video_id': 'qtlUwwtvuEg',\n",
       " 'original_language': 'English (auto-generated)',\n",
       " 'transcription': \"[Music] thank you hello everyone I hope you are doing great in the era of AI welcome to Guru Tech Solutions Welcome to our video on 12 free AI tools for academic researchers and students with the rise of artificial intelligence these tools have become increasingly important in research and education they can help you automate repetitive tasks analyze data more efficiently and create powerful models that can accelerate your research in this video we will explore 12 most popular and useful free AI tools that are available to academic researchers and students let's Dive In AI tool number one first of all open your web browser and type chat.com thank you by entering it will take you to the official page of this first AI tool and the interface will appear like this you can see click get start here we have option to upload our PDF file by clicking here a window will appear to and ask to choose the PDF file which you have already downloaded we'll select this you can see it's uploading right now it will take few seconds see this has been uploaded now it can be seen that on the left side the uploaded article will while on the right side you can see the space to ask questions pertaining to the uploaded file using this AI is piece of cake or walk in the park what we have to do is we just have to type our question pertaining to this paper so first I just want to know what this article is all about you have to type and then you have to press enter boom you can see this AI tool has encapsulated this article in few lines you can read these lines to understand it better foreign let's suppose I am typing another question that is pertaining to sample size so what is the sample size of the study so you can see it gives the answer directly now you don't need to read the entire article you only need to type your question about the document in hand let me type one more question which methodology has been used in this study this AI provides detailed information related to methodology of the research study let me type one more question what are a few findings of this study and it will highlight a few findings so you can see that this AI has highlighted few of the major findings from this paper it means you don't have to read the entire article you just have to upload your file and see the Magic by asking your question this is in fascinating AI tool more importantly it's free to use besides you can see whatever information it extracts it also provide page numbers as well I hope you like this AI tool don't skip the video watch it full to be acquainted with latest AI tools for academic research and studies AI tool number two again open your Google Chrome and type explain paper then enter and click the very first link by clicking it will take you this official page from its interface looks like this now here you have to click Start for free it will process and from here you have to choose your Gmail account next it will log in automatically now what you have to do is you have to upload the downloaded file from your computer or laptop vary akin to the first discussed AI tool let me choose my file so here it is now see it's processing the uploaded file you can see the PDF document has been uploading and it can been seen on the left side of the window while on the on the right side you can see there is a space and this talks about highlighting the tax it means that we just must highlight the text from the article and this AI will explain the particular phrase or word so let me highlight one word from this article for instance I am highlighting quantitative survey by highlighting it will ask to click explain by clicking explain this AI we'll explain this particular phrase you can see a quantitative survey is research method that use numerical data blah blah so it means that you just have to highlight any text from the article which you want to explain for yourself so let's suppose this time I am lighting rash analysis with this particular term I am not familiar with I just want to know more about it so here it is you can see that this AI has explained in detail about the highlighted text in the same way you can highlight other such Words which you are not familiar or which you want to learn more by just highlighting those very text lastly let's suppose I am highlighting one more phrase It's about analysis of dif this AI will explain here you go now this stands for differential item functioning and further you can read and you can understand more pertaining to the highlighted text it means this AI gives an opportunity to understand the article in more depth here is one more option to ask follow-up question if you want to ask question you just have to click here and then you have to type your question and this AI told will explain that to you isn't it in fascinating AI tool if so kindly let know in the comments section and don't forget to share with your colleagues and fellows to grow together AI tool number three now let's discuss the third AI tool open your web browser and type Hamada and click the very first link this will take you to the official page here you will log in using your Gmail account now I have logged in as you can see this is the official page the same process will be repeated as discussed for previous two AI tools again you have to upload your PDF document which you want to explore I am selecting my document it will take few seconds and it will upload automatically see it says it will take only 15 seconds now the file has been uploaded click open by clicking here you will see this interface on the right side you can see the uploaded article while on the left side there is a space to ask questions pertaining to the uploaded article this is very similar to the first two AI which we have already discussed so I am typing a question what this study is all about boom you can see that this AI tool has summarized the entire article just in a single click now let me type one more question what are the key findings so I want to know about the key findings of This research study see it has brought the key findings of this study number one talks about boys exhibition problem solving and spatial abilities where girls displayed better verbal skills similarly finding number two finding number three finding number four and so on in this way you can type your question for extracting information using this AI tool let me ask last question what is the methodology which has been used in this study let's explore this using this AI see what it brings out boom you can see that this has brought out information about the methodology which has been used in this study about the sample size and many more I found this AI tool useful for academic purposes and hope you will find it too don't skip the video nine more AI tools to be discussed ahead stay tuned till last now we will discuss AI tool number four you can access it by typing illicit.org in your browser this will take you to the official page of this free AI tool it asks for research questions it means we do not have to upload any downloaded file here instead we have to type our research question around which we are searching literature are any other information it even doesn't ask for log in or sign up we just have to open it and start let me type a question this time I am asking about the contributing factors of low achievement in mathematics and then we have to hit search by hitting you will get this here you can see research articles on the left side similarly on the right side you can see that there are various features including filters and PDF versions of these papers these are the articles on the left side you can see on the other hand on the right side you can see the summaries of the abstracts of these articles it means you don't have to read the entire article or abstract just read the summary and you will get an idea about the relevancy of these articles by clicking here you will get this here you can see that it has given findings of four various studies you can read them one by one and you can make these part of your literature review by just copying and paraphrasing these you can include in your assignments or papers to make your arguments strong enough besides at the bottom you can see there is an option to find out more about these studies including number of participants and the outcome variables and many more I found this free AI tool vital for literature review section since there we have to search literature around different topics and this AI provides very short summaries which can be used in various ways hope you like this AI now let's move on now let's discuss AI tool number five for this you have to type word tune red I typing the link will be provided click on the first link this will take you to the official page of this free AI tool here we have three options let's talk a bit about these the first one is about uploading downloaded PDF the second one is to paste the link of the research article which we want to read or summarize the third one is to paste the entire text now I will upload my PDF document for this I will click browse file from here I will choose my document now you will see this AI is processing it here you go you can see that on the right side the article which you uploaded you can see this the entire article here similarly on the left side you can see the summaries of the entire article is given you can see the entire summary of the text on page one similarly by scrolling down you can see that page number two summary it means you don't have to read the entire paper now you can see the summaries of each section by just scrolling down and these summaries are in just a few words besides there are other features these include viewing The Source by clicking here or you can re-summarize the text by clicking here besides there is the option to copy the text and even you can add any text in your notes I found this AI an amazing tool for academic purposes including literature review and writing summaries of lengthy articles in few clicks hope you liked it too please don't forget to comment and share in your circle to grow together don't skip the video seven more best free AI to discuss ahead let's drive into AI tool number six open your browser and type quill bot by typing you will get the very first link this is a free AI tool which can be used for paraphrasing any text free of cost by clicking the first link you will land on the official page of this free AI tool you can see the interface looks like this now what you have to do just have to copy the text you want to paraphrase and paste here so let's suppose I am copying this text so I will copy it and I will paste it here then I will click paraphrase by clicking this AI tool will paraphrase the entire text boom you can see the entire copied text has been paraphrased in single click read and modify until you are satisfied if you are not satisfied with the paraphrase you can re-paraphrase by just clicking here now again you can read and if you are still not satisfied follow the same process one best feature of this free AI tools is it gives you an opportunity to replace each word like examining can be replaced by various words similarly proficiency can be replaced by many words you can see here so this AI tool can be used for paraphrasing and we know that in research it plays an important role because while writing your research paper or particularly literature review you need to paraphrase the existing literature I hope you liked this free AI tool AI tool number seven open your browser and type spin boat click the very first provided link and you will land on the official page of this free AI tool this AI tool is actually a paraphrasing tool similar to the previous one which we have already discussed and the process is very similar to the previous one what we have to do is we have to copy the text which we want paraphrase and then you have to paste here after pasting this text we just have to click the basic spin to see the magic you can see the entire copied text has been paraphrased here see initially there were 732 words now it has been reduced to 700. so this free AI tool can also be used for your research purposes including literature review or the text which you want to paraphrase and make part and parcel of your research study AI tool number eight open your browser and type GPT -1 by typing various links will be available what you have to do is you have to choose the very first link and this will land you to the official page of this AI tool now see what it does actually it replaces words with suitable synonyms you can see here so what we have to do is we just need to copy the text we want to paraphrase using suitable synonyms and then we have to paste over here and then click submit by clicking you can see that few of the words has been highlighted it means that this AI tool has replaced few words with these synonyms so this AI tool can also be used in order to paraphrase your work or text it's very easy to handle isn't it so let me know in the comment section don't skip the video we have four more AIS to discuss ahead stay tuned AI tool number nine this is a famous AI tool in 2023 which is called chatgpt click the very first link this link will take you to this page from here you have to click try chat GPT and boom here is the official page of this AI tool know what you have to do is to type whatever comes to your mind your question or any query so let's suppose I am typing what are the common contributing factors in low achievement in mathematics and then click enter and this will bring the results see it has highlighted few of the major contributing factors which contributes in students low achievement in mathematics so this AI is free to use and it has gained considerable attention in this era you can read the various factors one by one you want to find relevant articles related to mathematics achievement this AI tool will find few of the articles with their references you can see the first article the author's details and everything is given so what I can do is I can access these articles by searching on Google and I can read more about these articles to make them part of my research or literature review sections in recent times this AI has been upgraded too now you can access chat gpt4 however it's not free but you can use this version for various purposes AI tool number 10. open your browser and type paper Digest this AI tool digests the academic papers it means that in single click it provides summarization of lengthy papers click the very first link this will lend you to the official page here it says this will reduce you reading to three minutes so this is the official page of this AI tool what we have to do is just copy the DOI number of our research paper let's suppose this is the paper which I want to summarize so I will copy the DOI number from here and then I will paste it here then click digest and it will process now you can see this AI has provided the summary of the article with very few words this was the lengthy article you can see and it has summarized this in very few words the first section is pertaining to what this article is actually all about here you can see you can read what this article is about and the second section is about what you can we learn from this article so it highlights the findings of this provided article so in this way you can digest any lengthy article using this free AI tool I hope you like this AI tool so don't skip the video we have more AIS to discuss ahead AI tool number 11. if you are a research student you might find it difficult to cite studies or write references of various sources but don't panic now we will discuss one AI that resolves this issue type site fast in Google Chrome and click the very first link this will land you to the official page of this AI tool you can see that various formats for referencing has been available APA 6 APA 7 or Chicago besides various sources can be cited these include websites books Journal articles and many more you we have two methods vary first methods to fill manually all the information and in the second method it will do automatically you just have to click the auto and then you have to put title of the article here let's suppose this is the article I will copy the article title and I will paste it here and then click search after searching it will find the relevant article I will click and this will automatically add all information in the relevant sections author's name your publication article title and many more now I will click save citation and here it is from here you can download the reference in Word document here it is downloading so using this AI you can create auto references in single click which is a difficult task when it comes to doing it manually or other ways use this Ai and make your life easier last but not least AI tool number 12. this AI tool also helps in creating Auto referencing and citation open your web browser and type my bid click the very first link this will land you to the official page of this free AI you can choose your format from here I am choosing APA 7. besides it gives opportunity to cite various sources these include websites Journal article videos and many more over it gives three different options you just have to copy the title or DOI number of any article or you can also choose the PDF file from your laptop or computer and the last one is you can drag and drop your PDF here I will copy the title of the article from here and I will paste it here see it will find the relevant article just click this relevant article and you are done with this boring task if you have done it manually or other sources it will automatically add all the information in the required section you can see here now click save and you can download This by clicking here it gives various formats to download I will choose Word document and it will download see I am done since we are living in ai's Era being researcher and student we must know few of the free latest AI tools I tried to bring forth the most used and free AI tools I hope the video was fruitful if so please leave a comment and besides don't forget to subscribe Guru Tech solutions for more such videos until we meet again take care bye [Music]\"}"
      ]
     },
     "execution_count": 173,
     "metadata": {},
     "output_type": "execute_result"
    }
   ],
   "source": [
    "clean_list_transcript = [item for item in transcript_list if item is not None]\n",
    "clean_list_transcript[0]"
   ]
  },
  {
   "cell_type": "code",
   "execution_count": 188,
   "metadata": {},
   "outputs": [
    {
     "data": {
      "text/html": [
       "<div>\n",
       "<style scoped>\n",
       "    .dataframe tbody tr th:only-of-type {\n",
       "        vertical-align: middle;\n",
       "    }\n",
       "\n",
       "    .dataframe tbody tr th {\n",
       "        vertical-align: top;\n",
       "    }\n",
       "\n",
       "    .dataframe thead th {\n",
       "        text-align: right;\n",
       "    }\n",
       "</style>\n",
       "<table border=\"1\" class=\"dataframe\">\n",
       "  <thead>\n",
       "    <tr style=\"text-align: right;\">\n",
       "      <th></th>\n",
       "      <th>video_id</th>\n",
       "      <th>original_language</th>\n",
       "      <th>transcription</th>\n",
       "    </tr>\n",
       "  </thead>\n",
       "  <tbody>\n",
       "    <tr>\n",
       "      <th>0</th>\n",
       "      <td>qtlUwwtvuEg</td>\n",
       "      <td>English (auto-generated)</td>\n",
       "      <td>[Music] thank you hello everyone I hope you ar...</td>\n",
       "    </tr>\n",
       "    <tr>\n",
       "      <th>1</th>\n",
       "      <td>QaoDXYYtgK0</td>\n",
       "      <td>English (auto-generated)</td>\n",
       "      <td>number three [Music] Facebook has enacted an e...</td>\n",
       "    </tr>\n",
       "    <tr>\n",
       "      <th>2</th>\n",
       "      <td>PqDwddEHswU</td>\n",
       "      <td>English (auto-generated)</td>\n",
       "      <td>in this series we're going to introduce deep l...</td>\n",
       "    </tr>\n",
       "    <tr>\n",
       "      <th>3</th>\n",
       "      <td>B-Y7rnOa43w</td>\n",
       "      <td>English (auto-generated)</td>\n",
       "      <td>this is how to earn money with AI and it's par...</td>\n",
       "    </tr>\n",
       "    <tr>\n",
       "      <th>4</th>\n",
       "      <td>vyit-1zKsZ4</td>\n",
       "      <td>English (auto-generated)</td>\n",
       "      <td>when current Medical Science has run out of op...</td>\n",
       "    </tr>\n",
       "  </tbody>\n",
       "</table>\n",
       "</div>"
      ],
      "text/plain": [
       "      video_id         original_language  \\\n",
       "0  qtlUwwtvuEg  English (auto-generated)   \n",
       "1  QaoDXYYtgK0  English (auto-generated)   \n",
       "2  PqDwddEHswU  English (auto-generated)   \n",
       "3  B-Y7rnOa43w  English (auto-generated)   \n",
       "4  vyit-1zKsZ4  English (auto-generated)   \n",
       "\n",
       "                                       transcription  \n",
       "0  [Music] thank you hello everyone I hope you ar...  \n",
       "1  number three [Music] Facebook has enacted an e...  \n",
       "2  in this series we're going to introduce deep l...  \n",
       "3  this is how to earn money with AI and it's par...  \n",
       "4  when current Medical Science has run out of op...  "
      ]
     },
     "execution_count": 188,
     "metadata": {},
     "output_type": "execute_result"
    }
   ],
   "source": [
    "df_transcript = pd.DataFrame(clean_list_transcript)\n",
    "df_transcript.to_csv('../data/raw_data/df_transcript_original_ai.csv', index=False)\n",
    "df_transcript.head()"
   ]
  },
  {
   "cell_type": "code",
   "execution_count": 199,
   "metadata": {},
   "outputs": [
    {
     "data": {
      "image/png": "[encoded data removed]",
      "text/plain": [
       "<Figure size 864x576 with 1 Axes>"
      ]
     },
     "metadata": {
      "needs_background": "light"
     },
     "output_type": "display_data"
    }
   ],
   "source": [
    "df_transcript = pd.read_csv('../data/raw_data/df_transcript_original_ai.csv')\n",
    "\n",
    "plt.figure(figsize=(12,8))\n",
    "df_transcript['original_language'].value_counts().plot(kind='bar')\n",
    "plt.show();"
   ]
  },
  {
   "cell_type": "markdown",
   "metadata": {},
   "source": [
    "# Get channel data"
   ]
  },
  {
   "cell_type": "code",
   "execution_count": 178,
   "metadata": {},
   "outputs": [],
   "source": [
    "def get_channel_data(api_key, channel_id):\n",
    "    url_channel = f'https://youtube.googleapis.com/youtube/v3/channels?part=snippet,contentDetails,statistics&id={channel_id}&key={api_key}'\n",
    "\n",
    "    response = requests.get(url_channel).json()\n",
    "\n",
    "    # Check if the response contains the channel data\n",
    "    if 'items' in response and len(response['items']) > 0:\n",
    "        item = response['items'][0]\n",
    "        channel_data = {\n",
    "            'channel_id': item['id'],\n",
    "            'title': item['snippet']['title'],\n",
    "            'description': item['snippet']['description'],\n",
    "            'published_at': item['snippet']['publishedAt'],\n",
    "            'subscriber_count': item['statistics'].get('subscriberCount'),\n",
    "            'video_count': item['statistics'].get('videoCount'),\n",
    "            'view_count': item['statistics'].get('viewCount')\n",
    "        }\n",
    "        if 'country' in item['snippet'].keys():\n",
    "            channel_data['region'] = item['snippet']['country']\n",
    "        else:\n",
    "            channel_data['region'] = None\n",
    "        return channel_data\n",
    "    else:\n",
    "        print(\"No channel data found.\")\n",
    "        return None"
   ]
  },
  {
   "cell_type": "code",
   "execution_count": 182,
   "metadata": {},
   "outputs": [],
   "source": [
    "channel_id_list = set(df_video_ai['channelId'])"
   ]
  },
  {
   "cell_type": "code",
   "execution_count": 183,
   "metadata": {},
   "outputs": [],
   "source": [
    "channel_data_list = [get_channel_data(api_key, id) for id in channel_id_list]"
   ]
  },
  {
   "cell_type": "code",
   "execution_count": 186,
   "metadata": {},
   "outputs": [],
   "source": [
    "df_channel_data = pd.DataFrame(channel_data_list)\n",
    "df_channel_data.to_csv('../data/raw_data/df_channel_data_ai.csv', index=False)"
   ]
  },
  {
   "cell_type": "code",
   "execution_count": 185,
   "metadata": {},
   "outputs": [
    {
     "data": {
      "image/png": "[encoded data removed]",
      "text/plain": [
       "<Figure size 864x576 with 1 Axes>"
      ]
     },
     "metadata": {
      "needs_background": "light"
     },
     "output_type": "display_data"
    }
   ],
   "source": [
    "plt.figure(figsize=(12,8))\n",
    "df_channel_data['region'].value_counts().plot(kind='bar')\n",
    "plt.show();"
   ]
  }
 ],
 "metadata": {
  "kernelspec": {
   "display_name": "Python 3",
   "language": "python",
   "name": "python3"
  },
  "language_info": {
   "codemirror_mode": {
    "name": "ipython",
    "version": 3
   },
   "file_extension": ".py",
   "mimetype": "text/x-python",
   "name": "python",
   "nbconvert_exporter": "python",
   "pygments_lexer": "ipython3",
   "version": "3.10.12"
  }
 },
 "nbformat": 4,
 "nbformat_minor": 2
}
