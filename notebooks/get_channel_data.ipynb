{
 "cells": [
  {
   "cell_type": "code",
   "execution_count": 7,
   "metadata": {},
   "outputs": [],
   "source": [
    "import requests\n",
    "import pandas as pd\n",
    "pd.set_option('display.max_columns', None)\n",
    "pd.set_option('display.max_rows', None)\n",
    "\n",
    "import numpy as np\n",
    "import matplotlib.pyplot as plt\n",
    "import time"
   ]
  },
  {
   "cell_type": "code",
   "execution_count": 8,
   "metadata": {},
   "outputs": [],
   "source": [
    "# Specify the path to your .txt file\n",
    "api_path = \"../keys/api_key_youtube.txt\"\n",
    "\n",
    "api_key_number = 1\n",
    "\n",
    "# Get api_key text\n",
    "with open(api_path, 'r') as file:\n",
    "    api_key = str(file.read()).split('\\n')[api_key_number].split(':')[1].strip()"
   ]
  },
  {
   "cell_type": "code",
   "execution_count": 9,
   "metadata": {},
   "outputs": [],
   "source": [
    "# Load videos dataframe\n",
    "df_videos = pd.read_csv(f'../data/raw_data/df_video_data.csv')\n",
    "\n",
    "# Get channel id not duplicated\n",
    "channel_id_list = list(df_videos['channelId'].drop_duplicates())"
   ]
  },
  {
   "cell_type": "code",
   "execution_count": 10,
   "metadata": {},
   "outputs": [
    {
     "data": {
      "text/plain": [
       "'UCCeQ32Ia-07gh07Ee3cnl7Q'"
      ]
     },
     "execution_count": 10,
     "metadata": {},
     "output_type": "execute_result"
    }
   ],
   "source": [
    "channel_id_list[413]"
   ]
  },
  {
   "cell_type": "markdown",
   "metadata": {},
   "source": [
    "# Get Channel Data"
   ]
  },
  {
   "cell_type": "code",
   "execution_count": 11,
   "metadata": {},
   "outputs": [],
   "source": [
    "def get_channel_data(api_key, channel_id):\n",
    "    url_channel = f'https://youtube.googleapis.com/youtube/v3/channels?part=snippet,contentDetails,statistics&id={channel_id}&key={api_key}'\n",
    "\n",
    "    response = requests.get(url_channel).json()\n",
    "\n",
    "    # Check if the response contains the channel data\n",
    "    if 'items' in response and len(response['items']) > 0:\n",
    "        item = response['items'][0]\n",
    "        channel_data = {\n",
    "            'channel_id': item['id'],\n",
    "            'title': item['snippet']['title'],\n",
    "            'description': item['snippet']['description'],\n",
    "            'published_at': item['snippet']['publishedAt'],\n",
    "            'subscriber_count': item['statistics'].get('subscriberCount'),\n",
    "            'video_count': item['statistics'].get('videoCount'),\n",
    "            'view_count': item['statistics'].get('viewCount')\n",
    "        }\n",
    "        if 'country' in item['snippet'].keys():\n",
    "            channel_data['region'] = item['snippet']['country']\n",
    "        else:\n",
    "            channel_data['region'] = None\n",
    "        return channel_data\n",
    "    else:\n",
    "        print(\"No channel data found.\")\n",
    "        return None"
   ]
  },
  {
   "cell_type": "code",
   "execution_count": 12,
   "metadata": {},
   "outputs": [],
   "source": [
    "channel_data_list = [get_channel_data(api_key, id) for id in channel_id_list]"
   ]
  },
  {
   "cell_type": "code",
   "execution_count": 13,
   "metadata": {},
   "outputs": [],
   "source": [
    "df_channel_data = pd.DataFrame(channel_data_list)\n",
    "df_channel_data.to_csv('../data/raw_data/df_channel_data.csv', index=False)"
   ]
  },
  {
   "cell_type": "code",
   "execution_count": 14,
   "metadata": {},
   "outputs": [
    {
     "data": {
      "image/png": "[encoded data removed]",
      "text/plain": [
       "<Figure size 864x576 with 1 Axes>"
      ]
     },
     "metadata": {
      "needs_background": "light"
     },
     "output_type": "display_data"
    }
   ],
   "source": [
    "plt.figure(figsize=(12,8))\n",
    "df_channel_data['region'].value_counts().plot(kind='bar')\n",
    "plt.show();"
   ]
  },
  {
   "cell_type": "markdown",
   "metadata": {},
   "source": [
    "# Get Commenters Channel Data"
   ]
  },
  {
   "cell_type": "code",
   "execution_count": 15,
   "metadata": {},
   "outputs": [
    {
     "name": "stdout",
     "output_type": "stream",
     "text": [
      "<class 'pandas.core.frame.DataFrame'>\n",
      "RangeIndex: 165497 entries, 0 to 165496\n",
      "Data columns (total 9 columns):\n",
      " #   Column             Non-Null Count   Dtype  \n",
      "---  ------             --------------   -----  \n",
      " 0   comment_id         165497 non-null  object \n",
      " 1   author             165497 non-null  object \n",
      " 2   author_channel_id  165497 non-null  object \n",
      " 3   text               165497 non-null  object \n",
      " 4   like_count         165497 non-null  int64  \n",
      " 5   published_at       165497 non-null  object \n",
      " 6   updated_at         165497 non-null  object \n",
      " 7   total_reply_count  165497 non-null  float64\n",
      " 8   video_id           165497 non-null  object \n",
      "dtypes: float64(1), int64(1), object(7)\n",
      "memory usage: 11.4+ MB\n"
     ]
    }
   ],
   "source": [
    "# Load video_comments datafram\n",
    "df_comments = pd.read_csv('../data/df_comments_video.csv')\n",
    "df_comments.info()"
   ]
  },
  {
   "cell_type": "code",
   "execution_count": 16,
   "metadata": {},
   "outputs": [],
   "source": [
    "commenters_id_list = list(df_comments['author_channel_id'].drop_duplicates())"
   ]
  }
 ],
 "metadata": {
  "kernelspec": {
   "display_name": "Python 3",
   "language": "python",
   "name": "python3"
  },
  "language_info": {
   "codemirror_mode": {
    "name": "ipython",
    "version": 3
   },
   "file_extension": ".py",
   "mimetype": "text/x-python",
   "name": "python",
   "nbconvert_exporter": "python",
   "pygments_lexer": "ipython3",
   "version": "3.10.12"
  }
 },
 "nbformat": 4,
 "nbformat_minor": 2
}
