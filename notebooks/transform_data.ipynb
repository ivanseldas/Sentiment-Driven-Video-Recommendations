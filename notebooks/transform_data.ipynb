{
 "cells": [
  {
   "cell_type": "code",
   "execution_count": 178,
   "metadata": {},
   "outputs": [],
   "source": [
    "import pandas as pd\n",
    "\n",
    "import numpy as np\n",
    "import matplotlib.pyplot as plt"
   ]
  },
  {
   "cell_type": "code",
   "execution_count": 2,
   "metadata": {},
   "outputs": [],
   "source": [
    "folder = '../data/raw_data/'\n",
    "\n",
    "df_categories = pd.read_csv(f'{folder}df_categories_ai.csv')\n",
    "df_comments = pd.read_csv(f'{folder}df_comments_video_ai.csv', engine='python', on_bad_lines='skip')\n",
    "df_transcript = pd.read_csv(f'{folder}df_transcript_original_ai.csv')\n",
    "df_videos = pd.read_csv(f'{folder}df_video_ai.csv')\n",
    "df_search = pd.read_csv(f'{folder}df_video_search_ids_ai.csv')\n",
    "df_channel = pd.read_csv(f'{folder}df_channel_data_ai.csv')"
   ]
  },
  {
   "cell_type": "markdown",
   "metadata": {},
   "source": [
    "# Clean df_channel_data"
   ]
  },
  {
   "cell_type": "code",
   "execution_count": 31,
   "metadata": {},
   "outputs": [
    {
     "name": "stdout",
     "output_type": "stream",
     "text": [
      "<class 'pandas.core.frame.DataFrame'>\n",
      "RangeIndex: 2010 entries, 0 to 2009\n",
      "Data columns (total 8 columns):\n",
      " #   Column            Non-Null Count  Dtype \n",
      "---  ------            --------------  ----- \n",
      " 0   channel_id        2010 non-null   object\n",
      " 1   title             2010 non-null   object\n",
      " 2   description       1857 non-null   object\n",
      " 3   published_at      2010 non-null   object\n",
      " 4   subscriber_count  2010 non-null   int64 \n",
      " 5   video_count       2010 non-null   int64 \n",
      " 6   view_count        2010 non-null   int64 \n",
      " 7   region            1583 non-null   object\n",
      "dtypes: int64(3), object(5)\n",
      "memory usage: 125.8+ KB\n"
     ]
    }
   ],
   "source": [
    "df_channel.info()"
   ]
  },
  {
   "cell_type": "code",
   "execution_count": 32,
   "metadata": {},
   "outputs": [
    {
     "name": "stdout",
     "output_type": "stream",
     "text": [
      "<class 'pandas.core.frame.DataFrame'>\n",
      "RangeIndex: 2010 entries, 0 to 2009\n",
      "Data columns (total 8 columns):\n",
      " #   Column            Non-Null Count  Dtype              \n",
      "---  ------            --------------  -----              \n",
      " 0   channel_id        2010 non-null   object             \n",
      " 1   title             2010 non-null   object             \n",
      " 2   description       1857 non-null   object             \n",
      " 3   published_at      2010 non-null   datetime64[ns, UTC]\n",
      " 4   subscriber_count  2010 non-null   int64              \n",
      " 5   video_count       2010 non-null   int64              \n",
      " 6   view_count        2010 non-null   int64              \n",
      " 7   region            1583 non-null   object             \n",
      "dtypes: datetime64[ns, UTC](1), int64(3), object(4)\n",
      "memory usage: 125.8+ KB\n"
     ]
    }
   ],
   "source": [
    "# Drop wrong fetch data \n",
    "df_channel.dropna(subset=['view_count'], inplace=True)\n",
    "\n",
    "# Change to datetime\n",
    "df_channel['published_at'] = pd.to_datetime(df_channel['published_at'], format='mixed')\n",
    "\n",
    "# Export cleaned data\n",
    "df_channel.to_csv('../data/clean_data/df_channel_data.csv', index=False)\n",
    "\n",
    "# Show info cleaned\n",
    "df_channel.info()"
   ]
  },
  {
   "cell_type": "markdown",
   "metadata": {},
   "source": [
    "# Clean df_video_data"
   ]
  },
  {
   "cell_type": "code",
   "execution_count": 33,
   "metadata": {},
   "outputs": [
    {
     "name": "stdout",
     "output_type": "stream",
     "text": [
      "<class 'pandas.core.frame.DataFrame'>\n",
      "RangeIndex: 2711 entries, 0 to 2710\n",
      "Data columns (total 16 columns):\n",
      " #   Column          Non-Null Count  Dtype \n",
      "---  ------          --------------  ----- \n",
      " 0   videoId         2711 non-null   object\n",
      " 1   title           2711 non-null   object\n",
      " 2   channelId       2711 non-null   object\n",
      " 3   description     2535 non-null   object\n",
      " 4   publishedAt     2711 non-null   object\n",
      " 5   thumbnail_url   2711 non-null   object\n",
      " 6   tags            2711 non-null   object\n",
      " 7   live_broadcast  2711 non-null   object\n",
      " 8   categoryId      2711 non-null   int64 \n",
      " 9   viewCount       2711 non-null   int64 \n",
      " 10  likeCount       2711 non-null   int64 \n",
      " 11  commentCount    2711 non-null   int64 \n",
      " 12  licensed        2711 non-null   bool  \n",
      " 13  duration        2711 non-null   object\n",
      " 14  caption         2711 non-null   bool  \n",
      " 15  language        2711 non-null   object\n",
      "dtypes: bool(2), int64(4), object(10)\n",
      "memory usage: 301.9+ KB\n"
     ]
    }
   ],
   "source": [
    "df_videos.info()"
   ]
  },
  {
   "cell_type": "code",
   "execution_count": 34,
   "metadata": {},
   "outputs": [
    {
     "name": "stdout",
     "output_type": "stream",
     "text": [
      "<class 'pandas.core.frame.DataFrame'>\n",
      "RangeIndex: 2711 entries, 0 to 2710\n",
      "Data columns (total 15 columns):\n",
      " #   Column         Non-Null Count  Dtype \n",
      "---  ------         --------------  ----- \n",
      " 0   videoId        2711 non-null   object\n",
      " 1   title          2711 non-null   object\n",
      " 2   channelId      2711 non-null   object\n",
      " 3   description    2535 non-null   object\n",
      " 4   publishedAt    2711 non-null   object\n",
      " 5   thumbnail_url  2711 non-null   object\n",
      " 6   tags           2711 non-null   object\n",
      " 7   categoryId     2711 non-null   int64 \n",
      " 8   viewCount      2711 non-null   int64 \n",
      " 9   likeCount      2711 non-null   int64 \n",
      " 10  commentCount   2711 non-null   int64 \n",
      " 11  licensed       2711 non-null   bool  \n",
      " 12  duration       2711 non-null   int64 \n",
      " 13  caption        2711 non-null   bool  \n",
      " 14  language       2711 non-null   object\n",
      "dtypes: bool(2), int64(5), object(8)\n",
      "memory usage: 280.8+ KB\n"
     ]
    }
   ],
   "source": [
    "import isodate\n",
    "\n",
    "# Remove duplicated video \n",
    "df_videos.drop_duplicates(subset=['videoId'], keep='first', inplace=True)\n",
    "\n",
    "# Convert ISO 8601 duration to a readable format (timedelta)\n",
    "def convert_duration(duration_str):\n",
    "    duration = isodate.parse_duration(duration_str)\n",
    "    return duration.seconds\n",
    "\n",
    "# Change duration to total seconds\n",
    "df_videos['duration'] = df_videos['duration'].apply(convert_duration)\n",
    "\n",
    "# Drop live broadcast column and Unnamed 0\n",
    "df_videos.drop(columns=['live_broadcast'], inplace=True)\n",
    "\n",
    "# Export the cleaned data\n",
    "df_videos.to_csv('../data/clean_data/df_video_data.csv', index=False)\n",
    "\n",
    "df_videos.info()"
   ]
  },
  {
   "cell_type": "markdown",
   "metadata": {},
   "source": [
    "# Clean df_comments_video"
   ]
  },
  {
   "cell_type": "code",
   "execution_count": 3,
   "metadata": {},
   "outputs": [
    {
     "name": "stdout",
     "output_type": "stream",
     "text": [
      "<class 'pandas.core.frame.DataFrame'>\n",
      "RangeIndex: 185382 entries, 0 to 185381\n",
      "Data columns (total 9 columns):\n",
      " #   Column             Non-Null Count   Dtype  \n",
      "---  ------             --------------   -----  \n",
      " 0   comment_id         185382 non-null  object \n",
      " 1   author             185003 non-null  object \n",
      " 2   author_channel_id  185109 non-null  object \n",
      " 3   text               185109 non-null  object \n",
      " 4   like_count         184944 non-null  float64\n",
      " 5   published_at       184944 non-null  object \n",
      " 6   updated_at         184779 non-null  object \n",
      " 7   totalReplyCount    184779 non-null  float64\n",
      " 8   video_id           184779 non-null  object \n",
      "dtypes: float64(2), object(7)\n",
      "memory usage: 12.7+ MB\n"
     ]
    },
    {
     "data": {
      "text/plain": [
       "comment_id             0\n",
       "author               379\n",
       "author_channel_id    273\n",
       "text                 273\n",
       "like_count           438\n",
       "published_at         438\n",
       "updated_at           603\n",
       "totalReplyCount      603\n",
       "video_id             603\n",
       "dtype: int64"
      ]
     },
     "execution_count": 3,
     "metadata": {},
     "output_type": "execute_result"
    }
   ],
   "source": [
    "df_comments.info()\n",
    "pd.isnull(df_comments).sum()"
   ]
  },
  {
   "cell_type": "code",
   "execution_count": 36,
   "metadata": {},
   "outputs": [
    {
     "name": "stdout",
     "output_type": "stream",
     "text": [
      "<class 'pandas.core.frame.DataFrame'>\n",
      "Index: 184673 entries, 0 to 185381\n",
      "Data columns (total 9 columns):\n",
      " #   Column             Non-Null Count   Dtype              \n",
      "---  ------             --------------   -----              \n",
      " 0   comment_id         184673 non-null  object             \n",
      " 1   author             184673 non-null  object             \n",
      " 2   author_channel_id  184673 non-null  object             \n",
      " 3   text               184673 non-null  object             \n",
      " 4   like_count         184673 non-null  float64            \n",
      " 5   published_at       184673 non-null  datetime64[ns, UTC]\n",
      " 6   updated_at         184673 non-null  datetime64[ns, UTC]\n",
      " 7   totalReplyCount    184673 non-null  float64            \n",
      " 8   video_id           184673 non-null  object             \n",
      "dtypes: datetime64[ns, UTC](2), float64(2), object(5)\n",
      "memory usage: 14.1+ MB\n"
     ]
    }
   ],
   "source": [
    "# Drop na values\n",
    "df_comments.dropna(inplace=True)\n",
    "\n",
    "# Transform data to correct type\n",
    "df_comments['like_count'] = df_comments['like_count'].astype('float64')\n",
    "df_comments['published_at'] = pd.to_datetime(df_comments['published_at'])\n",
    "df_comments['updated_at'] = pd.to_datetime(df_comments['updated_at'])\n",
    "\n",
    "# Export cleaned data\n",
    "df_comments.to_parquet('../data/clean_data/df_comments_video.parquet', index=False)\n",
    "\n",
    "df_comments.info()"
   ]
  },
  {
   "cell_type": "code",
   "execution_count": 37,
   "metadata": {},
   "outputs": [],
   "source": [
    "df_comments = pd.read_parquet('../data/clean_data/df_comments_video.parquet')"
   ]
  },
  {
   "cell_type": "markdown",
   "metadata": {},
   "source": [
    "# Clean df_transcript"
   ]
  },
  {
   "cell_type": "code",
   "execution_count": 5,
   "metadata": {},
   "outputs": [
    {
     "name": "stdout",
     "output_type": "stream",
     "text": [
      "<class 'pandas.core.frame.DataFrame'>\n",
      "RangeIndex: 1787 entries, 0 to 1786\n",
      "Data columns (total 3 columns):\n",
      " #   Column             Non-Null Count  Dtype \n",
      "---  ------             --------------  ----- \n",
      " 0   video_id           1787 non-null   object\n",
      " 1   original_language  1787 non-null   object\n",
      " 2   transcription      1787 non-null   object\n",
      "dtypes: object(3)\n",
      "memory usage: 42.0+ KB\n"
     ]
    }
   ],
   "source": [
    "df_transcript.info()"
   ]
  },
  {
   "cell_type": "code",
   "execution_count": 39,
   "metadata": {},
   "outputs": [
    {
     "name": "stdout",
     "output_type": "stream",
     "text": [
      "<class 'pandas.core.frame.DataFrame'>\n",
      "RangeIndex: 1787 entries, 0 to 1786\n",
      "Data columns (total 4 columns):\n",
      " #   Column             Non-Null Count  Dtype \n",
      "---  ------             --------------  ----- \n",
      " 0   video_id           1787 non-null   object\n",
      " 1   original_language  1787 non-null   object\n",
      " 2   transcription      1787 non-null   object\n",
      " 3   language           1787 non-null   object\n",
      "dtypes: object(4)\n",
      "memory usage: 56.0+ KB\n"
     ]
    }
   ],
   "source": [
    "# Drop duplicated values\n",
    "df_transcript.drop_duplicates(subset=['video_id'], inplace=True)\n",
    "\n",
    "# Cleaned language values\n",
    "def get_cleaned_name(str):\n",
    "    return str.split(' ')[0].strip().lower()\n",
    "\n",
    "df_transcript['language'] = df_transcript['original_language'].apply(get_cleaned_name)\n",
    "\n",
    "# Export dataframe\n",
    "df_transcript.to_csv('../data/clean_data/df_transcript_original.csv')\n",
    "\n",
    "df_transcript.info()"
   ]
  },
  {
   "cell_type": "markdown",
   "metadata": {},
   "source": [
    "# Load Clean Data"
   ]
  },
  {
   "cell_type": "code",
   "execution_count": 10,
   "metadata": {},
   "outputs": [],
   "source": [
    "folder = '../data/clean_data/'\n",
    "\n",
    "df_categories = pd.read_csv(f'{folder}df_categories.csv')\n",
    "df_comments = pd.read_parquet(f'{folder}df_comments_video.parquet')\n",
    "df_transcript = pd.read_csv(f'{folder}df_transcript_original.csv')\n",
    "df_videos = pd.read_csv(f'{folder}df_video_data.csv')\n",
    "df_channel = pd.read_csv(f'{folder}df_channel_data.csv')"
   ]
  },
  {
   "cell_type": "markdown",
   "metadata": {},
   "source": [
    "# Normalize comments and transcriptions"
   ]
  },
  {
   "cell_type": "code",
   "execution_count": 13,
   "metadata": {},
   "outputs": [
    {
     "name": "stderr",
     "output_type": "stream",
     "text": [
      "[nltk_data] Downloading package wordnet to\n",
      "[nltk_data]     /home/ivanseldasp/nltk_data...\n",
      "[nltk_data]   Package wordnet is already up-to-date!\n",
      "[nltk_data] Downloading package stopwords to\n",
      "[nltk_data]     /home/ivanseldasp/nltk_data...\n",
      "[nltk_data]   Package stopwords is already up-to-date!\n"
     ]
    }
   ],
   "source": [
    "import nltk\n",
    "from nltk.corpus import stopwords\n",
    "from nltk.stem import WordNetLemmatizer\n",
    "import string\n",
    "\n",
    "# Descargar recursos de NLTK si no están descargados\n",
    "nltk.download('wordnet')\n",
    "nltk.download('stopwords')\n",
    "\n",
    "# Inicializar el lematizador en inglés\n",
    "lemmatizer = WordNetLemmatizer()\n",
    "\n",
    "# Cargar las stopwords en inglés\n",
    "stop_words = set(stopwords.words('english'))\n",
    "\n",
    "def preprocess_text(text):\n",
    "\n",
    "    text = text.lower()\n",
    "    text = text.translate(str.maketrans('', '', string.punctuation))\n",
    "    text = ' '.join([lemmatizer.lemmatize(word) for word in text.split() if word not in stop_words])\n",
    "    return text"
   ]
  },
  {
   "cell_type": "code",
   "execution_count": 14,
   "metadata": {},
   "outputs": [],
   "source": [
    "# Apply function to english comments\n",
    "df_comments['clean_text'] = df_comments[df_comments['language'] == 'en']['text'].apply(preprocess_text)"
   ]
  },
  {
   "cell_type": "code",
   "execution_count": 15,
   "metadata": {},
   "outputs": [],
   "source": [
    "# Load transcript data\n",
    "df_transcript = pd.read_csv('../data/clean_data/df_transcript_original.csv')\n",
    "\n",
    "# Preprocess transcripts\n",
    "df_transcript['clean_text'] = df_transcript[df_transcript['original_language'] == 'English (auto-generated)']['transcription'].apply(preprocess_text)"
   ]
  },
  {
   "cell_type": "code",
   "execution_count": 16,
   "metadata": {},
   "outputs": [
    {
     "data": {
      "text/plain": [
       "0       music thank hello everyone hope great era ai w...\n",
       "1       number three music facebook enacted emergency ...\n",
       "2       series going introduce deep learning least per...\n",
       "3       earn money ai part two let go want create kind...\n",
       "4       current medical science run option doctor dont...\n",
       "                              ...                        \n",
       "1782    machine learning big data changing econometric...\n",
       "1783    music applause thanks much hadley thank coming...\n",
       "1784                                                  NaN\n",
       "1785    happened last year made urgent long time worki...\n",
       "1786    there saying go great power come great respons...\n",
       "Name: clean_text, Length: 1787, dtype: object"
      ]
     },
     "execution_count": 16,
     "metadata": {},
     "output_type": "execute_result"
    }
   ],
   "source": [
    "df_transcript['clean_text']"
   ]
  },
  {
   "cell_type": "markdown",
   "metadata": {},
   "source": [
    "# Translate Comments to English"
   ]
  },
  {
   "cell_type": "code",
   "execution_count": 58,
   "metadata": {},
   "outputs": [
    {
     "data": {
      "text/plain": [
       "Text(0.5, 1.0, 'Videos with n_comments')"
      ]
     },
     "execution_count": 58,
     "metadata": {},
     "output_type": "execute_result"
    },
    {
     "data": {
      "image/png": "[encoded data removed]",
      "text/plain": [
       "<Figure size 864x576 with 1 Axes>"
      ]
     },
     "metadata": {
      "needs_background": "light"
     },
     "output_type": "display_data"
    }
   ],
   "source": [
    "import seaborn as sns\n",
    "\n",
    "plt.figure(figsize=(12,8))\n",
    "sns.histplot(df_comments['video_id'].value_counts(), bins=100, kde=False)\n",
    "plt.xlabel('Number of comments per video')\n",
    "plt.ylabel('Number of videos')\n",
    "plt.title('Videos with n_comments')"
   ]
  },
  {
   "cell_type": "code",
   "execution_count": 5,
   "metadata": {},
   "outputs": [],
   "source": [
    "from langdetect import detect, DetectorFactory, LangDetectException\n",
    "from nltk.corpus import stopwords\n",
    "\n",
    "# Create a column with language detected\n",
    "def detect_language(text):\n",
    "    try:\n",
    "        # Verificar si el texto es lo suficientemente largo\n",
    "        if len(text.strip()) == 0:\n",
    "            return None\n",
    "        # Intentar detectar el idioma\n",
    "        language = detect(text)\n",
    "        return language\n",
    "    except LangDetectException:\n",
    "        # Si el texto es demasiado corto o no se puede detectar el idioma, devolver None\n",
    "        return None"
   ]
  },
  {
   "cell_type": "code",
   "execution_count": 56,
   "metadata": {},
   "outputs": [],
   "source": [
    "# df_comments['language'] = df_comments['text'].apply(detect_language)"
   ]
  },
  {
   "cell_type": "code",
   "execution_count": 59,
   "metadata": {},
   "outputs": [],
   "source": [
    "df_comments.to_parquet('../data/clean_data/df_comments_video.parquet', index=False)"
   ]
  },
  {
   "cell_type": "code",
   "execution_count": 71,
   "metadata": {},
   "outputs": [
    {
     "data": {
      "image/png": "[encoded data removed]",
      "text/plain": [
       "<Figure size 1440x720 with 1 Axes>"
      ]
     },
     "metadata": {},
     "output_type": "display_data"
    }
   ],
   "source": [
    "plt.figure(figsize=(20,10))\n",
    "df_comments['language'].value_counts().plot(kind='pie', autopct='%1.1f%%')\n",
    "plt.xlabel('Language')\n",
    "plt.ylabel('Total Comments')\n",
    "plt.title('Comments per Languagee')\n",
    "plt.show();"
   ]
  },
  {
   "cell_type": "markdown",
   "metadata": {},
   "source": [
    "# Translate all non-english comments to english"
   ]
  },
  {
   "cell_type": "code",
   "execution_count": 73,
   "metadata": {},
   "outputs": [],
   "source": [
    "from deep_translator import GoogleTranslator\n",
    "\n",
    "def translate_text(text, target_language='en'):\n",
    "    translator = GoogleTranslator(source='auto', target=target_language)\n",
    "    return translator.translate(text)"
   ]
  },
  {
   "cell_type": "code",
   "execution_count": 79,
   "metadata": {},
   "outputs": [],
   "source": [
    "# Translate non-english comments to english\n",
    "# df_comments['translation'] = df_comments[df_comments['language'] != 'en']['text'].apply(translate_text)"
   ]
  },
  {
   "cell_type": "code",
   "execution_count": 122,
   "metadata": {},
   "outputs": [
    {
     "data": {
      "text/plain": [
       "0       great video,helpful.\n",
       "10                   Awesome\n",
       "11      ultimate information\n",
       "15            important one.\n",
       "20       very fruitful video\n",
       "22                 Excellent\n",
       "24                     great\n",
       "27                   amazing\n",
       "29    Alhamdulillah. perfect\n",
       "31            highly amazing\n",
       "Name: text, dtype: object"
      ]
     },
     "execution_count": 122,
     "metadata": {},
     "output_type": "execute_result"
    }
   ],
   "source": [
    "df_comments[df_comments['language'] != 'en']['text'].iloc[:10].apply(translate_text)"
   ]
  },
  {
   "cell_type": "markdown",
   "metadata": {},
   "source": [
    "# Sentiment Analysis Comments from HuggingFace models"
   ]
  },
  {
   "cell_type": "code",
   "execution_count": 7,
   "metadata": {},
   "outputs": [],
   "source": [
    "df_comments = pd.read_parquet('../data/clean_data/df_comments_video.parquet')"
   ]
  },
  {
   "cell_type": "code",
   "execution_count": 11,
   "metadata": {},
   "outputs": [
    {
     "name": "stderr",
     "output_type": "stream",
     "text": [
      "/home/ivanseldasp/.local/lib/python3.10/site-packages/transformers/tokenization_utils_base.py:1601: FutureWarning: `clean_up_tokenization_spaces` was not set. It will be set to `True` by default. This behavior will be depracted in transformers v4.45, and will be then set to `False` by default. For more details check this issue: https://github.com/huggingface/transformers/issues/31884\n",
      "  warnings.warn(\n"
     ]
    },
    {
     "data": {
      "text/html": [
       "<div>\n",
       "<style scoped>\n",
       "    .dataframe tbody tr th:only-of-type {\n",
       "        vertical-align: middle;\n",
       "    }\n",
       "\n",
       "    .dataframe tbody tr th {\n",
       "        vertical-align: top;\n",
       "    }\n",
       "\n",
       "    .dataframe thead th {\n",
       "        text-align: right;\n",
       "    }\n",
       "</style>\n",
       "<table border=\"1\" class=\"dataframe\">\n",
       "  <thead>\n",
       "    <tr style=\"text-align: right;\">\n",
       "      <th></th>\n",
       "      <th>comment</th>\n",
       "      <th>sentiment</th>\n",
       "    </tr>\n",
       "  </thead>\n",
       "  <tbody>\n",
       "    <tr>\n",
       "      <th>0</th>\n",
       "      <td>great video,helpful.</td>\n",
       "      <td>5</td>\n",
       "    </tr>\n",
       "    <tr>\n",
       "      <th>1</th>\n",
       "      <td>Thank you for such well explained video tutorial</td>\n",
       "      <td>5</td>\n",
       "    </tr>\n",
       "    <tr>\n",
       "      <th>2</th>\n",
       "      <td>very useful tools , thanks for sharing this in...</td>\n",
       "      <td>5</td>\n",
       "    </tr>\n",
       "    <tr>\n",
       "      <th>3</th>\n",
       "      <td>This is great information and a terrific use o...</td>\n",
       "      <td>5</td>\n",
       "    </tr>\n",
       "    <tr>\n",
       "      <th>4</th>\n",
       "      <td>first two are not goof but all other AI id the...</td>\n",
       "      <td>5</td>\n",
       "    </tr>\n",
       "    <tr>\n",
       "      <th>5</th>\n",
       "      <td>Informative</td>\n",
       "      <td>4</td>\n",
       "    </tr>\n",
       "    <tr>\n",
       "      <th>6</th>\n",
       "      <td>I am 66 years old and very elementary in techn...</td>\n",
       "      <td>5</td>\n",
       "    </tr>\n",
       "    <tr>\n",
       "      <th>7</th>\n",
       "      <td>more informative and awesome for researchers</td>\n",
       "      <td>5</td>\n",
       "    </tr>\n",
       "    <tr>\n",
       "      <th>8</th>\n",
       "      <td>Thanks for creating and sharing these video.</td>\n",
       "      <td>5</td>\n",
       "    </tr>\n",
       "    <tr>\n",
       "      <th>9</th>\n",
       "      <td>nice narration and proper info about useful AI...</td>\n",
       "      <td>4</td>\n",
       "    </tr>\n",
       "  </tbody>\n",
       "</table>\n",
       "</div>"
      ],
      "text/plain": [
       "                                             comment  sentiment\n",
       "0                               great video,helpful.          5\n",
       "1   Thank you for such well explained video tutorial          5\n",
       "2  very useful tools , thanks for sharing this in...          5\n",
       "3  This is great information and a terrific use o...          5\n",
       "4  first two are not goof but all other AI id the...          5\n",
       "5                                        Informative          4\n",
       "6  I am 66 years old and very elementary in techn...          5\n",
       "7       more informative and awesome for researchers          5\n",
       "8       Thanks for creating and sharing these video.          5\n",
       "9  nice narration and proper info about useful AI...          4"
      ]
     },
     "execution_count": 11,
     "metadata": {},
     "output_type": "execute_result"
    }
   ],
   "source": [
    "from googletrans import Translator\n",
    "from transformers import AutoTokenizer, RobertaModel\n",
    "import torch\n",
    "\n",
    "# Use a pipeline as a high-level helper\n",
    "from transformers import pipeline\n",
    "pipe = pipeline(\"text-classification\", model=\"nlptown/bert-base-multilingual-uncased-sentiment\")\n",
    "translator = Translator()\n",
    "\n",
    "# Ejemplo de comentarios\n",
    "comments = df_comments.head(10)['text']\n",
    "\n",
    "# Función para traducir y analizar el sentimiento\n",
    "def analizar_sentimiento(text):\n",
    "    # Traducir comentario al inglés\n",
    "    translated = translate_text(text)\n",
    "    # Analizar sentimiento\n",
    "    resultado = pipe(translated)[0]\n",
    "    return int(resultado['label'][0])\n",
    "\n",
    "# Aplicar análisis a cada comentario\n",
    "results = [analizar_sentimiento(text) for text in comments]\n",
    "\n",
    "# Crear un DataFrame\n",
    "df = pd.DataFrame({'comment': comments, 'sentiment': results})\n",
    "df.head(10)"
   ]
  },
  {
   "cell_type": "code",
   "execution_count": 44,
   "metadata": {},
   "outputs": [
    {
     "data": {
      "text/plain": [
       "'Its Hard to decode but i try it.<br><br><b>*Bob: &quot;i can i i everything else&quot;*</b><br>- Bob is likely indicating that it can take on everything else not explicitly mentioned. The repetition of &quot;i&quot; might be a way to emphasize its willingness or capacity.<br><br><b>*Alice: &quot;balls have zero to me to me to me to me to me to me to me to&quot;*</b><br>- Alice is suggesting that balls (or a specific item) have no value to her. The repetition of &quot;to me&quot; reinforces that these items are not beneficial or needed by her.<br><br><b>*Bob: &quot;you i i everything else&quot;*</b><br>- Bob is proposing that Alice can take certain items while it will take everything else.<br><br><b>*Alice: &quot;balls have a ball to me to me to me to me to me to me to me to&quot;*</b><br>- Alice is now indicating that the balls (or a specific item) have some value (&quot;a ball&quot;) to her, though it’s still not clear how much.<br><br><b>*Bob: &quot;i i can i i everything else&quot;*</b><br>- Bob reiterates its initial offer or stance, possibly to restate or reinforce its position.<br><br><b>*Alice: &quot;balls have a ball to me to me to me to me to me to me to me to&quot;*</b><br>- Alice again emphasizes that balls (or a specific item) have value to her, perhaps indicating she wants to negotiate further for these items.<br><br><b>*Bob: &quot;i . . . . . . . . . . . . . . . . . . . . .&quot;*</b><br>- This might indicate a pause or consideration, or it could be a placeholder for Bob waiting for more information or a response.<br><br><b>*Alice: &quot;balls have zero to me to me to me to me to me to me to me to&quot;*</b><br>- Alice is returning to her original stance, perhaps negotiating by re-emphasizing that the balls have no value to her.<br><br><b>*Bob: &quot;you i i i i everything else&quot;*</b><br>- Bob is insisting on its proposed split, perhaps with more emphasis on its willingness to take on the remaining items.<br><br><b>*Alice: &quot;balls have 0 to me to me to me to me to me to me to me to&quot;*</b><br>- Alice again states that the balls have zero value to her, using &quot;0&quot; this time to clarify.<br><br><b>*Bob: &quot;you i i i everything else&quot;*</b><br>- Bob repeats its proposal, consistent in its negotiation stance.<br><br><b>*Alice: &quot;balls have zero to me to me to me to me to me to me to me to&quot;*</b><br>- Alice repeats her position, indicating no value for the balls to her.<br><br>- **Bob**: Willing to take on everything else if Alice takes the specific items (likely with zero value to her).<br>- **Alice**: Indicating that certain items (balls) have no value to her or very little value.'"
      ]
     },
     "execution_count": 44,
     "metadata": {},
     "output_type": "execute_result"
    }
   ],
   "source": [
    "df_comments['text'][236]"
   ]
  },
  {
   "cell_type": "code",
   "execution_count": 45,
   "metadata": {},
   "outputs": [
    {
     "name": "stderr",
     "output_type": "stream",
     "text": [
      "/home/ivanseldasp/.local/lib/python3.10/site-packages/transformers/tokenization_utils_base.py:1601: FutureWarning: `clean_up_tokenization_spaces` was not set. It will be set to `True` by default. This behavior will be depracted in transformers v4.45, and will be then set to `False` by default. For more details check this issue: https://github.com/huggingface/transformers/issues/31884\n",
      "  warnings.warn(\n"
     ]
    }
   ],
   "source": [
    "# Get the emotions of the comments\n",
    "from transformers import pipeline\n",
    "\n",
    "classifier = pipeline(task=\"text-classification\", model=\"SamLowe/roberta-base-go_emotions\", top_k=None)\n",
    "\n",
    "sentences = df_comments.iloc[236]['text']\n",
    "\n",
    "model_outputs = [classifier(sentence) for sentence in sentences]"
   ]
  }
 ],
 "metadata": {
  "kernelspec": {
   "display_name": "Python 3",
   "language": "python",
   "name": "python3"
  },
  "language_info": {
   "codemirror_mode": {
    "name": "ipython",
    "version": 3
   },
   "file_extension": ".py",
   "mimetype": "text/x-python",
   "name": "python",
   "nbconvert_exporter": "python",
   "pygments_lexer": "ipython3",
   "version": "3.10.12"
  }
 },
 "nbformat": 4,
 "nbformat_minor": 2
}
