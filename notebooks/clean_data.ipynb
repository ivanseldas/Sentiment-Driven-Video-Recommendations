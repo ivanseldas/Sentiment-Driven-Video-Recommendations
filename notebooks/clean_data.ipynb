{
 "cells": [
  {
   "cell_type": "code",
   "execution_count": 29,
   "metadata": {},
   "outputs": [],
   "source": [
    "import pandas as pd\n",
    "import numpy as np\n",
    "import matplotlib.pyplot as plt"
   ]
  },
  {
   "cell_type": "code",
   "execution_count": 30,
   "metadata": {},
   "outputs": [],
   "source": [
    "folder = '../data/raw_data/'\n",
    "\n",
    "df_categories = pd.read_csv(f'{folder}df_categories_ai.csv')\n",
    "df_comments = pd.read_csv(f'{folder}df_comments_video_ai.csv', engine='python', on_bad_lines='skip')\n",
    "df_transcript = pd.read_csv(f'{folder}df_transcript_original_ai.csv')\n",
    "df_videos = pd.read_csv(f'{folder}df_video_ai.csv')\n",
    "df_search = pd.read_csv(f'{folder}df_video_search_ids_ai.csv')\n",
    "df_channel = pd.read_csv(f'{folder}df_channel_data_ai.csv')"
   ]
  },
  {
   "cell_type": "markdown",
   "metadata": {},
   "source": [
    "# Clean df_channel_data"
   ]
  },
  {
   "cell_type": "code",
   "execution_count": 31,
   "metadata": {},
   "outputs": [
    {
     "name": "stdout",
     "output_type": "stream",
     "text": [
      "<class 'pandas.core.frame.DataFrame'>\n",
      "RangeIndex: 2010 entries, 0 to 2009\n",
      "Data columns (total 8 columns):\n",
      " #   Column            Non-Null Count  Dtype \n",
      "---  ------            --------------  ----- \n",
      " 0   channel_id        2010 non-null   object\n",
      " 1   title             2010 non-null   object\n",
      " 2   description       1857 non-null   object\n",
      " 3   published_at      2010 non-null   object\n",
      " 4   subscriber_count  2010 non-null   int64 \n",
      " 5   video_count       2010 non-null   int64 \n",
      " 6   view_count        2010 non-null   int64 \n",
      " 7   region            1583 non-null   object\n",
      "dtypes: int64(3), object(5)\n",
      "memory usage: 125.8+ KB\n"
     ]
    }
   ],
   "source": [
    "df_channel.info()"
   ]
  },
  {
   "cell_type": "code",
   "execution_count": 32,
   "metadata": {},
   "outputs": [
    {
     "name": "stdout",
     "output_type": "stream",
     "text": [
      "<class 'pandas.core.frame.DataFrame'>\n",
      "RangeIndex: 2010 entries, 0 to 2009\n",
      "Data columns (total 8 columns):\n",
      " #   Column            Non-Null Count  Dtype              \n",
      "---  ------            --------------  -----              \n",
      " 0   channel_id        2010 non-null   object             \n",
      " 1   title             2010 non-null   object             \n",
      " 2   description       1857 non-null   object             \n",
      " 3   published_at      2010 non-null   datetime64[ns, UTC]\n",
      " 4   subscriber_count  2010 non-null   int64              \n",
      " 5   video_count       2010 non-null   int64              \n",
      " 6   view_count        2010 non-null   int64              \n",
      " 7   region            1583 non-null   object             \n",
      "dtypes: datetime64[ns, UTC](1), int64(3), object(4)\n",
      "memory usage: 125.8+ KB\n"
     ]
    }
   ],
   "source": [
    "# Drop wrong fetch data \n",
    "df_channel.dropna(subset=['view_count'], inplace=True)\n",
    "\n",
    "# Change to datetime\n",
    "df_channel['published_at'] = pd.to_datetime(df_channel['published_at'], format='mixed')\n",
    "\n",
    "# Export cleaned data\n",
    "df_channel.to_csv('../data/clean_data/df_channel_data.csv', index=False)\n",
    "\n",
    "# Show info cleaned\n",
    "df_channel.info()"
   ]
  },
  {
   "cell_type": "markdown",
   "metadata": {},
   "source": [
    "# Clean df_video_data"
   ]
  },
  {
   "cell_type": "code",
   "execution_count": 33,
   "metadata": {},
   "outputs": [
    {
     "name": "stdout",
     "output_type": "stream",
     "text": [
      "<class 'pandas.core.frame.DataFrame'>\n",
      "RangeIndex: 2711 entries, 0 to 2710\n",
      "Data columns (total 16 columns):\n",
      " #   Column          Non-Null Count  Dtype \n",
      "---  ------          --------------  ----- \n",
      " 0   videoId         2711 non-null   object\n",
      " 1   title           2711 non-null   object\n",
      " 2   channelId       2711 non-null   object\n",
      " 3   description     2535 non-null   object\n",
      " 4   publishedAt     2711 non-null   object\n",
      " 5   thumbnail_url   2711 non-null   object\n",
      " 6   tags            2711 non-null   object\n",
      " 7   live_broadcast  2711 non-null   object\n",
      " 8   categoryId      2711 non-null   int64 \n",
      " 9   viewCount       2711 non-null   int64 \n",
      " 10  likeCount       2711 non-null   int64 \n",
      " 11  commentCount    2711 non-null   int64 \n",
      " 12  licensed        2711 non-null   bool  \n",
      " 13  duration        2711 non-null   object\n",
      " 14  caption         2711 non-null   bool  \n",
      " 15  language        2711 non-null   object\n",
      "dtypes: bool(2), int64(4), object(10)\n",
      "memory usage: 301.9+ KB\n"
     ]
    }
   ],
   "source": [
    "df_videos.info()"
   ]
  },
  {
   "cell_type": "code",
   "execution_count": 34,
   "metadata": {},
   "outputs": [
    {
     "name": "stdout",
     "output_type": "stream",
     "text": [
      "<class 'pandas.core.frame.DataFrame'>\n",
      "RangeIndex: 2711 entries, 0 to 2710\n",
      "Data columns (total 15 columns):\n",
      " #   Column         Non-Null Count  Dtype \n",
      "---  ------         --------------  ----- \n",
      " 0   videoId        2711 non-null   object\n",
      " 1   title          2711 non-null   object\n",
      " 2   channelId      2711 non-null   object\n",
      " 3   description    2535 non-null   object\n",
      " 4   publishedAt    2711 non-null   object\n",
      " 5   thumbnail_url  2711 non-null   object\n",
      " 6   tags           2711 non-null   object\n",
      " 7   categoryId     2711 non-null   int64 \n",
      " 8   viewCount      2711 non-null   int64 \n",
      " 9   likeCount      2711 non-null   int64 \n",
      " 10  commentCount   2711 non-null   int64 \n",
      " 11  licensed       2711 non-null   bool  \n",
      " 12  duration       2711 non-null   int64 \n",
      " 13  caption        2711 non-null   bool  \n",
      " 14  language       2711 non-null   object\n",
      "dtypes: bool(2), int64(5), object(8)\n",
      "memory usage: 280.8+ KB\n"
     ]
    }
   ],
   "source": [
    "import isodate\n",
    "\n",
    "# Remove duplicated video \n",
    "df_videos.drop_duplicates(subset=['videoId'], keep='first', inplace=True)\n",
    "\n",
    "# Convert ISO 8601 duration to a readable format (timedelta)\n",
    "def convert_duration(duration_str):\n",
    "    duration = isodate.parse_duration(duration_str)\n",
    "    return duration.seconds\n",
    "\n",
    "# Change duration to total seconds\n",
    "df_videos['duration'] = df_videos['duration'].apply(convert_duration)\n",
    "\n",
    "# Drop live broadcast column and Unnamed 0\n",
    "df_videos.drop(columns=['live_broadcast'], inplace=True)\n",
    "\n",
    "# Export the cleaned data\n",
    "df_videos.to_csv('../data/clean_data/df_video_data.csv', index=False)\n",
    "\n",
    "df_videos.info()"
   ]
  },
  {
   "cell_type": "markdown",
   "metadata": {},
   "source": [
    "# Clean df_comments_video"
   ]
  },
  {
   "cell_type": "code",
   "execution_count": 35,
   "metadata": {},
   "outputs": [
    {
     "name": "stdout",
     "output_type": "stream",
     "text": [
      "<class 'pandas.core.frame.DataFrame'>\n",
      "RangeIndex: 185382 entries, 0 to 185381\n",
      "Data columns (total 9 columns):\n",
      " #   Column             Non-Null Count   Dtype  \n",
      "---  ------             --------------   -----  \n",
      " 0   comment_id         185382 non-null  object \n",
      " 1   author             185003 non-null  object \n",
      " 2   author_channel_id  185109 non-null  object \n",
      " 3   text               185109 non-null  object \n",
      " 4   like_count         184944 non-null  float64\n",
      " 5   published_at       184944 non-null  object \n",
      " 6   updated_at         184779 non-null  object \n",
      " 7   totalReplyCount    184779 non-null  float64\n",
      " 8   video_id           184779 non-null  object \n",
      "dtypes: float64(2), object(7)\n",
      "memory usage: 12.7+ MB\n"
     ]
    },
    {
     "data": {
      "text/plain": [
       "comment_id             0\n",
       "author               379\n",
       "author_channel_id    273\n",
       "text                 273\n",
       "like_count           438\n",
       "published_at         438\n",
       "updated_at           603\n",
       "totalReplyCount      603\n",
       "video_id             603\n",
       "dtype: int64"
      ]
     },
     "execution_count": 35,
     "metadata": {},
     "output_type": "execute_result"
    }
   ],
   "source": [
    "df_comments.info()\n",
    "pd.isnull(df_comments).sum()"
   ]
  },
  {
   "cell_type": "code",
   "execution_count": 36,
   "metadata": {},
   "outputs": [
    {
     "name": "stdout",
     "output_type": "stream",
     "text": [
      "<class 'pandas.core.frame.DataFrame'>\n",
      "Index: 184673 entries, 0 to 185381\n",
      "Data columns (total 9 columns):\n",
      " #   Column             Non-Null Count   Dtype              \n",
      "---  ------             --------------   -----              \n",
      " 0   comment_id         184673 non-null  object             \n",
      " 1   author             184673 non-null  object             \n",
      " 2   author_channel_id  184673 non-null  object             \n",
      " 3   text               184673 non-null  object             \n",
      " 4   like_count         184673 non-null  float64            \n",
      " 5   published_at       184673 non-null  datetime64[ns, UTC]\n",
      " 6   updated_at         184673 non-null  datetime64[ns, UTC]\n",
      " 7   totalReplyCount    184673 non-null  float64            \n",
      " 8   video_id           184673 non-null  object             \n",
      "dtypes: datetime64[ns, UTC](2), float64(2), object(5)\n",
      "memory usage: 14.1+ MB\n"
     ]
    }
   ],
   "source": [
    "# Drop na values\n",
    "df_comments.dropna(inplace=True)\n",
    "\n",
    "# Transform data to correct type\n",
    "df_comments['like_count'] = df_comments['like_count'].astype('float64')\n",
    "df_comments['published_at'] = pd.to_datetime(df_comments['published_at'])\n",
    "df_comments['updated_at'] = pd.to_datetime(df_comments['updated_at'])\n",
    "\n",
    "# Export cleaned data\n",
    "df_comments.to_parquet('../data/clean_data/df_comments_video.parquet', index=False)\n",
    "\n",
    "df_comments.info()"
   ]
  },
  {
   "cell_type": "code",
   "execution_count": 37,
   "metadata": {},
   "outputs": [],
   "source": [
    "df_comments = pd.read_parquet('../data/clean_data/df_comments_video.parquet')"
   ]
  },
  {
   "cell_type": "markdown",
   "metadata": {},
   "source": [
    "# Clean df_transcript"
   ]
  },
  {
   "cell_type": "code",
   "execution_count": 38,
   "metadata": {},
   "outputs": [
    {
     "name": "stdout",
     "output_type": "stream",
     "text": [
      "<class 'pandas.core.frame.DataFrame'>\n",
      "RangeIndex: 1787 entries, 0 to 1786\n",
      "Data columns (total 3 columns):\n",
      " #   Column             Non-Null Count  Dtype \n",
      "---  ------             --------------  ----- \n",
      " 0   video_id           1787 non-null   object\n",
      " 1   original_language  1787 non-null   object\n",
      " 2   transcription      1787 non-null   object\n",
      "dtypes: object(3)\n",
      "memory usage: 42.0+ KB\n"
     ]
    }
   ],
   "source": [
    "df_transcript.info()"
   ]
  },
  {
   "cell_type": "code",
   "execution_count": 39,
   "metadata": {},
   "outputs": [
    {
     "name": "stdout",
     "output_type": "stream",
     "text": [
      "<class 'pandas.core.frame.DataFrame'>\n",
      "RangeIndex: 1787 entries, 0 to 1786\n",
      "Data columns (total 4 columns):\n",
      " #   Column             Non-Null Count  Dtype \n",
      "---  ------             --------------  ----- \n",
      " 0   video_id           1787 non-null   object\n",
      " 1   original_language  1787 non-null   object\n",
      " 2   transcription      1787 non-null   object\n",
      " 3   language           1787 non-null   object\n",
      "dtypes: object(4)\n",
      "memory usage: 56.0+ KB\n"
     ]
    }
   ],
   "source": [
    "# Drop duplicated values\n",
    "df_transcript.drop_duplicates(subset=['video_id'], inplace=True)\n",
    "\n",
    "# Cleaned language values\n",
    "def get_cleaned_name(str):\n",
    "    return str.split(' ')[0].strip().lower()\n",
    "\n",
    "df_transcript['language'] = df_transcript['original_language'].apply(get_cleaned_name)\n",
    "\n",
    "# Export dataframe\n",
    "df_transcript.to_csv('../data/clean_data/df_transcript_original.csv')\n",
    "\n",
    "df_transcript.info()"
   ]
  },
  {
   "cell_type": "markdown",
   "metadata": {},
   "source": [
    "# Normalize text by language"
   ]
  },
  {
   "cell_type": "code",
   "execution_count": 40,
   "metadata": {},
   "outputs": [],
   "source": [
    "from langdetect import detect, DetectorFactory, LangDetectException\n",
    "from nltk.corpus import stopwords\n",
    "\n",
    "# Create a column with language detected\n",
    "def detect_language(text):\n",
    "    try:\n",
    "        # Verificar si el texto es lo suficientemente largo\n",
    "        if len(text.strip()) == 0:\n",
    "            return None\n",
    "        # Intentar detectar el idioma\n",
    "        language = detect(text)\n",
    "        return language\n",
    "    except LangDetectException:\n",
    "        # Si el texto es demasiado corto o no se puede detectar el idioma, devolver None\n",
    "        return None"
   ]
  },
  {
   "cell_type": "code",
   "execution_count": 41,
   "metadata": {},
   "outputs": [],
   "source": [
    "# Remove specific stopwords from each langua\n",
    "def remove_stopwords(text, language):\n",
    "    stop_words = set(stopwords.words(language))\n",
    "    return ' '.join([word for word in text.split() if word not in stop_words])\n",
    "\n",
    "df_transcript['transcription_normalized'] = df_transcript[df_transcript['language'] == 'english'].apply(lambda x: remove_stopwords(x['transcription'], x['language']), axis=1)"
   ]
  },
  {
   "cell_type": "code",
   "execution_count": 42,
   "metadata": {},
   "outputs": [
    {
     "data": {
      "text/plain": [
       "0       [Music] thank hello everyone I hope great era ...\n",
       "1       number three [Music] Facebook enacted emergenc...\n",
       "2       series we're going introduce deep learning lea...\n",
       "3       earn money AI part two let go want create kind...\n",
       "4       current Medical Science run options doctors kn...\n",
       "                              ...                        \n",
       "1782    machine learning big data changing econometric...\n",
       "1783    [Music] [Applause] thanks much Hadley thank co...\n",
       "1784                                                  NaN\n",
       "1785    happened last year made urgent long time I wor...\n",
       "1786    there's saying goes great power comes great re...\n",
       "Name: transcription_normalized, Length: 1787, dtype: object"
      ]
     },
     "execution_count": 42,
     "metadata": {},
     "output_type": "execute_result"
    }
   ],
   "source": [
    "df_transcript['transcription_normalized']"
   ]
  },
  {
   "cell_type": "markdown",
   "metadata": {},
   "source": [
    "# Translate Comments to English"
   ]
  },
  {
   "cell_type": "code",
   "execution_count": 43,
   "metadata": {},
   "outputs": [
    {
     "data": {
      "text/html": [
       "<div>\n",
       "<style scoped>\n",
       "    .dataframe tbody tr th:only-of-type {\n",
       "        vertical-align: middle;\n",
       "    }\n",
       "\n",
       "    .dataframe tbody tr th {\n",
       "        vertical-align: top;\n",
       "    }\n",
       "\n",
       "    .dataframe thead th {\n",
       "        text-align: right;\n",
       "    }\n",
       "</style>\n",
       "<table border=\"1\" class=\"dataframe\">\n",
       "  <thead>\n",
       "    <tr style=\"text-align: right;\">\n",
       "      <th></th>\n",
       "      <th>comment_id</th>\n",
       "      <th>author</th>\n",
       "      <th>author_channel_id</th>\n",
       "      <th>text</th>\n",
       "      <th>like_count</th>\n",
       "      <th>published_at</th>\n",
       "      <th>updated_at</th>\n",
       "      <th>totalReplyCount</th>\n",
       "      <th>video_id</th>\n",
       "    </tr>\n",
       "  </thead>\n",
       "  <tbody>\n",
       "    <tr>\n",
       "      <th>0</th>\n",
       "      <td>UgxqJ2eO2p7w2NEvB2p4AaABAg</td>\n",
       "      <td>@emmanuelamama1991</td>\n",
       "      <td>UCdUooL3DTt3Wj0M3xRnAC3Q</td>\n",
       "      <td>great video,helpful.</td>\n",
       "      <td>1.0</td>\n",
       "      <td>2024-08-17 13:07:48+00:00</td>\n",
       "      <td>2024-08-17 13:07:48+00:00</td>\n",
       "      <td>1.0</td>\n",
       "      <td>qtlUwwtvuEg</td>\n",
       "    </tr>\n",
       "    <tr>\n",
       "      <th>1</th>\n",
       "      <td>UgzmXwaNzivNHqjfR5l4AaABAg</td>\n",
       "      <td>@dr.alexshayo6972</td>\n",
       "      <td>UCN56M0YoTn18rd_KBFL0QGg</td>\n",
       "      <td>Thank you for such well explained video tutorial</td>\n",
       "      <td>4.0</td>\n",
       "      <td>2023-05-01 14:48:21+00:00</td>\n",
       "      <td>2023-05-01 14:48:21+00:00</td>\n",
       "      <td>1.0</td>\n",
       "      <td>qtlUwwtvuEg</td>\n",
       "    </tr>\n",
       "    <tr>\n",
       "      <th>2</th>\n",
       "      <td>UgyySzt4xOZ1hKdS97x4AaABAg</td>\n",
       "      <td>@mohdkashif4596</td>\n",
       "      <td>UCr5Ua5AsmM6phaRu3dBU1qg</td>\n",
       "      <td>very useful tools , thanks for sharing this in...</td>\n",
       "      <td>2.0</td>\n",
       "      <td>2023-07-20 11:33:23+00:00</td>\n",
       "      <td>2023-07-20 11:33:23+00:00</td>\n",
       "      <td>1.0</td>\n",
       "      <td>qtlUwwtvuEg</td>\n",
       "    </tr>\n",
       "    <tr>\n",
       "      <th>3</th>\n",
       "      <td>UgyHVo-IOZw_-uLb-wh4AaABAg</td>\n",
       "      <td>@pipedrmmr</td>\n",
       "      <td>UC5KmDvJCDtoM31gjpGcdYLQ</td>\n",
       "      <td>This is great information and a terrific use o...</td>\n",
       "      <td>13.0</td>\n",
       "      <td>2023-06-25 00:36:50+00:00</td>\n",
       "      <td>2023-06-25 00:36:50+00:00</td>\n",
       "      <td>1.0</td>\n",
       "      <td>qtlUwwtvuEg</td>\n",
       "    </tr>\n",
       "    <tr>\n",
       "      <th>4</th>\n",
       "      <td>UgyIT65ucXCc-4loBEx4AaABAg</td>\n",
       "      <td>@anamnaz2527</td>\n",
       "      <td>UCriCWejgmnsDkaX77-Ay8Hw</td>\n",
       "      <td>first two are not goof but all other AI id the...</td>\n",
       "      <td>1.0</td>\n",
       "      <td>2023-05-31 16:41:21+00:00</td>\n",
       "      <td>2023-05-31 16:41:21+00:00</td>\n",
       "      <td>1.0</td>\n",
       "      <td>qtlUwwtvuEg</td>\n",
       "    </tr>\n",
       "  </tbody>\n",
       "</table>\n",
       "</div>"
      ],
      "text/plain": [
       "                   comment_id              author         author_channel_id  \\\n",
       "0  UgxqJ2eO2p7w2NEvB2p4AaABAg  @emmanuelamama1991  UCdUooL3DTt3Wj0M3xRnAC3Q   \n",
       "1  UgzmXwaNzivNHqjfR5l4AaABAg   @dr.alexshayo6972  UCN56M0YoTn18rd_KBFL0QGg   \n",
       "2  UgyySzt4xOZ1hKdS97x4AaABAg     @mohdkashif4596  UCr5Ua5AsmM6phaRu3dBU1qg   \n",
       "3  UgyHVo-IOZw_-uLb-wh4AaABAg          @pipedrmmr  UC5KmDvJCDtoM31gjpGcdYLQ   \n",
       "4  UgyIT65ucXCc-4loBEx4AaABAg        @anamnaz2527  UCriCWejgmnsDkaX77-Ay8Hw   \n",
       "\n",
       "                                                text  like_count  \\\n",
       "0                               great video,helpful.         1.0   \n",
       "1   Thank you for such well explained video tutorial         4.0   \n",
       "2  very useful tools , thanks for sharing this in...         2.0   \n",
       "3  This is great information and a terrific use o...        13.0   \n",
       "4  first two are not goof but all other AI id the...         1.0   \n",
       "\n",
       "               published_at                updated_at  totalReplyCount  \\\n",
       "0 2024-08-17 13:07:48+00:00 2024-08-17 13:07:48+00:00              1.0   \n",
       "1 2023-05-01 14:48:21+00:00 2023-05-01 14:48:21+00:00              1.0   \n",
       "2 2023-07-20 11:33:23+00:00 2023-07-20 11:33:23+00:00              1.0   \n",
       "3 2023-06-25 00:36:50+00:00 2023-06-25 00:36:50+00:00              1.0   \n",
       "4 2023-05-31 16:41:21+00:00 2023-05-31 16:41:21+00:00              1.0   \n",
       "\n",
       "      video_id  \n",
       "0  qtlUwwtvuEg  \n",
       "1  qtlUwwtvuEg  \n",
       "2  qtlUwwtvuEg  \n",
       "3  qtlUwwtvuEg  \n",
       "4  qtlUwwtvuEg  "
      ]
     },
     "execution_count": 43,
     "metadata": {},
     "output_type": "execute_result"
    }
   ],
   "source": [
    "df_comments.head()"
   ]
  },
  {
   "cell_type": "code",
   "execution_count": 44,
   "metadata": {},
   "outputs": [],
   "source": [
    "from langdetect import detect, DetectorFactory, LangDetectException\n",
    "from nltk.corpus import stopwords\n",
    "\n",
    "# Create a column with language detected\n",
    "def detect_language(text):\n",
    "    try:\n",
    "        # Verificar si el texto es lo suficientemente largo\n",
    "        if len(text.strip()) == 0:\n",
    "            return None\n",
    "        # Intentar detectar el idioma\n",
    "        language = detect(text)\n",
    "        return language\n",
    "    except LangDetectException:\n",
    "        # Si el texto es demasiado corto o no se puede detectar el idioma, devolver None\n",
    "        return None"
   ]
  },
  {
   "cell_type": "code",
   "execution_count": 45,
   "metadata": {},
   "outputs": [],
   "source": [
    "from deep_translator import GoogleTranslator\n",
    "\n",
    "def translate_text(text, target_language='en'):\n",
    "    translator = GoogleTranslator(source='auto', target=target_language)\n",
    "    return translator.translate(text)\n",
    "\n",
    "# Detect language\n",
    "\n",
    "df_test = df_comments[:1000].copy()\n",
    "df_test['language'] = df_test['text'].apply(detect_language)"
   ]
  },
  {
   "cell_type": "code",
   "execution_count": 46,
   "metadata": {},
   "outputs": [
    {
     "data": {
      "text/plain": [
       "'en'"
      ]
     },
     "execution_count": 46,
     "metadata": {},
     "output_type": "execute_result"
    }
   ],
   "source": [
    "df_test['language'][997]"
   ]
  },
  {
   "cell_type": "code",
   "execution_count": 47,
   "metadata": {},
   "outputs": [
    {
     "data": {
      "text/plain": [
       "'af'"
      ]
     },
     "execution_count": 47,
     "metadata": {},
     "output_type": "execute_result"
    }
   ],
   "source": [
    "language = detect(df_test['text'][10])\n",
    "language"
   ]
  },
  {
   "cell_type": "code",
   "execution_count": null,
   "metadata": {},
   "outputs": [
    {
     "data": {
      "text/plain": [
       "20                    Number 3❤❤❤\n",
       "21                  Moto Rizer...\n",
       "22                            1+👌\n",
       "23    unihertz lune smartphone 8g\n",
       "24              All very nice 👍👍👍\n",
       "Name: text, dtype: object"
      ]
     },
     "execution_count": 91,
     "metadata": {},
     "output_type": "execute_result"
    }
   ],
   "source": [
    "df_test['text'][20:25]"
   ]
  }
 ],
 "metadata": {
  "kernelspec": {
   "display_name": "Python 3",
   "language": "python",
   "name": "python3"
  },
  "language_info": {
   "codemirror_mode": {
    "name": "ipython",
    "version": 3
   },
   "file_extension": ".py",
   "mimetype": "text/x-python",
   "name": "python",
   "nbconvert_exporter": "python",
   "pygments_lexer": "ipython3",
   "version": "3.10.12"
  }
 },
 "nbformat": 4,
 "nbformat_minor": 2
}
