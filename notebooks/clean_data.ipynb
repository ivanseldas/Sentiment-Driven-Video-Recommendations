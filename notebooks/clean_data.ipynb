{
 "cells": [
  {
   "cell_type": "code",
   "execution_count": 545,
   "metadata": {},
   "outputs": [],
   "source": [
    "import pandas as pd\n",
    "import numpy as np\n",
    "import matplotlib.pyplot as plt"
   ]
  },
  {
   "cell_type": "code",
   "execution_count": 546,
   "metadata": {},
   "outputs": [
    {
     "name": "stderr",
     "output_type": "stream",
     "text": [
      "/tmp/ipykernel_10643/1966000850.py:4: DtypeWarning: Columns (5,8,10,12) have mixed types. Specify dtype option on import or set low_memory=False.\n",
      "  df_comments = pd.read_csv(f'{folder}df_comments_video.csv')\n"
     ]
    }
   ],
   "source": [
    "folder = '../data/raw_data/'\n",
    "\n",
    "df_categories = pd.read_csv(f'{folder}df_categories.csv')\n",
    "df_comments = pd.read_csv(f'{folder}df_comments_video.csv')\n",
    "df_transcript = pd.read_csv(f'{folder}df_transcript_original.csv')\n",
    "df_videos = pd.read_csv(f'{folder}df_video_data.csv')\n",
    "df_search = pd.read_csv(f'{folder}df_search_info.csv')\n",
    "df_channel = pd.read_csv(f'{folder}df_channel_data.csv')"
   ]
  },
  {
   "cell_type": "markdown",
   "metadata": {},
   "source": [
    "# Clean df_channel_data"
   ]
  },
  {
   "cell_type": "code",
   "execution_count": 547,
   "metadata": {},
   "outputs": [
    {
     "name": "stdout",
     "output_type": "stream",
     "text": [
      "<class 'pandas.core.frame.DataFrame'>\n",
      "RangeIndex: 639 entries, 0 to 638\n",
      "Data columns (total 8 columns):\n",
      " #   Column            Non-Null Count  Dtype  \n",
      "---  ------            --------------  -----  \n",
      " 0   channel_id        639 non-null    object \n",
      " 1   title             639 non-null    object \n",
      " 2   description       578 non-null    object \n",
      " 3   published_at      638 non-null    object \n",
      " 4   subscriber_count  638 non-null    float64\n",
      " 5   video_count       637 non-null    float64\n",
      " 6   view_count        637 non-null    float64\n",
      " 7   region            537 non-null    object \n",
      "dtypes: float64(3), object(5)\n",
      "memory usage: 40.1+ KB\n"
     ]
    }
   ],
   "source": [
    "df_channel.info()"
   ]
  },
  {
   "cell_type": "code",
   "execution_count": 548,
   "metadata": {},
   "outputs": [
    {
     "name": "stdout",
     "output_type": "stream",
     "text": [
      "<class 'pandas.core.frame.DataFrame'>\n",
      "Index: 637 entries, 0 to 638\n",
      "Data columns (total 8 columns):\n",
      " #   Column            Non-Null Count  Dtype              \n",
      "---  ------            --------------  -----              \n",
      " 0   channel_id        637 non-null    object             \n",
      " 1   title             637 non-null    object             \n",
      " 2   description       576 non-null    object             \n",
      " 3   published_at      637 non-null    datetime64[ns, UTC]\n",
      " 4   subscriber_count  637 non-null    float64            \n",
      " 5   video_count       637 non-null    float64            \n",
      " 6   view_count        637 non-null    float64            \n",
      " 7   region            537 non-null    object             \n",
      "dtypes: datetime64[ns, UTC](1), float64(3), object(4)\n",
      "memory usage: 44.8+ KB\n"
     ]
    }
   ],
   "source": [
    "# Drop wrong fetch data \n",
    "df_channel.dropna(subset=['view_count'], inplace=True)\n",
    "\n",
    "# Change to datetime\n",
    "df_channel['published_at'] = pd.to_datetime(df_channel['published_at'], format='mixed')\n",
    "\n",
    "# Export cleaned data\n",
    "df_channel.to_csv('../data/df_channel_data.csv', index=False)\n",
    "\n",
    "# Show info cleaned\n",
    "df_channel.info()"
   ]
  },
  {
   "cell_type": "markdown",
   "metadata": {},
   "source": [
    "# Clean df_video_data"
   ]
  },
  {
   "cell_type": "code",
   "execution_count": 549,
   "metadata": {},
   "outputs": [
    {
     "name": "stdout",
     "output_type": "stream",
     "text": [
      "<class 'pandas.core.frame.DataFrame'>\n",
      "RangeIndex: 1791 entries, 0 to 1790\n",
      "Data columns (total 16 columns):\n",
      " #   Column          Non-Null Count  Dtype \n",
      "---  ------          --------------  ----- \n",
      " 0   Unnamed: 0      1791 non-null   int64 \n",
      " 1   videoId         1791 non-null   object\n",
      " 2   title           1791 non-null   object\n",
      " 3   channelId       1791 non-null   object\n",
      " 4   description     1553 non-null   object\n",
      " 5   publishedAt     1791 non-null   object\n",
      " 6   thumbnail_url   1791 non-null   object\n",
      " 7   tags            1791 non-null   object\n",
      " 8   live_broadcast  1791 non-null   object\n",
      " 9   categoryId      1791 non-null   int64 \n",
      " 10  viewCount       1791 non-null   int64 \n",
      " 11  likeCount       1791 non-null   int64 \n",
      " 12  commentCount    1791 non-null   int64 \n",
      " 13  licensed        1791 non-null   bool  \n",
      " 14  duration        1791 non-null   object\n",
      " 15  caption         1791 non-null   bool  \n",
      "dtypes: bool(2), int64(5), object(9)\n",
      "memory usage: 199.5+ KB\n"
     ]
    }
   ],
   "source": [
    "df_videos.info()"
   ]
  },
  {
   "cell_type": "code",
   "execution_count": 550,
   "metadata": {},
   "outputs": [
    {
     "name": "stdout",
     "output_type": "stream",
     "text": [
      "<class 'pandas.core.frame.DataFrame'>\n",
      "Index: 1431 entries, 0 to 1790\n",
      "Data columns (total 14 columns):\n",
      " #   Column         Non-Null Count  Dtype \n",
      "---  ------         --------------  ----- \n",
      " 0   videoId        1431 non-null   object\n",
      " 1   title          1431 non-null   object\n",
      " 2   channelId      1431 non-null   object\n",
      " 3   description    1259 non-null   object\n",
      " 4   publishedAt    1431 non-null   object\n",
      " 5   thumbnail_url  1431 non-null   object\n",
      " 6   tags           1431 non-null   object\n",
      " 7   categoryId     1431 non-null   int64 \n",
      " 8   viewCount      1431 non-null   int64 \n",
      " 9   likeCount      1431 non-null   int64 \n",
      " 10  commentCount   1431 non-null   int64 \n",
      " 11  licensed       1431 non-null   bool  \n",
      " 12  duration       1431 non-null   int64 \n",
      " 13  caption        1431 non-null   bool  \n",
      "dtypes: bool(2), int64(5), object(7)\n",
      "memory usage: 148.1+ KB\n"
     ]
    }
   ],
   "source": [
    "import isodate\n",
    "\n",
    "# Remove duplicated video \n",
    "df_videos.drop_duplicates(subset=['videoId'], keep='first', inplace=True)\n",
    "\n",
    "# Convert ISO 8601 duration to a readable format (timedelta)\n",
    "def convert_duration(duration_str):\n",
    "    duration = isodate.parse_duration(duration_str)\n",
    "    return duration.seconds\n",
    "\n",
    "# Change duration to total seconds\n",
    "df_videos['duration'] = df_videos['duration'].apply(convert_duration)\n",
    "\n",
    "# Drop live broadcast column and Unnamed 0\n",
    "df_videos.drop(columns=['Unnamed: 0','live_broadcast'], inplace=True)\n",
    "\n",
    "# Export the cleaned data\n",
    "df_videos.to_csv('../data/df_video_data.csv', index=False)\n",
    "\n",
    "df_videos.info()"
   ]
  },
  {
   "cell_type": "markdown",
   "metadata": {},
   "source": [
    "# Clean df_comments_video"
   ]
  },
  {
   "cell_type": "code",
   "execution_count": 551,
   "metadata": {},
   "outputs": [
    {
     "name": "stdout",
     "output_type": "stream",
     "text": [
      "<class 'pandas.core.frame.DataFrame'>\n",
      "RangeIndex: 165684 entries, 0 to 165683\n",
      "Data columns (total 14 columns):\n",
      " #   Column             Non-Null Count   Dtype  \n",
      "---  ------             --------------   -----  \n",
      " 0   comment_id         165684 non-null  object \n",
      " 1   kind               165683 non-null  object \n",
      " 2   author             165535 non-null  object \n",
      " 3   author_channel_id  165683 non-null  object \n",
      " 4   text               165647 non-null  object \n",
      " 5   like_count         165682 non-null  object \n",
      " 6   published_at       165682 non-null  object \n",
      " 7   updated_at         165682 non-null  object \n",
      " 8   can_rate           165682 non-null  object \n",
      " 9   viewer_rating      165682 non-null  object \n",
      " 10  can_reply          165681 non-null  object \n",
      " 11  total_reply_count  165681 non-null  float64\n",
      " 12  is_public          165681 non-null  object \n",
      " 13  video_id           165681 non-null  object \n",
      "dtypes: float64(1), object(13)\n",
      "memory usage: 17.7+ MB\n"
     ]
    }
   ],
   "source": [
    "df_comments.info()"
   ]
  },
  {
   "cell_type": "code",
   "execution_count": 552,
   "metadata": {},
   "outputs": [
    {
     "name": "stdout",
     "output_type": "stream",
     "text": [
      "<class 'pandas.core.frame.DataFrame'>\n",
      "Index: 165497 entries, 0 to 165683\n",
      "Data columns (total 9 columns):\n",
      " #   Column             Non-Null Count   Dtype              \n",
      "---  ------             --------------   -----              \n",
      " 0   comment_id         165497 non-null  object             \n",
      " 1   author             165497 non-null  object             \n",
      " 2   author_channel_id  165497 non-null  object             \n",
      " 3   text               165497 non-null  object             \n",
      " 4   like_count         165497 non-null  float64            \n",
      " 5   published_at       165497 non-null  datetime64[ns, UTC]\n",
      " 6   updated_at         165497 non-null  datetime64[ns, UTC]\n",
      " 7   total_reply_count  165497 non-null  float64            \n",
      " 8   video_id           165497 non-null  object             \n",
      "dtypes: datetime64[ns, UTC](2), float64(2), object(5)\n",
      "memory usage: 12.6+ MB\n"
     ]
    }
   ],
   "source": [
    "# Drop unnecessary data\n",
    "df_comments.drop(columns=['viewer_rating', 'can_rate', 'can_reply', 'is_public', 'kind'], inplace=True)\n",
    "\n",
    "# Drop na values\n",
    "df_comments.dropna(inplace=True)\n",
    "\n",
    "# Transform data to correct type\n",
    "df_comments['like_count'] = df_comments['like_count'].astype('float64')\n",
    "df_comments['published_at'] = pd.to_datetime(df_comments['published_at'])\n",
    "df_comments['updated_at'] = pd.to_datetime(df_comments['updated_at'])\n",
    "\n",
    "# Export cleaned data\n",
    "df_comments.to_csv('../data/df_comments_video.csv', index=False)\n",
    "\n",
    "df_comments.info()"
   ]
  },
  {
   "cell_type": "markdown",
   "metadata": {},
   "source": [
    "# Clean df_transcript"
   ]
  },
  {
   "cell_type": "code",
   "execution_count": 553,
   "metadata": {},
   "outputs": [
    {
     "name": "stdout",
     "output_type": "stream",
     "text": [
      "<class 'pandas.core.frame.DataFrame'>\n",
      "RangeIndex: 1652 entries, 0 to 1651\n",
      "Data columns (total 3 columns):\n",
      " #   Column             Non-Null Count  Dtype \n",
      "---  ------             --------------  ----- \n",
      " 0   video_id           1652 non-null   object\n",
      " 1   original_language  1652 non-null   object\n",
      " 2   transcription      1652 non-null   object\n",
      "dtypes: object(3)\n",
      "memory usage: 38.8+ KB\n"
     ]
    }
   ],
   "source": [
    "df_transcript.info()"
   ]
  },
  {
   "cell_type": "code",
   "execution_count": 580,
   "metadata": {},
   "outputs": [
    {
     "name": "stdout",
     "output_type": "stream",
     "text": [
      "<class 'pandas.core.frame.DataFrame'>\n",
      "Index: 1325 entries, 0 to 1651\n",
      "Data columns (total 5 columns):\n",
      " #   Column             Non-Null Count  Dtype \n",
      "---  ------             --------------  ----- \n",
      " 0   video_id           1325 non-null   object\n",
      " 1   original_language  1325 non-null   object\n",
      " 2   transcription      1325 non-null   object\n",
      " 3   language           1325 non-null   object\n",
      " 4   language_detect    1325 non-null   object\n",
      "dtypes: object(5)\n",
      "memory usage: 94.4+ KB\n"
     ]
    }
   ],
   "source": [
    "# Drop duplicated values\n",
    "df_transcript.drop_duplicates(subset=['video_id'], inplace=True)\n",
    "\n",
    "# Cleaned language values\n",
    "def get_cleaned_name(str):\n",
    "    return str.split(' ')[0].strip().lower()\n",
    "\n",
    "df_transcript['language'] = df_transcript['original_language'].apply(get_cleaned_name)\n",
    "\n",
    "# Export dataframe\n",
    "df_transcript.to_csv('../data/df_transcript_original.csv')\n",
    "\n",
    "df_transcript.info()"
   ]
  },
  {
   "cell_type": "markdown",
   "metadata": {},
   "source": [
    "# Normalize text by language"
   ]
  },
  {
   "cell_type": "code",
   "execution_count": 581,
   "metadata": {},
   "outputs": [],
   "source": [
    "from langdetect import detect\n",
    "from nltk.corpus import stopwords\n",
    "\n",
    "# Create a column with language detected\n",
    "df_transcript['language_detect'] = df_transcript['transcription'].apply(detect)"
   ]
  },
  {
   "cell_type": "code",
   "execution_count": 582,
   "metadata": {},
   "outputs": [
    {
     "data": {
      "text/plain": [
       "0         hindi\n",
       "1       english\n",
       "2       english\n",
       "3       english\n",
       "4       english\n",
       "         ...   \n",
       "1647    spanish\n",
       "1648    english\n",
       "1649    spanish\n",
       "1650    english\n",
       "1651    english\n",
       "Name: language, Length: 1325, dtype: object"
      ]
     },
     "execution_count": 582,
     "metadata": {},
     "output_type": "execute_result"
    }
   ],
   "source": [
    "df_transcript['language']"
   ]
  },
  {
   "cell_type": "code",
   "execution_count": 604,
   "metadata": {},
   "outputs": [],
   "source": [
    "# Remove specific stopwords from each langua\n",
    "def remove_stopwords(text, language):\n",
    "    stop_words = set(stopwords.words(language))\n",
    "    return ' '.join([word for word in text.split() if word not in stop_words])\n",
    "\n",
    "df_transcript['transcription_normalized'] = df_transcript[df_transcript['language'] == 'english'].apply(lambda x: remove_stopwords(x['transcription'], x['language']), axis=1)"
   ]
  },
  {
   "cell_type": "code",
   "execution_count": 605,
   "metadata": {},
   "outputs": [
    {
     "data": {
      "text/plain": [
       "0                                                     NaN\n",
       "1       ten years ago samsung released trailer concept...\n",
       "2       smartphone market 2023 definitely lows highs t...\n",
       "3       [Music] right welcome smartphone Awards 2023 l...\n",
       "4       year finally shaken smartphone markets we've n...\n",
       "                              ...                        \n",
       "1647                                                  NaN\n",
       "1648    perfect hey guys let's compare specs newly rel...\n",
       "1649                                                  NaN\n",
       "1650    [Music] 2022 number smartphones launched 25 00...\n",
       "1651                        skip skip game get good thank\n",
       "Name: transcription_normalized, Length: 1325, dtype: object"
      ]
     },
     "execution_count": 605,
     "metadata": {},
     "output_type": "execute_result"
    }
   ],
   "source": [
    "df_transcript['transcription_normalized']"
   ]
  }
 ],
 "metadata": {
  "kernelspec": {
   "display_name": "Python 3",
   "language": "python",
   "name": "python3"
  },
  "language_info": {
   "codemirror_mode": {
    "name": "ipython",
    "version": 3
   },
   "file_extension": ".py",
   "mimetype": "text/x-python",
   "name": "python",
   "nbconvert_exporter": "python",
   "pygments_lexer": "ipython3",
   "version": "3.10.12"
  }
 },
 "nbformat": 4,
 "nbformat_minor": 2
}
