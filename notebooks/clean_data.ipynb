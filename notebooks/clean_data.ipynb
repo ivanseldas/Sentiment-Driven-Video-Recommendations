{
 "cells": [
  {
   "cell_type": "code",
   "execution_count": 30,
   "metadata": {},
   "outputs": [],
   "source": [
    "import pandas as pd\n",
    "import numpy as np\n",
    "import matplotlib.pyplot as plt"
   ]
  },
  {
   "cell_type": "code",
   "execution_count": 31,
   "metadata": {},
   "outputs": [
    {
     "name": "stderr",
     "output_type": "stream",
     "text": [
      "/tmp/ipykernel_373/1966000850.py:4: DtypeWarning: Columns (5,8,10,12) have mixed types. Specify dtype option on import or set low_memory=False.\n",
      "  df_comments = pd.read_csv(f'{folder}df_comments_video.csv')\n"
     ]
    }
   ],
   "source": [
    "folder = '../data/raw_data/'\n",
    "\n",
    "df_categories = pd.read_csv(f'{folder}df_categories.csv')\n",
    "df_comments = pd.read_csv(f'{folder}df_comments_video.csv')\n",
    "df_transcript = pd.read_csv(f'{folder}df_transcript_original.csv')\n",
    "df_videos = pd.read_csv(f'{folder}df_video_data.csv')\n",
    "df_search = pd.read_csv(f'{folder}df_search_info.csv')\n",
    "df_channel = pd.read_csv(f'{folder}df_channel_data.csv')"
   ]
  },
  {
   "cell_type": "markdown",
   "metadata": {},
   "source": [
    "# Clean df_channel_data"
   ]
  },
  {
   "cell_type": "code",
   "execution_count": 32,
   "metadata": {},
   "outputs": [
    {
     "name": "stdout",
     "output_type": "stream",
     "text": [
      "<class 'pandas.core.frame.DataFrame'>\n",
      "RangeIndex: 639 entries, 0 to 638\n",
      "Data columns (total 8 columns):\n",
      " #   Column            Non-Null Count  Dtype  \n",
      "---  ------            --------------  -----  \n",
      " 0   channel_id        639 non-null    object \n",
      " 1   title             639 non-null    object \n",
      " 2   description       578 non-null    object \n",
      " 3   published_at      638 non-null    object \n",
      " 4   subscriber_count  638 non-null    float64\n",
      " 5   video_count       637 non-null    float64\n",
      " 6   view_count        637 non-null    float64\n",
      " 7   region            537 non-null    object \n",
      "dtypes: float64(3), object(5)\n",
      "memory usage: 40.1+ KB\n"
     ]
    }
   ],
   "source": [
    "df_channel.info()"
   ]
  },
  {
   "cell_type": "code",
   "execution_count": 33,
   "metadata": {},
   "outputs": [
    {
     "name": "stdout",
     "output_type": "stream",
     "text": [
      "<class 'pandas.core.frame.DataFrame'>\n",
      "Index: 637 entries, 0 to 638\n",
      "Data columns (total 8 columns):\n",
      " #   Column            Non-Null Count  Dtype              \n",
      "---  ------            --------------  -----              \n",
      " 0   channel_id        637 non-null    object             \n",
      " 1   title             637 non-null    object             \n",
      " 2   description       576 non-null    object             \n",
      " 3   published_at      637 non-null    datetime64[ns, UTC]\n",
      " 4   subscriber_count  637 non-null    float64            \n",
      " 5   video_count       637 non-null    float64            \n",
      " 6   view_count        637 non-null    float64            \n",
      " 7   region            537 non-null    object             \n",
      "dtypes: datetime64[ns, UTC](1), float64(3), object(4)\n",
      "memory usage: 44.8+ KB\n"
     ]
    }
   ],
   "source": [
    "# Drop wrong fetch data \n",
    "df_channel.dropna(subset=['view_count'], inplace=True)\n",
    "\n",
    "# Change to datetime\n",
    "df_channel['published_at'] = pd.to_datetime(df_channel['published_at'], format='mixed')\n",
    "\n",
    "# Export cleaned data\n",
    "df_channel.to_csv('../data/df_channel_data.csv', index=False)\n",
    "\n",
    "# Show info cleaned\n",
    "df_channel.info()"
   ]
  },
  {
   "cell_type": "markdown",
   "metadata": {},
   "source": [
    "# Clean df_video_data"
   ]
  },
  {
   "cell_type": "code",
   "execution_count": 34,
   "metadata": {},
   "outputs": [
    {
     "name": "stdout",
     "output_type": "stream",
     "text": [
      "<class 'pandas.core.frame.DataFrame'>\n",
      "RangeIndex: 1791 entries, 0 to 1790\n",
      "Data columns (total 16 columns):\n",
      " #   Column          Non-Null Count  Dtype \n",
      "---  ------          --------------  ----- \n",
      " 0   Unnamed: 0      1791 non-null   int64 \n",
      " 1   videoId         1791 non-null   object\n",
      " 2   title           1791 non-null   object\n",
      " 3   channelId       1791 non-null   object\n",
      " 4   description     1553 non-null   object\n",
      " 5   publishedAt     1791 non-null   object\n",
      " 6   thumbnail_url   1791 non-null   object\n",
      " 7   tags            1791 non-null   object\n",
      " 8   live_broadcast  1791 non-null   object\n",
      " 9   categoryId      1791 non-null   int64 \n",
      " 10  viewCount       1791 non-null   int64 \n",
      " 11  likeCount       1791 non-null   int64 \n",
      " 12  commentCount    1791 non-null   int64 \n",
      " 13  licensed        1791 non-null   bool  \n",
      " 14  duration        1791 non-null   object\n",
      " 15  caption         1791 non-null   bool  \n",
      "dtypes: bool(2), int64(5), object(9)\n",
      "memory usage: 199.5+ KB\n"
     ]
    }
   ],
   "source": [
    "df_videos.info()"
   ]
  },
  {
   "cell_type": "code",
   "execution_count": 35,
   "metadata": {},
   "outputs": [
    {
     "name": "stdout",
     "output_type": "stream",
     "text": [
      "<class 'pandas.core.frame.DataFrame'>\n",
      "Index: 1431 entries, 0 to 1790\n",
      "Data columns (total 14 columns):\n",
      " #   Column         Non-Null Count  Dtype \n",
      "---  ------         --------------  ----- \n",
      " 0   videoId        1431 non-null   object\n",
      " 1   title          1431 non-null   object\n",
      " 2   channelId      1431 non-null   object\n",
      " 3   description    1259 non-null   object\n",
      " 4   publishedAt    1431 non-null   object\n",
      " 5   thumbnail_url  1431 non-null   object\n",
      " 6   tags           1431 non-null   object\n",
      " 7   categoryId     1431 non-null   int64 \n",
      " 8   viewCount      1431 non-null   int64 \n",
      " 9   likeCount      1431 non-null   int64 \n",
      " 10  commentCount   1431 non-null   int64 \n",
      " 11  licensed       1431 non-null   bool  \n",
      " 12  duration       1431 non-null   int64 \n",
      " 13  caption        1431 non-null   bool  \n",
      "dtypes: bool(2), int64(5), object(7)\n",
      "memory usage: 148.1+ KB\n"
     ]
    }
   ],
   "source": [
    "import isodate\n",
    "\n",
    "# Remove duplicated video \n",
    "df_videos.drop_duplicates(subset=['videoId'], keep='first', inplace=True)\n",
    "\n",
    "# Convert ISO 8601 duration to a readable format (timedelta)\n",
    "def convert_duration(duration_str):\n",
    "    duration = isodate.parse_duration(duration_str)\n",
    "    return duration.seconds\n",
    "\n",
    "# Change duration to total seconds\n",
    "df_videos['duration'] = df_videos['duration'].apply(convert_duration)\n",
    "\n",
    "# Drop live broadcast column and Unnamed 0\n",
    "df_videos.drop(columns=['Unnamed: 0','live_broadcast'], inplace=True)\n",
    "\n",
    "# Export the cleaned data\n",
    "df_videos.to_csv('../data/df_video_data.csv', index=False)\n",
    "\n",
    "df_videos.info()"
   ]
  },
  {
   "cell_type": "markdown",
   "metadata": {},
   "source": [
    "# Clean df_comments_video"
   ]
  },
  {
   "cell_type": "code",
   "execution_count": 36,
   "metadata": {},
   "outputs": [
    {
     "name": "stdout",
     "output_type": "stream",
     "text": [
      "<class 'pandas.core.frame.DataFrame'>\n",
      "RangeIndex: 229246 entries, 0 to 229245\n",
      "Data columns (total 14 columns):\n",
      " #   Column             Non-Null Count   Dtype  \n",
      "---  ------             --------------   -----  \n",
      " 0   comment_id         229246 non-null  object \n",
      " 1   kind               229245 non-null  object \n",
      " 2   author             229035 non-null  object \n",
      " 3   author_channel_id  229245 non-null  object \n",
      " 4   text               229203 non-null  object \n",
      " 5   like_count         229244 non-null  object \n",
      " 6   published_at       229244 non-null  object \n",
      " 7   updated_at         229244 non-null  object \n",
      " 8   can_rate           229244 non-null  object \n",
      " 9   viewer_rating      229244 non-null  object \n",
      " 10  can_reply          229243 non-null  object \n",
      " 11  total_reply_count  229243 non-null  float64\n",
      " 12  is_public          229243 non-null  object \n",
      " 13  video_id           229243 non-null  object \n",
      "dtypes: float64(1), object(13)\n",
      "memory usage: 24.5+ MB\n"
     ]
    },
    {
     "data": {
      "text/plain": [
       "comment_id             0\n",
       "kind                   1\n",
       "author               211\n",
       "author_channel_id      1\n",
       "text                  43\n",
       "like_count             2\n",
       "published_at           2\n",
       "updated_at             2\n",
       "can_rate               2\n",
       "viewer_rating          2\n",
       "can_reply              3\n",
       "total_reply_count      3\n",
       "is_public              3\n",
       "video_id               3\n",
       "dtype: int64"
      ]
     },
     "execution_count": 36,
     "metadata": {},
     "output_type": "execute_result"
    }
   ],
   "source": [
    "df_comments.info()\n",
    "pd.isnull(df_comments).sum()"
   ]
  },
  {
   "cell_type": "code",
   "execution_count": 37,
   "metadata": {},
   "outputs": [
    {
     "name": "stdout",
     "output_type": "stream",
     "text": [
      "<class 'pandas.core.frame.DataFrame'>\n",
      "Index: 228991 entries, 0 to 229245\n",
      "Data columns (total 9 columns):\n",
      " #   Column             Non-Null Count   Dtype              \n",
      "---  ------             --------------   -----              \n",
      " 0   comment_id         228991 non-null  object             \n",
      " 1   author             228991 non-null  object             \n",
      " 2   author_channel_id  228991 non-null  object             \n",
      " 3   text               228991 non-null  object             \n",
      " 4   like_count         228991 non-null  float64            \n",
      " 5   published_at       228991 non-null  datetime64[ns, UTC]\n",
      " 6   updated_at         228991 non-null  datetime64[ns, UTC]\n",
      " 7   total_reply_count  228991 non-null  float64            \n",
      " 8   video_id           228991 non-null  object             \n",
      "dtypes: datetime64[ns, UTC](2), float64(2), object(5)\n",
      "memory usage: 17.5+ MB\n"
     ]
    }
   ],
   "source": [
    "# Drop unnecessary data\n",
    "df_comments.drop(columns=['viewer_rating', 'can_rate', 'can_reply', 'is_public', 'kind'], inplace=True)\n",
    "\n",
    "# Drop na values\n",
    "df_comments.dropna(inplace=True)\n",
    "\n",
    "# Transform data to correct type\n",
    "df_comments['like_count'] = df_comments['like_count'].astype('float64')\n",
    "df_comments['published_at'] = pd.to_datetime(df_comments['published_at'])\n",
    "df_comments['updated_at'] = pd.to_datetime(df_comments['updated_at'])\n",
    "\n",
    "# Export cleaned data\n",
    "df_comments.to_parquet('../data/df_comments_video.parquet', index=False)\n",
    "\n",
    "df_comments.info()"
   ]
  },
  {
   "cell_type": "code",
   "execution_count": 45,
   "metadata": {},
   "outputs": [],
   "source": [
    "df_comments = pd.read_parquet('../data/df_comments_video.parquet')"
   ]
  },
  {
   "cell_type": "markdown",
   "metadata": {},
   "source": [
    "# Clean df_transcript"
   ]
  },
  {
   "cell_type": "code",
   "execution_count": 38,
   "metadata": {},
   "outputs": [
    {
     "name": "stdout",
     "output_type": "stream",
     "text": [
      "<class 'pandas.core.frame.DataFrame'>\n",
      "RangeIndex: 1670 entries, 0 to 1669\n",
      "Data columns (total 3 columns):\n",
      " #   Column             Non-Null Count  Dtype \n",
      "---  ------             --------------  ----- \n",
      " 0   video_id           1670 non-null   object\n",
      " 1   original_language  1670 non-null   object\n",
      " 2   transcription      1670 non-null   object\n",
      "dtypes: object(3)\n",
      "memory usage: 39.3+ KB\n"
     ]
    }
   ],
   "source": [
    "df_transcript.info()"
   ]
  },
  {
   "cell_type": "code",
   "execution_count": 39,
   "metadata": {},
   "outputs": [
    {
     "name": "stdout",
     "output_type": "stream",
     "text": [
      "<class 'pandas.core.frame.DataFrame'>\n",
      "Index: 1343 entries, 0 to 1669\n",
      "Data columns (total 4 columns):\n",
      " #   Column             Non-Null Count  Dtype \n",
      "---  ------             --------------  ----- \n",
      " 0   video_id           1343 non-null   object\n",
      " 1   original_language  1343 non-null   object\n",
      " 2   transcription      1343 non-null   object\n",
      " 3   language           1343 non-null   object\n",
      "dtypes: object(4)\n",
      "memory usage: 52.5+ KB\n"
     ]
    }
   ],
   "source": [
    "# Drop duplicated values\n",
    "df_transcript.drop_duplicates(subset=['video_id'], inplace=True)\n",
    "\n",
    "# Cleaned language values\n",
    "def get_cleaned_name(str):\n",
    "    return str.split(' ')[0].strip().lower()\n",
    "\n",
    "df_transcript['language'] = df_transcript['original_language'].apply(get_cleaned_name)\n",
    "\n",
    "# Export dataframe\n",
    "df_transcript.to_csv('../data/df_transcript_original.csv')\n",
    "\n",
    "df_transcript.info()"
   ]
  },
  {
   "cell_type": "markdown",
   "metadata": {},
   "source": [
    "# Normalize text by language"
   ]
  },
  {
   "cell_type": "code",
   "execution_count": 92,
   "metadata": {},
   "outputs": [],
   "source": [
    "from langdetect import detect, DetectorFactory, LangDetectException\n",
    "from nltk.corpus import stopwords\n",
    "\n",
    "# Create a column with language detected\n",
    "def detect_language(text):\n",
    "    try:\n",
    "        # Verificar si el texto es lo suficientemente largo\n",
    "        if len(text.strip()) == 0:\n",
    "            return None\n",
    "        # Intentar detectar el idioma\n",
    "        language = detect(text)\n",
    "        return language\n",
    "    except LangDetectException:\n",
    "        # Si el texto es demasiado corto o no se puede detectar el idioma, devolver None\n",
    "        return None"
   ]
  },
  {
   "cell_type": "code",
   "execution_count": 42,
   "metadata": {},
   "outputs": [],
   "source": [
    "# Remove specific stopwords from each langua\n",
    "def remove_stopwords(text, language):\n",
    "    stop_words = set(stopwords.words(language))\n",
    "    return ' '.join([word for word in text.split() if word not in stop_words])\n",
    "\n",
    "df_transcript['transcription_normalized'] = df_transcript[df_transcript['language'] == 'english'].apply(lambda x: remove_stopwords(x['transcription'], x['language']), axis=1)"
   ]
  },
  {
   "cell_type": "code",
   "execution_count": 43,
   "metadata": {},
   "outputs": [
    {
     "data": {
      "text/plain": [
       "0                                                     NaN\n",
       "1       ten years ago samsung released trailer concept...\n",
       "2       smartphone market 2023 definitely lows highs t...\n",
       "3       [Music] right welcome smartphone Awards 2023 l...\n",
       "4       year finally shaken smartphone markets we've n...\n",
       "                              ...                        \n",
       "1665    okay i've spent last two weeks announced flags...\n",
       "1666    [Music] hey set see best gaming smartphones gr...\n",
       "1667    what's going everybody kalupustek coming back ...\n",
       "1668                                                  NaN\n",
       "1669    Engish cont mobile Poco X6 Pro Mobile 6.67 1.5...\n",
       "Name: transcription_normalized, Length: 1343, dtype: object"
      ]
     },
     "execution_count": 43,
     "metadata": {},
     "output_type": "execute_result"
    }
   ],
   "source": [
    "df_transcript['transcription_normalized']"
   ]
  },
  {
   "cell_type": "markdown",
   "metadata": {},
   "source": [
    "# Translate Comments to English"
   ]
  },
  {
   "cell_type": "code",
   "execution_count": 58,
   "metadata": {},
   "outputs": [
    {
     "data": {
      "text/html": [
       "<div>\n",
       "<style scoped>\n",
       "    .dataframe tbody tr th:only-of-type {\n",
       "        vertical-align: middle;\n",
       "    }\n",
       "\n",
       "    .dataframe tbody tr th {\n",
       "        vertical-align: top;\n",
       "    }\n",
       "\n",
       "    .dataframe thead th {\n",
       "        text-align: right;\n",
       "    }\n",
       "</style>\n",
       "<table border=\"1\" class=\"dataframe\">\n",
       "  <thead>\n",
       "    <tr style=\"text-align: right;\">\n",
       "      <th></th>\n",
       "      <th>comment_id</th>\n",
       "      <th>author</th>\n",
       "      <th>author_channel_id</th>\n",
       "      <th>text</th>\n",
       "      <th>like_count</th>\n",
       "      <th>published_at</th>\n",
       "      <th>updated_at</th>\n",
       "      <th>total_reply_count</th>\n",
       "      <th>video_id</th>\n",
       "    </tr>\n",
       "  </thead>\n",
       "  <tbody>\n",
       "    <tr>\n",
       "      <th>0</th>\n",
       "      <td>UgxWaAXYfgpAB5nlzyp4AaABAg</td>\n",
       "      <td>@hightechrj</td>\n",
       "      <td>UCl-LwKb3m8uJ3TXqAfeVHnw</td>\n",
       "      <td>Royal enfield new electric bike\\nhttps://youtu...</td>\n",
       "      <td>159.0</td>\n",
       "      <td>2023-05-30 17:10:05+00:00</td>\n",
       "      <td>2023-05-30 17:10:05+00:00</td>\n",
       "      <td>21.0</td>\n",
       "      <td>sAeLgwkQZxE</td>\n",
       "    </tr>\n",
       "    <tr>\n",
       "      <th>1</th>\n",
       "      <td>UgzRCXZMxMDH3_nLahN4AaABAg</td>\n",
       "      <td>@pokemooon140</td>\n",
       "      <td>UCKNTb7KfJjPVw88U0aiWRPw</td>\n",
       "      <td>Wht a big comeback\\n👑Motor°Lå👑</td>\n",
       "      <td>561.0</td>\n",
       "      <td>2023-06-03 09:57:20+00:00</td>\n",
       "      <td>2023-06-03 09:57:20+00:00</td>\n",
       "      <td>10.0</td>\n",
       "      <td>sAeLgwkQZxE</td>\n",
       "    </tr>\n",
       "    <tr>\n",
       "      <th>2</th>\n",
       "      <td>Ugxg_KWfYrT1d1WV_pZ4AaABAg</td>\n",
       "      <td>@Khatri795</td>\n",
       "      <td>UCeX4MB03juuH-edGsAWqZrw</td>\n",
       "      <td>One plus 11concept Smart phone</td>\n",
       "      <td>63.0</td>\n",
       "      <td>2023-10-14 09:40:27+00:00</td>\n",
       "      <td>2023-10-14 09:40:27+00:00</td>\n",
       "      <td>0.0</td>\n",
       "      <td>sAeLgwkQZxE</td>\n",
       "    </tr>\n",
       "    <tr>\n",
       "      <th>3</th>\n",
       "      <td>UgwBcVBVVrK-Zy4lnWZ4AaABAg</td>\n",
       "      <td>@Sahida.parwin</td>\n",
       "      <td>UCm9yCPvQ1MSuuJv90ukVOdA</td>\n",
       "      <td>Always One Plus ❤</td>\n",
       "      <td>71.0</td>\n",
       "      <td>2023-09-29 04:41:03+00:00</td>\n",
       "      <td>2023-09-29 04:41:03+00:00</td>\n",
       "      <td>2.0</td>\n",
       "      <td>sAeLgwkQZxE</td>\n",
       "    </tr>\n",
       "    <tr>\n",
       "      <th>4</th>\n",
       "      <td>UgydysL-ENhzUbS-VOt4AaABAg</td>\n",
       "      <td>@dm6600</td>\n",
       "      <td>UCoHu6cUAa83g1CcBptFEn-w</td>\n",
       "      <td>Agar Moto ki battery pragnent na ho na to Moto...</td>\n",
       "      <td>9.0</td>\n",
       "      <td>2024-01-22 06:15:06+00:00</td>\n",
       "      <td>2024-01-22 06:15:06+00:00</td>\n",
       "      <td>0.0</td>\n",
       "      <td>sAeLgwkQZxE</td>\n",
       "    </tr>\n",
       "  </tbody>\n",
       "</table>\n",
       "</div>"
      ],
      "text/plain": [
       "                   comment_id          author         author_channel_id  \\\n",
       "0  UgxWaAXYfgpAB5nlzyp4AaABAg     @hightechrj  UCl-LwKb3m8uJ3TXqAfeVHnw   \n",
       "1  UgzRCXZMxMDH3_nLahN4AaABAg   @pokemooon140  UCKNTb7KfJjPVw88U0aiWRPw   \n",
       "2  Ugxg_KWfYrT1d1WV_pZ4AaABAg      @Khatri795  UCeX4MB03juuH-edGsAWqZrw   \n",
       "3  UgwBcVBVVrK-Zy4lnWZ4AaABAg  @Sahida.parwin  UCm9yCPvQ1MSuuJv90ukVOdA   \n",
       "4  UgydysL-ENhzUbS-VOt4AaABAg         @dm6600  UCoHu6cUAa83g1CcBptFEn-w   \n",
       "\n",
       "                                                text  like_count  \\\n",
       "0  Royal enfield new electric bike\\nhttps://youtu...       159.0   \n",
       "1                     Wht a big comeback\\n👑Motor°Lå👑       561.0   \n",
       "2                     One plus 11concept Smart phone        63.0   \n",
       "3                                  Always One Plus ❤        71.0   \n",
       "4  Agar Moto ki battery pragnent na ho na to Moto...         9.0   \n",
       "\n",
       "               published_at                updated_at  total_reply_count  \\\n",
       "0 2023-05-30 17:10:05+00:00 2023-05-30 17:10:05+00:00               21.0   \n",
       "1 2023-06-03 09:57:20+00:00 2023-06-03 09:57:20+00:00               10.0   \n",
       "2 2023-10-14 09:40:27+00:00 2023-10-14 09:40:27+00:00                0.0   \n",
       "3 2023-09-29 04:41:03+00:00 2023-09-29 04:41:03+00:00                2.0   \n",
       "4 2024-01-22 06:15:06+00:00 2024-01-22 06:15:06+00:00                0.0   \n",
       "\n",
       "      video_id  \n",
       "0  sAeLgwkQZxE  \n",
       "1  sAeLgwkQZxE  \n",
       "2  sAeLgwkQZxE  \n",
       "3  sAeLgwkQZxE  \n",
       "4  sAeLgwkQZxE  "
      ]
     },
     "execution_count": 58,
     "metadata": {},
     "output_type": "execute_result"
    }
   ],
   "source": [
    "df_comments.head()"
   ]
  },
  {
   "cell_type": "code",
   "execution_count": 93,
   "metadata": {},
   "outputs": [],
   "source": [
    "from langdetect import detect, DetectorFactory, LangDetectException\n",
    "from nltk.corpus import stopwords\n",
    "\n",
    "# Create a column with language detected\n",
    "def detect_language(text):\n",
    "    try:\n",
    "        # Verificar si el texto es lo suficientemente largo\n",
    "        if len(text.strip()) == 0:\n",
    "            return None\n",
    "        # Intentar detectar el idioma\n",
    "        language = detect(text)\n",
    "        return language\n",
    "    except LangDetectException:\n",
    "        # Si el texto es demasiado corto o no se puede detectar el idioma, devolver None\n",
    "        return None"
   ]
  },
  {
   "cell_type": "code",
   "execution_count": 96,
   "metadata": {},
   "outputs": [],
   "source": [
    "from deep_translator import GoogleTranslator\n",
    "\n",
    "def translate_text(text, target_language='en'):\n",
    "    translator = GoogleTranslator(source='auto', target=target_language)\n",
    "    return translator.translate(text)\n",
    "\n",
    "# Detect language\n",
    "\n",
    "df_test = df_comments[:1000].copy()\n",
    "df_test['language'] = df_test['text'].apply(detect_language)"
   ]
  },
  {
   "cell_type": "code",
   "execution_count": 99,
   "metadata": {},
   "outputs": [
    {
     "data": {
      "text/plain": [
       "'sw'"
      ]
     },
     "execution_count": 99,
     "metadata": {},
     "output_type": "execute_result"
    }
   ],
   "source": [
    "df_test['language'][997]"
   ]
  },
  {
   "cell_type": "code",
   "execution_count": 88,
   "metadata": {},
   "outputs": [
    {
     "data": {
      "text/plain": [
       "'en'"
      ]
     },
     "execution_count": 88,
     "metadata": {},
     "output_type": "execute_result"
    }
   ],
   "source": [
    "language = detect(df_test['text'][10])\n",
    "language"
   ]
  },
  {
   "cell_type": "code",
   "execution_count": 90,
   "metadata": {},
   "outputs": [
    {
     "name": "stdout",
     "output_type": "stream",
     "text": [
      "en\n",
      "en\n",
      "fr\n",
      "en\n",
      "sw\n",
      "fr\n",
      "en\n",
      "en\n",
      "id\n",
      "it\n",
      "en\n",
      "en\n",
      "sw\n",
      "fr\n",
      "tl\n",
      "en\n",
      "de\n",
      "it\n",
      "tl\n",
      "fr\n",
      "de\n",
      "de\n"
     ]
    },
    {
     "ename": "LangDetectException",
     "evalue": "No features in text.",
     "output_type": "error",
     "traceback": [
      "\u001b[0;31m---------------------------------------------------------------------------\u001b[0m",
      "\u001b[0;31mLangDetectException\u001b[0m                       Traceback (most recent call last)",
      "\u001b[0;32m/tmp/ipykernel_373/1587619714.py\u001b[0m in \u001b[0;36m<module>\u001b[0;34m\u001b[0m\n\u001b[1;32m      1\u001b[0m \u001b[0;32mfor\u001b[0m \u001b[0mtext\u001b[0m \u001b[0;32min\u001b[0m \u001b[0mdf_test\u001b[0m\u001b[0;34m[\u001b[0m\u001b[0;34m'text'\u001b[0m\u001b[0;34m]\u001b[0m\u001b[0;34m:\u001b[0m\u001b[0;34m\u001b[0m\u001b[0;34m\u001b[0m\u001b[0m\n\u001b[0;32m----> 2\u001b[0;31m     \u001b[0mprint\u001b[0m\u001b[0;34m(\u001b[0m\u001b[0mdetect\u001b[0m\u001b[0;34m(\u001b[0m\u001b[0mtext\u001b[0m\u001b[0;34m)\u001b[0m\u001b[0;34m)\u001b[0m\u001b[0;34m\u001b[0m\u001b[0;34m\u001b[0m\u001b[0m\n\u001b[0m",
      "\u001b[0;32m~/.local/lib/python3.10/site-packages/langdetect/detector_factory.py\u001b[0m in \u001b[0;36mdetect\u001b[0;34m(text)\u001b[0m\n\u001b[1;32m    128\u001b[0m     \u001b[0mdetector\u001b[0m \u001b[0;34m=\u001b[0m \u001b[0m_factory\u001b[0m\u001b[0;34m.\u001b[0m\u001b[0mcreate\u001b[0m\u001b[0;34m(\u001b[0m\u001b[0;34m)\u001b[0m\u001b[0;34m\u001b[0m\u001b[0;34m\u001b[0m\u001b[0m\n\u001b[1;32m    129\u001b[0m     \u001b[0mdetector\u001b[0m\u001b[0;34m.\u001b[0m\u001b[0mappend\u001b[0m\u001b[0;34m(\u001b[0m\u001b[0mtext\u001b[0m\u001b[0;34m)\u001b[0m\u001b[0;34m\u001b[0m\u001b[0;34m\u001b[0m\u001b[0m\n\u001b[0;32m--> 130\u001b[0;31m     \u001b[0;32mreturn\u001b[0m \u001b[0mdetector\u001b[0m\u001b[0;34m.\u001b[0m\u001b[0mdetect\u001b[0m\u001b[0;34m(\u001b[0m\u001b[0;34m)\u001b[0m\u001b[0;34m\u001b[0m\u001b[0;34m\u001b[0m\u001b[0m\n\u001b[0m\u001b[1;32m    131\u001b[0m \u001b[0;34m\u001b[0m\u001b[0m\n\u001b[1;32m    132\u001b[0m \u001b[0;34m\u001b[0m\u001b[0m\n",
      "\u001b[0;32m~/.local/lib/python3.10/site-packages/langdetect/detector.py\u001b[0m in \u001b[0;36mdetect\u001b[0;34m(self)\u001b[0m\n\u001b[1;32m    134\u001b[0m         \u001b[0mwhich\u001b[0m \u001b[0mhas\u001b[0m \u001b[0mthe\u001b[0m \u001b[0mhighest\u001b[0m \u001b[0mprobability\u001b[0m\u001b[0;34m.\u001b[0m\u001b[0;34m\u001b[0m\u001b[0;34m\u001b[0m\u001b[0m\n\u001b[1;32m    135\u001b[0m         '''\n\u001b[0;32m--> 136\u001b[0;31m         \u001b[0mprobabilities\u001b[0m \u001b[0;34m=\u001b[0m \u001b[0mself\u001b[0m\u001b[0;34m.\u001b[0m\u001b[0mget_probabilities\u001b[0m\u001b[0;34m(\u001b[0m\u001b[0;34m)\u001b[0m\u001b[0;34m\u001b[0m\u001b[0;34m\u001b[0m\u001b[0m\n\u001b[0m\u001b[1;32m    137\u001b[0m         \u001b[0;32mif\u001b[0m \u001b[0mprobabilities\u001b[0m\u001b[0;34m:\u001b[0m\u001b[0;34m\u001b[0m\u001b[0;34m\u001b[0m\u001b[0m\n\u001b[1;32m    138\u001b[0m             \u001b[0;32mreturn\u001b[0m \u001b[0mprobabilities\u001b[0m\u001b[0;34m[\u001b[0m\u001b[0;36m0\u001b[0m\u001b[0;34m]\u001b[0m\u001b[0;34m.\u001b[0m\u001b[0mlang\u001b[0m\u001b[0;34m\u001b[0m\u001b[0;34m\u001b[0m\u001b[0m\n",
      "\u001b[0;32m~/.local/lib/python3.10/site-packages/langdetect/detector.py\u001b[0m in \u001b[0;36mget_probabilities\u001b[0;34m(self)\u001b[0m\n\u001b[1;32m    141\u001b[0m     \u001b[0;32mdef\u001b[0m \u001b[0mget_probabilities\u001b[0m\u001b[0;34m(\u001b[0m\u001b[0mself\u001b[0m\u001b[0;34m)\u001b[0m\u001b[0;34m:\u001b[0m\u001b[0;34m\u001b[0m\u001b[0;34m\u001b[0m\u001b[0m\n\u001b[1;32m    142\u001b[0m         \u001b[0;32mif\u001b[0m \u001b[0mself\u001b[0m\u001b[0;34m.\u001b[0m\u001b[0mlangprob\u001b[0m \u001b[0;32mis\u001b[0m \u001b[0;32mNone\u001b[0m\u001b[0;34m:\u001b[0m\u001b[0;34m\u001b[0m\u001b[0;34m\u001b[0m\u001b[0m\n\u001b[0;32m--> 143\u001b[0;31m             \u001b[0mself\u001b[0m\u001b[0;34m.\u001b[0m\u001b[0m_detect_block\u001b[0m\u001b[0;34m(\u001b[0m\u001b[0;34m)\u001b[0m\u001b[0;34m\u001b[0m\u001b[0;34m\u001b[0m\u001b[0m\n\u001b[0m\u001b[1;32m    144\u001b[0m         \u001b[0;32mreturn\u001b[0m \u001b[0mself\u001b[0m\u001b[0;34m.\u001b[0m\u001b[0m_sort_probability\u001b[0m\u001b[0;34m(\u001b[0m\u001b[0mself\u001b[0m\u001b[0;34m.\u001b[0m\u001b[0mlangprob\u001b[0m\u001b[0;34m)\u001b[0m\u001b[0;34m\u001b[0m\u001b[0;34m\u001b[0m\u001b[0m\n\u001b[1;32m    145\u001b[0m \u001b[0;34m\u001b[0m\u001b[0m\n",
      "\u001b[0;32m~/.local/lib/python3.10/site-packages/langdetect/detector.py\u001b[0m in \u001b[0;36m_detect_block\u001b[0;34m(self)\u001b[0m\n\u001b[1;32m    148\u001b[0m         \u001b[0mngrams\u001b[0m \u001b[0;34m=\u001b[0m \u001b[0mself\u001b[0m\u001b[0;34m.\u001b[0m\u001b[0m_extract_ngrams\u001b[0m\u001b[0;34m(\u001b[0m\u001b[0;34m)\u001b[0m\u001b[0;34m\u001b[0m\u001b[0;34m\u001b[0m\u001b[0m\n\u001b[1;32m    149\u001b[0m         \u001b[0;32mif\u001b[0m \u001b[0;32mnot\u001b[0m \u001b[0mngrams\u001b[0m\u001b[0;34m:\u001b[0m\u001b[0;34m\u001b[0m\u001b[0;34m\u001b[0m\u001b[0m\n\u001b[0;32m--> 150\u001b[0;31m             \u001b[0;32mraise\u001b[0m \u001b[0mLangDetectException\u001b[0m\u001b[0;34m(\u001b[0m\u001b[0mErrorCode\u001b[0m\u001b[0;34m.\u001b[0m\u001b[0mCantDetectError\u001b[0m\u001b[0;34m,\u001b[0m \u001b[0;34m'No features in text.'\u001b[0m\u001b[0;34m)\u001b[0m\u001b[0;34m\u001b[0m\u001b[0;34m\u001b[0m\u001b[0m\n\u001b[0m\u001b[1;32m    151\u001b[0m \u001b[0;34m\u001b[0m\u001b[0m\n\u001b[1;32m    152\u001b[0m         \u001b[0mself\u001b[0m\u001b[0;34m.\u001b[0m\u001b[0mlangprob\u001b[0m \u001b[0;34m=\u001b[0m \u001b[0;34m[\u001b[0m\u001b[0;36m0.0\u001b[0m\u001b[0;34m]\u001b[0m \u001b[0;34m*\u001b[0m \u001b[0mlen\u001b[0m\u001b[0;34m(\u001b[0m\u001b[0mself\u001b[0m\u001b[0;34m.\u001b[0m\u001b[0mlanglist\u001b[0m\u001b[0;34m)\u001b[0m\u001b[0;34m\u001b[0m\u001b[0;34m\u001b[0m\u001b[0m\n",
      "\u001b[0;31mLangDetectException\u001b[0m: No features in text."
     ]
    }
   ],
   "source": [
    "for text in df_test['text']:\n",
    "    print(detect(text))\n",
    "\n"
   ]
  },
  {
   "cell_type": "code",
   "execution_count": 91,
   "metadata": {},
   "outputs": [
    {
     "data": {
      "text/plain": [
       "20                    Number 3❤❤❤\n",
       "21                  Moto Rizer...\n",
       "22                            1+👌\n",
       "23    unihertz lune smartphone 8g\n",
       "24              All very nice 👍👍👍\n",
       "Name: text, dtype: object"
      ]
     },
     "execution_count": 91,
     "metadata": {},
     "output_type": "execute_result"
    }
   ],
   "source": [
    "df_test['text'][20:25]"
   ]
  }
 ],
 "metadata": {
  "kernelspec": {
   "display_name": "Python 3",
   "language": "python",
   "name": "python3"
  },
  "language_info": {
   "codemirror_mode": {
    "name": "ipython",
    "version": 3
   },
   "file_extension": ".py",
   "mimetype": "text/x-python",
   "name": "python",
   "nbconvert_exporter": "python",
   "pygments_lexer": "ipython3",
   "version": "3.10.12"
  }
 },
 "nbformat": 4,
 "nbformat_minor": 2
}
