{
 "cells": [
  {
   "cell_type": "code",
   "execution_count": 11,
   "metadata": {},
   "outputs": [],
   "source": [
    "import pandas as pd\n",
    "import pandas as pd\n",
    "\n",
    "import numpy as np\n",
    "import matplotlib.pyplot as plt"
   ]
  },
  {
   "cell_type": "markdown",
   "metadata": {},
   "source": [
    "# Load Clean Data"
   ]
  },
  {
   "cell_type": "code",
   "execution_count": 12,
   "metadata": {},
   "outputs": [],
   "source": [
    "folder = '../data/clean_data/'\n",
    "\n",
    "df_categories = pd.read_csv(f'{folder}df_categories.csv')\n",
    "df_comments = pd.read_parquet(f'{folder}df_comments_video.parquet')\n",
    "df_transcript = pd.read_csv(f'{folder}df_transcript_original.csv')\n",
    "df_videos = pd.read_csv(f'{folder}df_video_data.csv')\n",
    "df_channel = pd.read_csv(f'{folder}df_channel_data.csv')\n",
    "df_content = pd.read_csv(f'{folder}df_content.csv')"
   ]
  },
  {
   "cell_type": "code",
   "execution_count": 13,
   "metadata": {},
   "outputs": [
    {
     "data": {
      "text/html": [
       "<div>\n",
       "<style scoped>\n",
       "    .dataframe tbody tr th:only-of-type {\n",
       "        vertical-align: middle;\n",
       "    }\n",
       "\n",
       "    .dataframe tbody tr th {\n",
       "        vertical-align: top;\n",
       "    }\n",
       "\n",
       "    .dataframe thead th {\n",
       "        text-align: right;\n",
       "    }\n",
       "</style>\n",
       "<table border=\"1\" class=\"dataframe\">\n",
       "  <thead>\n",
       "    <tr style=\"text-align: right;\">\n",
       "      <th></th>\n",
       "      <th>video_id</th>\n",
       "      <th>original_language</th>\n",
       "      <th>transcription</th>\n",
       "      <th>language</th>\n",
       "      <th>clean_text</th>\n",
       "      <th>comment_list</th>\n",
       "      <th>sentiment</th>\n",
       "    </tr>\n",
       "  </thead>\n",
       "  <tbody>\n",
       "    <tr>\n",
       "      <th>0</th>\n",
       "      <td>qtlUwwtvuEg</td>\n",
       "      <td>English (auto-generated)</td>\n",
       "      <td>[Music] thank you hello everyone I hope you ar...</td>\n",
       "      <td>english</td>\n",
       "      <td>music thank hello everyone hope great era ai w...</td>\n",
       "      <td>thank well explained video tutorial\\n useful t...</td>\n",
       "      <td>1.0000</td>\n",
       "    </tr>\n",
       "    <tr>\n",
       "      <th>1</th>\n",
       "      <td>QaoDXYYtgK0</td>\n",
       "      <td>English (auto-generated)</td>\n",
       "      <td>number three [Music] Facebook has enacted an e...</td>\n",
       "      <td>english</td>\n",
       "      <td>number three music facebook enacted emergency ...</td>\n",
       "      <td>quotthey invented code languagequot man thats ...</td>\n",
       "      <td>1.0000</td>\n",
       "    </tr>\n",
       "    <tr>\n",
       "      <th>2</th>\n",
       "      <td>PqDwddEHswU</td>\n",
       "      <td>English (auto-generated)</td>\n",
       "      <td>in this series we're going to introduce deep l...</td>\n",
       "      <td>english</td>\n",
       "      <td>series going introduce deep learning least per...</td>\n",
       "      <td>brian douglas hero\\n learned far sitting couch...</td>\n",
       "      <td>0.9972</td>\n",
       "    </tr>\n",
       "    <tr>\n",
       "      <th>3</th>\n",
       "      <td>B-Y7rnOa43w</td>\n",
       "      <td>English (auto-generated)</td>\n",
       "      <td>this is how to earn money with AI and it's par...</td>\n",
       "      <td>english</td>\n",
       "      <td>earn money ai part two let go want create kind...</td>\n",
       "      <td>oh im going try</td>\n",
       "      <td>0.0000</td>\n",
       "    </tr>\n",
       "    <tr>\n",
       "      <th>4</th>\n",
       "      <td>vyit-1zKsZ4</td>\n",
       "      <td>English (auto-generated)</td>\n",
       "      <td>when current Medical Science has run out of op...</td>\n",
       "      <td>english</td>\n",
       "      <td>current medical science run option doctor dont...</td>\n",
       "      <td>locked syndrome lateral amyloid multiple scler...</td>\n",
       "      <td>0.9994</td>\n",
       "    </tr>\n",
       "  </tbody>\n",
       "</table>\n",
       "</div>"
      ],
      "text/plain": [
       "      video_id         original_language  \\\n",
       "0  qtlUwwtvuEg  English (auto-generated)   \n",
       "1  QaoDXYYtgK0  English (auto-generated)   \n",
       "2  PqDwddEHswU  English (auto-generated)   \n",
       "3  B-Y7rnOa43w  English (auto-generated)   \n",
       "4  vyit-1zKsZ4  English (auto-generated)   \n",
       "\n",
       "                                       transcription language  \\\n",
       "0  [Music] thank you hello everyone I hope you ar...  english   \n",
       "1  number three [Music] Facebook has enacted an e...  english   \n",
       "2  in this series we're going to introduce deep l...  english   \n",
       "3  this is how to earn money with AI and it's par...  english   \n",
       "4  when current Medical Science has run out of op...  english   \n",
       "\n",
       "                                          clean_text  \\\n",
       "0  music thank hello everyone hope great era ai w...   \n",
       "1  number three music facebook enacted emergency ...   \n",
       "2  series going introduce deep learning least per...   \n",
       "3  earn money ai part two let go want create kind...   \n",
       "4  current medical science run option doctor dont...   \n",
       "\n",
       "                                        comment_list  sentiment  \n",
       "0  thank well explained video tutorial\\n useful t...     1.0000  \n",
       "1  quotthey invented code languagequot man thats ...     1.0000  \n",
       "2  brian douglas hero\\n learned far sitting couch...     0.9972  \n",
       "3                                    oh im going try     0.0000  \n",
       "4  locked syndrome lateral amyloid multiple scler...     0.9994  "
      ]
     },
     "execution_count": 13,
     "metadata": {},
     "output_type": "execute_result"
    }
   ],
   "source": [
    "df_content.head()"
   ]
  },
  {
   "cell_type": "markdown",
   "metadata": {},
   "source": [
    "# TF-IDF model for `df_transcripts` and `df_comments`"
   ]
  },
  {
   "cell_type": "markdown",
   "metadata": {},
   "source": [
    "# Modelo 1\n",
    "\n",
    "Variables: `clean_text`, `video_id`"
   ]
  },
  {
   "cell_type": "code",
   "execution_count": 14,
   "metadata": {},
   "outputs": [
    {
     "data": {
      "text/html": [
       "<div>\n",
       "<style scoped>\n",
       "    .dataframe tbody tr th:only-of-type {\n",
       "        vertical-align: middle;\n",
       "    }\n",
       "\n",
       "    .dataframe tbody tr th {\n",
       "        vertical-align: top;\n",
       "    }\n",
       "\n",
       "    .dataframe thead th {\n",
       "        text-align: right;\n",
       "    }\n",
       "</style>\n",
       "<table border=\"1\" class=\"dataframe\">\n",
       "  <thead>\n",
       "    <tr style=\"text-align: right;\">\n",
       "      <th></th>\n",
       "      <th>video_id</th>\n",
       "      <th>clean_text</th>\n",
       "      <th>comment_list</th>\n",
       "      <th>sentiment</th>\n",
       "    </tr>\n",
       "  </thead>\n",
       "  <tbody>\n",
       "    <tr>\n",
       "      <th>0</th>\n",
       "      <td>qtlUwwtvuEg</td>\n",
       "      <td>music thank hello everyone hope great era ai w...</td>\n",
       "      <td>thank well explained video tutorial\\n useful t...</td>\n",
       "      <td>1.0000</td>\n",
       "    </tr>\n",
       "    <tr>\n",
       "      <th>1</th>\n",
       "      <td>QaoDXYYtgK0</td>\n",
       "      <td>number three music facebook enacted emergency ...</td>\n",
       "      <td>quotthey invented code languagequot man thats ...</td>\n",
       "      <td>1.0000</td>\n",
       "    </tr>\n",
       "    <tr>\n",
       "      <th>2</th>\n",
       "      <td>PqDwddEHswU</td>\n",
       "      <td>series going introduce deep learning least per...</td>\n",
       "      <td>brian douglas hero\\n learned far sitting couch...</td>\n",
       "      <td>0.9972</td>\n",
       "    </tr>\n",
       "    <tr>\n",
       "      <th>3</th>\n",
       "      <td>B-Y7rnOa43w</td>\n",
       "      <td>earn money ai part two let go want create kind...</td>\n",
       "      <td>oh im going try</td>\n",
       "      <td>0.0000</td>\n",
       "    </tr>\n",
       "    <tr>\n",
       "      <th>4</th>\n",
       "      <td>vyit-1zKsZ4</td>\n",
       "      <td>current medical science run option doctor dont...</td>\n",
       "      <td>locked syndrome lateral amyloid multiple scler...</td>\n",
       "      <td>0.9994</td>\n",
       "    </tr>\n",
       "  </tbody>\n",
       "</table>\n",
       "</div>"
      ],
      "text/plain": [
       "      video_id                                         clean_text  \\\n",
       "0  qtlUwwtvuEg  music thank hello everyone hope great era ai w...   \n",
       "1  QaoDXYYtgK0  number three music facebook enacted emergency ...   \n",
       "2  PqDwddEHswU  series going introduce deep learning least per...   \n",
       "3  B-Y7rnOa43w  earn money ai part two let go want create kind...   \n",
       "4  vyit-1zKsZ4  current medical science run option doctor dont...   \n",
       "\n",
       "                                        comment_list  sentiment  \n",
       "0  thank well explained video tutorial\\n useful t...     1.0000  \n",
       "1  quotthey invented code languagequot man thats ...     1.0000  \n",
       "2  brian douglas hero\\n learned far sitting couch...     0.9972  \n",
       "3                                    oh im going try     0.0000  \n",
       "4  locked syndrome lateral amyloid multiple scler...     0.9994  "
      ]
     },
     "execution_count": 14,
     "metadata": {},
     "output_type": "execute_result"
    }
   ],
   "source": [
    "model1 = df_content[df_content['language'] == 'english'][['video_id', 'clean_text', 'comment_list', 'sentiment']].copy()\n",
    "model1.head()"
   ]
  },
  {
   "cell_type": "markdown",
   "metadata": {},
   "source": [
    "\n",
    "El parámetro ngram_range en TfidfVectorizer se refiere a los tamaños de n-gramas que el vectorizador debe considerar al analizar el texto. Un n-grama es una secuencia de \"n\" palabras consecutivas en un texto.\n",
    "\n",
    "Desglose de ngram_range=(1, 2):\n",
    "Unigrama (1-gram): Es una secuencia de 1 palabra. Si ngram_range=(1, 1), el vectorizador solo consideraría palabras individuales.\n",
    "\n",
    "Ejemplo: Para la frase \"hola mundo\", los unigramas serían: [\"hola\", \"mundo\"].\n",
    "Bigramas (2-gram): Es una secuencia de 2 palabras consecutivas. Si ngram_range=(2, 2), el vectorizador solo consideraría pares de palabras consecutivas.\n",
    "\n",
    "Ejemplo: Para la frase \"hola mundo\", los bigramas serían: [\"hola mundo\"].\n",
    "ngram_range=(1, 2): Con este rango, el vectorizador considerará tanto unigramas como bigramas. Es decir, se generarán características tanto para palabras individuales como para pares de palabras consecutivas.\n",
    "\n",
    "Ejemplo: Para la frase \"hola mundo\", los n-gramas serían: [\"hola\", \"mundo\", \"hola mundo\"]"
   ]
  },
  {
   "cell_type": "code",
   "execution_count": 15,
   "metadata": {},
   "outputs": [
    {
     "name": "stdout",
     "output_type": "stream",
     "text": [
      "tfidf_transcript: (1496, 5000)\n"
     ]
    }
   ],
   "source": [
    "from sklearn.feature_extraction.text import TfidfVectorizer\n",
    "\n",
    "# Crear el vectorizador TF-IDF\n",
    "tfidf_vectorizer = TfidfVectorizer(max_features=5000, ngram_range=(1, 2), stop_words='english')\n",
    "\n",
    "# Aplicar TF-IDF a comentarios\n",
    "tfidf_transcripts = tfidf_vectorizer.fit_transform(model1['clean_text'])\n",
    "\n",
    "# Convertir a DataFrame para visualizar las características\n",
    "tfidf_transcripts_df = pd.DataFrame(tfidf_transcripts.toarray(), columns=tfidf_vectorizer.get_feature_names_out())\n",
    "\n",
    "print(f'tfidf_transcript: {tfidf_transcripts_df.shape}')\n"
   ]
  },
  {
   "cell_type": "markdown",
   "metadata": {},
   "source": [
    "# Get recommendations based on transcriptions `VALID`\n",
    "\n",
    "La similitud coseno (cosine similarity) es una medida de similitud entre dos vectores en un espacio vectorial que calcula el coseno del ángulo entre ellos. Es ampliamente utilizada en procesamiento de lenguaje natural (NLP), recuperación de información, y otras áreas relacionadas con la comparación de texto o documentos, ya que es eficiente y proporciona una buena estimación de la similitud entre documentos o textos representados como vectores."
   ]
  },
  {
   "cell_type": "code",
   "execution_count": 16,
   "metadata": {},
   "outputs": [
    {
     "data": {
      "text/html": [
       "<div>\n",
       "<style scoped>\n",
       "    .dataframe tbody tr th:only-of-type {\n",
       "        vertical-align: middle;\n",
       "    }\n",
       "\n",
       "    .dataframe tbody tr th {\n",
       "        vertical-align: top;\n",
       "    }\n",
       "\n",
       "    .dataframe thead th {\n",
       "        text-align: right;\n",
       "    }\n",
       "</style>\n",
       "<table border=\"1\" class=\"dataframe\">\n",
       "  <thead>\n",
       "    <tr style=\"text-align: right;\">\n",
       "      <th></th>\n",
       "      <th>video_id</th>\n",
       "      <th>clean_text</th>\n",
       "      <th>comment_list</th>\n",
       "    </tr>\n",
       "  </thead>\n",
       "  <tbody>\n",
       "    <tr>\n",
       "      <th>0</th>\n",
       "      <td>qtlUwwtvuEg</td>\n",
       "      <td>music thank hello everyone hope great era ai w...</td>\n",
       "      <td>thank well explained video tutorial\\n useful t...</td>\n",
       "    </tr>\n",
       "    <tr>\n",
       "      <th>1</th>\n",
       "      <td>QaoDXYYtgK0</td>\n",
       "      <td>number three music facebook enacted emergency ...</td>\n",
       "      <td>quotthey invented code languagequot man thats ...</td>\n",
       "    </tr>\n",
       "    <tr>\n",
       "      <th>2</th>\n",
       "      <td>PqDwddEHswU</td>\n",
       "      <td>series going introduce deep learning least per...</td>\n",
       "      <td>brian douglas hero\\n learned far sitting couch...</td>\n",
       "    </tr>\n",
       "    <tr>\n",
       "      <th>3</th>\n",
       "      <td>B-Y7rnOa43w</td>\n",
       "      <td>earn money ai part two let go want create kind...</td>\n",
       "      <td>oh im going try</td>\n",
       "    </tr>\n",
       "    <tr>\n",
       "      <th>4</th>\n",
       "      <td>vyit-1zKsZ4</td>\n",
       "      <td>current medical science run option doctor dont...</td>\n",
       "      <td>locked syndrome lateral amyloid multiple scler...</td>\n",
       "    </tr>\n",
       "  </tbody>\n",
       "</table>\n",
       "</div>"
      ],
      "text/plain": [
       "      video_id                                         clean_text  \\\n",
       "0  qtlUwwtvuEg  music thank hello everyone hope great era ai w...   \n",
       "1  QaoDXYYtgK0  number three music facebook enacted emergency ...   \n",
       "2  PqDwddEHswU  series going introduce deep learning least per...   \n",
       "3  B-Y7rnOa43w  earn money ai part two let go want create kind...   \n",
       "4  vyit-1zKsZ4  current medical science run option doctor dont...   \n",
       "\n",
       "                                        comment_list  \n",
       "0  thank well explained video tutorial\\n useful t...  \n",
       "1  quotthey invented code languagequot man thats ...  \n",
       "2  brian douglas hero\\n learned far sitting couch...  \n",
       "3                                    oh im going try  \n",
       "4  locked syndrome lateral amyloid multiple scler...  "
      ]
     },
     "execution_count": 16,
     "metadata": {},
     "output_type": "execute_result"
    }
   ],
   "source": [
    "model1 = df_content[df_content['language'] == 'english'][['video_id', 'clean_text', 'comment_list']].copy()\n",
    "model1.head()"
   ]
  },
  {
   "cell_type": "code",
   "execution_count": 17,
   "metadata": {},
   "outputs": [
    {
     "data": {
      "text/html": [
       "<div>\n",
       "<style scoped>\n",
       "    .dataframe tbody tr th:only-of-type {\n",
       "        vertical-align: middle;\n",
       "    }\n",
       "\n",
       "    .dataframe tbody tr th {\n",
       "        vertical-align: top;\n",
       "    }\n",
       "\n",
       "    .dataframe thead th {\n",
       "        text-align: right;\n",
       "    }\n",
       "</style>\n",
       "<table border=\"1\" class=\"dataframe\">\n",
       "  <thead>\n",
       "    <tr style=\"text-align: right;\">\n",
       "      <th></th>\n",
       "      <th>video_id</th>\n",
       "      <th>similarity</th>\n",
       "      <th>title</th>\n",
       "    </tr>\n",
       "  </thead>\n",
       "  <tbody>\n",
       "    <tr>\n",
       "      <th>0</th>\n",
       "      <td>3cSjsTKtN9M</td>\n",
       "      <td>0.512788</td>\n",
       "      <td>What Is Deep Learning?</td>\n",
       "    </tr>\n",
       "    <tr>\n",
       "      <th>1</th>\n",
       "      <td>8duf31d6oyY</td>\n",
       "      <td>0.465386</td>\n",
       "      <td>2️⃣5️⃣ Deep Learning: how machines learn like ...</td>\n",
       "    </tr>\n",
       "    <tr>\n",
       "      <th>2</th>\n",
       "      <td>VOaoabf3LPM</td>\n",
       "      <td>0.461375</td>\n",
       "      <td>Artificial Intelligence Full Course in 10 Hour...</td>\n",
       "    </tr>\n",
       "    <tr>\n",
       "      <th>3</th>\n",
       "      <td>cDTp-qXXZU0</td>\n",
       "      <td>0.455235</td>\n",
       "      <td>Machine Learning vs. Deep Learning [What's the...</td>\n",
       "    </tr>\n",
       "    <tr>\n",
       "      <th>4</th>\n",
       "      <td>VyWAvY2CF9c</td>\n",
       "      <td>0.448958</td>\n",
       "      <td>Deep Learning Crash Course for Beginners</td>\n",
       "    </tr>\n",
       "  </tbody>\n",
       "</table>\n",
       "</div>"
      ],
      "text/plain": [
       "      video_id  similarity                                              title\n",
       "0  3cSjsTKtN9M    0.512788                             What Is Deep Learning?\n",
       "1  8duf31d6oyY    0.465386  2️⃣5️⃣ Deep Learning: how machines learn like ...\n",
       "2  VOaoabf3LPM    0.461375  Artificial Intelligence Full Course in 10 Hour...\n",
       "3  cDTp-qXXZU0    0.455235  Machine Learning vs. Deep Learning [What's the...\n",
       "4  VyWAvY2CF9c    0.448958           Deep Learning Crash Course for Beginners"
      ]
     },
     "execution_count": 17,
     "metadata": {},
     "output_type": "execute_result"
    }
   ],
   "source": [
    "from sklearn.metrics.pairwise import cosine_similarity\n",
    "\n",
    "video_id = 'PqDwddEHswU'  \n",
    "\n",
    "# Extraer el índice del video en el DataFrame\n",
    "index = model1[model1['video_id'] == video_id].index[0]\n",
    "\n",
    "# Calcular la similitud del coseno entre este video y todos los demás\n",
    "cosine_similarities = cosine_similarity(tfidf_transcripts[index], tfidf_transcripts).flatten()\n",
    "\n",
    "# Crear un DataFrame con los video_ids y las similitudes correspondientes\n",
    "similar_videos = pd.DataFrame({\n",
    "    'video_id': model1['video_id'],\n",
    "    'similarity': cosine_similarities\n",
    "})\n",
    "\n",
    "# Ordenar los videos por similitud, excluyendo el propio video\n",
    "similar_videos = similar_videos[similar_videos['video_id'] != video_id].sort_values(by='similarity', ascending=False)\n",
    "\n",
    "similar_videos = similar_videos.merge(df_videos[['videoId', 'title']], left_on='video_id', right_on='videoId')\n",
    "similar_videos.drop(columns='videoId', inplace=True)\n",
    "\n",
    "similar_videos.head()"
   ]
  },
  {
   "cell_type": "markdown",
   "metadata": {},
   "source": [
    "# Final Score based on content and comments sentiment"
   ]
  },
  {
   "cell_type": "markdown",
   "metadata": {},
   "source": [
    "$$\n",
    "\\text{Final Score} = \\text{Similar\\_Videos} \\times (1 + \\text{Sentiment\\_Score})\n",
    "$$"
   ]
  },
  {
   "cell_type": "code",
   "execution_count": 18,
   "metadata": {},
   "outputs": [],
   "source": [
    "df_content = pd.read_csv('../data/clean_data/df_content.csv')"
   ]
  },
  {
   "cell_type": "code",
   "execution_count": 19,
   "metadata": {},
   "outputs": [
    {
     "data": {
      "text/html": [
       "<div>\n",
       "<style scoped>\n",
       "    .dataframe tbody tr th:only-of-type {\n",
       "        vertical-align: middle;\n",
       "    }\n",
       "\n",
       "    .dataframe tbody tr th {\n",
       "        vertical-align: top;\n",
       "    }\n",
       "\n",
       "    .dataframe thead th {\n",
       "        text-align: right;\n",
       "    }\n",
       "</style>\n",
       "<table border=\"1\" class=\"dataframe\">\n",
       "  <thead>\n",
       "    <tr style=\"text-align: right;\">\n",
       "      <th></th>\n",
       "      <th>video_id</th>\n",
       "      <th>title</th>\n",
       "      <th>final_score</th>\n",
       "    </tr>\n",
       "  </thead>\n",
       "  <tbody>\n",
       "    <tr>\n",
       "      <th>0</th>\n",
       "      <td>3cSjsTKtN9M</td>\n",
       "      <td>What Is Deep Learning?</td>\n",
       "      <td>1.019678</td>\n",
       "    </tr>\n",
       "    <tr>\n",
       "      <th>1</th>\n",
       "      <td>8duf31d6oyY</td>\n",
       "      <td>2️⃣5️⃣ Deep Learning: how machines learn like ...</td>\n",
       "      <td>0.930772</td>\n",
       "    </tr>\n",
       "    <tr>\n",
       "      <th>2</th>\n",
       "      <td>VOaoabf3LPM</td>\n",
       "      <td>Artificial Intelligence Full Course in 10 Hour...</td>\n",
       "      <td>0.922335</td>\n",
       "    </tr>\n",
       "    <tr>\n",
       "      <th>4</th>\n",
       "      <td>VyWAvY2CF9c</td>\n",
       "      <td>Deep Learning Crash Course for Beginners</td>\n",
       "      <td>0.897916</td>\n",
       "    </tr>\n",
       "    <tr>\n",
       "      <th>5</th>\n",
       "      <td>O5xeyoRL95U</td>\n",
       "      <td>Deep Learning Basics: Introduction and Overview</td>\n",
       "      <td>0.896204</td>\n",
       "    </tr>\n",
       "    <tr>\n",
       "      <th>3</th>\n",
       "      <td>cDTp-qXXZU0</td>\n",
       "      <td>Machine Learning vs. Deep Learning [What's the...</td>\n",
       "      <td>0.890395</td>\n",
       "    </tr>\n",
       "    <tr>\n",
       "      <th>6</th>\n",
       "      <td>7x2YZhEj9Dw</td>\n",
       "      <td>Deep Learning Tutorial with Python | Machine L...</td>\n",
       "      <td>0.850921</td>\n",
       "    </tr>\n",
       "    <tr>\n",
       "      <th>7</th>\n",
       "      <td>HGXlFG_Rz4E</td>\n",
       "      <td>Deep Learning Interview Questions and Answers ...</td>\n",
       "      <td>0.828183</td>\n",
       "    </tr>\n",
       "    <tr>\n",
       "      <th>9</th>\n",
       "      <td>9dFhZFUkzuQ</td>\n",
       "      <td>Machine Learning vs Deep Learning vs Artificia...</td>\n",
       "      <td>0.815358</td>\n",
       "    </tr>\n",
       "    <tr>\n",
       "      <th>8</th>\n",
       "      <td>atiYXm7JZv0</td>\n",
       "      <td>Machine Learning with R and TensorFlow</td>\n",
       "      <td>0.815333</td>\n",
       "    </tr>\n",
       "  </tbody>\n",
       "</table>\n",
       "</div>"
      ],
      "text/plain": [
       "      video_id                                              title  final_score\n",
       "0  3cSjsTKtN9M                             What Is Deep Learning?     1.019678\n",
       "1  8duf31d6oyY  2️⃣5️⃣ Deep Learning: how machines learn like ...     0.930772\n",
       "2  VOaoabf3LPM  Artificial Intelligence Full Course in 10 Hour...     0.922335\n",
       "4  VyWAvY2CF9c           Deep Learning Crash Course for Beginners     0.897916\n",
       "5  O5xeyoRL95U    Deep Learning Basics: Introduction and Overview     0.896204\n",
       "3  cDTp-qXXZU0  Machine Learning vs. Deep Learning [What's the...     0.890395\n",
       "6  7x2YZhEj9Dw  Deep Learning Tutorial with Python | Machine L...     0.850921\n",
       "7  HGXlFG_Rz4E  Deep Learning Interview Questions and Answers ...     0.828183\n",
       "9  9dFhZFUkzuQ  Machine Learning vs Deep Learning vs Artificia...     0.815358\n",
       "8  atiYXm7JZv0             Machine Learning with R and TensorFlow     0.815333"
      ]
     },
     "execution_count": 19,
     "metadata": {},
     "output_type": "execute_result"
    }
   ],
   "source": [
    "df_merged = df_content.merge(similar_videos, on='video_id', how='right')\n",
    "df_merged['sentiment'].fillna(0)\n",
    "\n",
    "df_merged['final_score'] = df_merged['similarity'] * (1 + df_merged['sentiment'])\n",
    "df_merged.sort_values(by='final_score', ascending=False, inplace=True)\n",
    "\n",
    "selected_columns = ['video_id', 'title', 'final_score']\n",
    "df_merged[selected_columns].head(10)"
   ]
  },
  {
   "cell_type": "markdown",
   "metadata": {},
   "source": [
    "# MODEL EVALUATION"
   ]
  },
  {
   "cell_type": "markdown",
   "metadata": {},
   "source": [
    "# Precision@K\n",
    "\n",
    "$$\n",
    "\\text{Precision@K} = \\frac{\\text{Número de elementos relevantes en el top K}}{K}\n",
    "$$\n"
   ]
  },
  {
   "cell_type": "markdown",
   "metadata": {},
   "source": [
    "# Recall@K\n",
    "$$\n",
    "\\text{Recall@K} = \\frac{\\text{Número de elementos relevantes en el top K}}{\\text{Número total de elementos relevantes}}\n",
    "$$\n"
   ]
  },
  {
   "cell_type": "markdown",
   "metadata": {},
   "source": [
    "# F1-Score@K\n",
    "$$\n",
    "\\text{F1-Score@K} = 2 \\times \\frac{\\text{Precision@K} \\times \\text{Recall@K}}{\\text{Precision@K} + \\text{Recall@K}}\n",
    "$$\n"
   ]
  }
 ],
 "metadata": {
  "kernelspec": {
   "display_name": "Python 3",
   "language": "python",
   "name": "python3"
  },
  "language_info": {
   "codemirror_mode": {
    "name": "ipython",
    "version": 3
   },
   "file_extension": ".py",
   "mimetype": "text/x-python",
   "name": "python",
   "nbconvert_exporter": "python",
   "pygments_lexer": "ipython3",
   "version": "3.10.12"
  }
 },
 "nbformat": 4,
 "nbformat_minor": 2
}
