{
  "cells": [
    {
      "cell_type": "code",
      "execution_count": 1,
      "metadata": {
        "id": "GtdXlqi2_T6N"
      },
      "outputs": [],
      "source": [
        "import pandas as pd\n",
        "import numpy as np"
      ]
    },
    {
      "cell_type": "markdown",
      "metadata": {},
      "source": [
        "# Load the data"
      ]
    },
    {
      "cell_type": "code",
      "execution_count": 2,
      "metadata": {
        "colab": {
          "base_uri": "https://localhost:8080/"
        },
        "id": "CBslCLdG_T6Q",
        "outputId": "84eb4e80-512b-4587-b449-615b10d54edd"
      },
      "outputs": [
        {
          "name": "stdout",
          "output_type": "stream",
          "text": [
            "<class 'pandas.core.frame.DataFrame'>\n",
            "RangeIndex: 184673 entries, 0 to 184672\n",
            "Data columns (total 12 columns):\n",
            " #   Column             Non-Null Count   Dtype              \n",
            "---  ------             --------------   -----              \n",
            " 0   comment_id         184673 non-null  object             \n",
            " 1   author             184673 non-null  object             \n",
            " 2   author_channel_id  184673 non-null  object             \n",
            " 3   text               184673 non-null  object             \n",
            " 4   like_count         184673 non-null  float64            \n",
            " 5   published_at       184673 non-null  datetime64[ns, UTC]\n",
            " 6   updated_at         184673 non-null  datetime64[ns, UTC]\n",
            " 7   totalReplyCount    184673 non-null  float64            \n",
            " 8   video_id           184673 non-null  object             \n",
            " 9   translation        184670 non-null  object             \n",
            " 10  clean_text         184670 non-null  object             \n",
            " 11  sentiment          184670 non-null  float64            \n",
            "dtypes: datetime64[ns, UTC](2), float64(3), object(7)\n",
            "memory usage: 16.9+ MB\n"
          ]
        }
      ],
      "source": [
        "# Load the parquet dataframe in pandas\n",
        "pd_df = pd.read_parquet(\"../data/clean_data/df_trans_sent_comments.parquet\")\n",
        "\n",
        "# Display info of dataframe\n",
        "pd_df.info()\n",
        "\n",
        "# Drop Nan val# ues\n",
        "pd_df.dropna(inplace=True)"
      ]
    },
    {
      "cell_type": "markdown",
      "metadata": {
        "id": "QBz0P1r-_T6Q"
      },
      "source": [
        "# Sentiment Analysis using RoBERTa\n",
        "* NLP Transformer-based Models used for Sentiment Analysis\n",
        "\n",
        "* RoBERTa: Robustly Optimized BERT Approach\n",
        "* BERT: Bidirectional Encoder Representations from Transformers\n",
        "\n",
        "* Optimised using datasets from Huggingface: structure optimised for NLP"
      ]
    },
    {
      "cell_type": "code",
      "execution_count": 9,
      "metadata": {},
      "outputs": [
        {
          "name": "stderr",
          "output_type": "stream",
          "text": [
            "/home/ivanseldasp/.local/lib/python3.10/site-packages/transformers/tokenization_utils_base.py:1601: FutureWarning: `clean_up_tokenization_spaces` was not set. It will be set to `True` by default. This behavior will be depracted in transformers v4.45, and will be then set to `False` by default. For more details check this issue: https://github.com/huggingface/transformers/issues/31884\n",
            "  warnings.warn(\n"
          ]
        },
        {
          "data": {
            "application/vnd.jupyter.widget-view+json": {
              "model_id": "983b73b92abe49529800f30ece1b4e40",
              "version_major": 2,
              "version_minor": 0
            },
            "text/plain": [
              "Map:   0%|          | 0/184670 [00:00<?, ? examples/s]"
            ]
          },
          "metadata": {},
          "output_type": "display_data"
        }
      ],
      "source": [
        "\n",
        "from datasets import Dataset\n",
        "from transformers import pipeline\n",
        "\n",
        "# Load the sentiment analysis model with GPU support if available\n",
        "sentiment_model = pipeline(task=\"text-classification\", model=\"SamLowe/roberta-base-go_emotions\", top_k=5, device=0)\n",
        "\n",
        "# Define a function to process a batch of texts and return the raw output without truncating the tokens\n",
        "def apply_sentiment(batch):\n",
        "    # Ensure 'clean_text' is a list of texts in the batch\n",
        "    texts = batch['clean_text_truncated']\n",
        "    \n",
        "    # Process each text without truncating tokens\n",
        "    sentiments = [sentiment_model(text) for text in texts]  # No token truncation, raw model output\n",
        "    \n",
        "    # Add the raw sentiment analysis result back to the batch\n",
        "    batch['emotions'] = sentiments\n",
        "    \n",
        "    return batch\n",
        "\n",
        "# Safe copy of the dataframe\n",
        "df_test = pd_df.copy()\n",
        "\n",
        "# Truncate the text up to 512 tokens\n",
        "def truncate_text(text):\n",
        "    return text[:512]\n",
        "df_test[\"clean_text_truncated\"] = df_test[\"clean_text\"].apply(truncate_text)\n",
        "\n",
        "# Convert the PySpark DataFrame to Pandas and then to a Hugging Face Dataset\n",
        "dataset = Dataset.from_pandas(df_test)\n",
        "\n",
        "# Apply the sentiment analysis model in batches\n",
        "dataset = dataset.map(apply_sentiment, batched=True, batch_size=64)\n",
        "\n",
        "# Convert the dataset back to a pandas DataFrame if needed\n",
        "df_result = dataset.to_pandas()"
      ]
    },
    {
      "cell_type": "code",
      "execution_count": 10,
      "metadata": {},
      "outputs": [],
      "source": [
        "# Save dataframe locally\n",
        "df_result.to_parquet(\"../data/clean_data/df_comments_emotions_nlp.parquet\")"
      ]
    },
    {
      "cell_type": "markdown",
      "metadata": {},
      "source": [
        "# Process Emotion Analysis data from RoBERTa"
      ]
    },
    {
      "cell_type": "code",
      "execution_count": 30,
      "metadata": {
        "id": "bTAaxut4_T6S"
      },
      "outputs": [],
      "source": [
        "from pyspark.sql.functions import udf, col, slice\n",
        "from pyspark.sql.types import FloatType\n",
        "\n",
        "# Diccionario que mapea emociones a un valor entre -1 y 1\n",
        "emotion_sentiment_map = {\n",
        "    'admiration': 1,\n",
        "    'approval': 0.8,\n",
        "    'gratitude': 1,\n",
        "    'neutral': 0,\n",
        "    'optimism': 0.7,\n",
        "    'disapproval': -0.7,\n",
        "    'realization': 0.5,\n",
        "    'curiosity': 0.4,\n",
        "    'excitement': 0.9,\n",
        "    'annoyance': -0.6,\n",
        "    'joy': 1,\n",
        "    'disappointment': -0.6,\n",
        "    'confusion': -0.3,\n",
        "    'surprise': 0.2,\n",
        "    'love': 1,\n",
        "    'pride': 0.9,\n",
        "    'sadness': -0.8,\n",
        "    'caring': 0.8,\n",
        "    'amusement': 0.7,\n",
        "    'anger': -0.9,\n",
        "    'desire': 0.5,\n",
        "    'disgust': -1,\n",
        "    'relief': 0.6,\n",
        "    'fear': -0.9,\n",
        "    'remorse': -0.7,\n",
        "    'grief': -0.9,\n",
        "    'embarrassment': -0.4,\n",
        "    'nervousness': -0.5\n",
        "}\n",
        "\n",
        "# Check whether the input is empty\n",
        "def calculate_sentiment(emotions):\n",
        "    emotions = emotions[0]\n",
        "    if len(emotions) != 5:\n",
        "        return 0.0\n",
        "\n",
        "    # Create an initial list with all the emotion's scores\n",
        "    initial_score_list = []\n",
        "    for n in range(len(emotions)):\n",
        "        score = emotions[n]['score']\n",
        "        initial_score_list.append(score)\n",
        "\n",
        "    # Create an initial list with all the emotion's scores\n",
        "    # Sum the total initial score\n",
        "    initial_score_total = sum(initial_score_list)\n",
        "\n",
        "    # Multiply each percentage of the emotion per the value from the emotion_dictionary_values\n",
        "    emotion_score_list = []\n",
        "    for n in range(len(emotions)):\n",
        "        label = emotions[n]['label']\n",
        "        score = initial_score_list[n] / initial_score_total\n",
        "        final_score = emotion_sentiment_map[label] * score\n",
        "        emotion_score_list.append(final_score)\n",
        "\n",
        "    # Sum the total value pondered\n",
        "    return sum(emotion_score_list)\n",
        "\n",
        "# sentiment_score_udf = udf(calculate_sentiment, FloatType())\n",
        "# df_final = df_spark.withColumn(\"sentiment_score\", sentiment_score_udf(df_spark[\"emotions\"]))\n"
      ]
    },
    {
      "cell_type": "code",
      "execution_count": 31,
      "metadata": {},
      "outputs": [],
      "source": [
        "df_result[\"emotions_score\"] = df_result[\"emotions\"].apply(calculate_sentiment)"
      ]
    },
    {
      "cell_type": "code",
      "execution_count": 39,
      "metadata": {},
      "outputs": [],
      "source": [
        "df_result[\"score_x_likes\"] = df_result[\"emotions_score\"] * (df_result[\"like_count\"] + 1)\n",
        "df_result_groupped = df_result[[\"video_id\", \"emotions_score\"]].groupby(\"video_id\").mean()"
      ]
    },
    {
      "cell_type": "code",
      "execution_count": 57,
      "metadata": {},
      "outputs": [
        {
          "data": {
            "text/html": [
              "<div>\n",
              "<style scoped>\n",
              "    .dataframe tbody tr th:only-of-type {\n",
              "        vertical-align: middle;\n",
              "    }\n",
              "\n",
              "    .dataframe tbody tr th {\n",
              "        vertical-align: top;\n",
              "    }\n",
              "\n",
              "    .dataframe thead th {\n",
              "        text-align: right;\n",
              "    }\n",
              "</style>\n",
              "<table border=\"1\" class=\"dataframe\">\n",
              "  <thead>\n",
              "    <tr style=\"text-align: right;\">\n",
              "      <th></th>\n",
              "      <th>emotions_score</th>\n",
              "    </tr>\n",
              "    <tr>\n",
              "      <th>video_id</th>\n",
              "      <th></th>\n",
              "    </tr>\n",
              "  </thead>\n",
              "  <tbody>\n",
              "    <tr>\n",
              "      <th>-3Yexx70g24</th>\n",
              "      <td>0.287535</td>\n",
              "    </tr>\n",
              "    <tr>\n",
              "      <th>-4N27QlgJNQ</th>\n",
              "      <td>0.160689</td>\n",
              "    </tr>\n",
              "    <tr>\n",
              "      <th>-5zUVOl_Km0</th>\n",
              "      <td>0.441644</td>\n",
              "    </tr>\n",
              "    <tr>\n",
              "      <th>-8qzzN7CWxA</th>\n",
              "      <td>0.335356</td>\n",
              "    </tr>\n",
              "    <tr>\n",
              "      <th>-ETQ97mXXF0</th>\n",
              "      <td>0.533848</td>\n",
              "    </tr>\n",
              "  </tbody>\n",
              "</table>\n",
              "</div>"
            ],
            "text/plain": [
              "             emotions_score\n",
              "video_id                   \n",
              "-3Yexx70g24        0.287535\n",
              "-4N27QlgJNQ        0.160689\n",
              "-5zUVOl_Km0        0.441644\n",
              "-8qzzN7CWxA        0.335356\n",
              "-ETQ97mXXF0        0.533848"
            ]
          },
          "execution_count": 57,
          "metadata": {},
          "output_type": "execute_result"
        }
      ],
      "source": [
        "df_result_groupped.head()"
      ]
    },
    {
      "cell_type": "code",
      "execution_count": 63,
      "metadata": {},
      "outputs": [
        {
          "data": {
            "image/png": "[encoded data removed]",
            "text/plain": [
              "<Figure size 864x576 with 1 Axes>"
            ]
          },
          "metadata": {
            "needs_background": "light"
          },
          "output_type": "display_data"
        }
      ],
      "source": [
        "import matplotlib.pyplot as plt\n",
        "\n",
        "\n",
        "df_result_groupped.sort_values(by='emotions_score', ascending=False).plot(figsize=(12,8))\n",
        "plt.title(\"EMOTIONS SCORE\")\n",
        "plt.show()"
      ]
    },
    {
      "cell_type": "markdown",
      "metadata": {},
      "source": [
        "# PySpark for Sentiment Analysis"
      ]
    },
    {
      "cell_type": "code",
      "execution_count": 2,
      "metadata": {
        "id": "Phy8iiAW5Ho7"
      },
      "outputs": [],
      "source": [
        "from pyspark.sql import SparkSession\n",
        "from pyspark.sql.functions import broadcast\n",
        "from pyspark.sql.types import *\n",
        "from pyspark.sql import SparkSession\n",
        "from pyspark.storagelevel import StorageLevel"
      ]
    },
    {
      "cell_type": "code",
      "execution_count": 3,
      "metadata": {
        "id": "f5mWITN__T6P"
      },
      "outputs": [
        {
          "name": "stderr",
          "output_type": "stream",
          "text": [
            "your 131072x1 screen size is bogus. expect trouble\n",
            "24/10/23 00:33:17 WARN Utils: Your hostname, DESKTOP-AEUBGUH resolves to a loopback address: 127.0.1.1; using 172.17.252.233 instead (on interface eth0)\n",
            "24/10/23 00:33:17 WARN Utils: Set SPARK_LOCAL_IP if you need to bind to another address\n",
            "Setting default log level to \"WARN\".\n",
            "To adjust logging level use sc.setLogLevel(newLevel). For SparkR, use setLogLevel(newLevel).\n",
            "24/10/23 00:33:19 WARN NativeCodeLoader: Unable to load native-hadoop library for your platform... using builtin-java classes where applicable\n"
          ]
        }
      ],
      "source": [
        "# Create a Spark sesion\n",
        "spark = SparkSession.builder.getOrCreate()"
      ]
    },
    {
      "cell_type": "code",
      "execution_count": 4,
      "metadata": {
        "id": "ggl7UVFD34rC"
      },
      "outputs": [],
      "source": [
        "# Amply the memory up to 8GB\n",
        "spark.conf.set(\"spark.sql.autoBroadcastJoinThreshold\", 8000 * 1024 * 1024)"
      ]
    },
    {
      "cell_type": "code",
      "execution_count": 5,
      "metadata": {
        "colab": {
          "base_uri": "https://localhost:8080/"
        },
        "id": "pISe2vhU1uah",
        "outputId": "6e9d628c-6c95-4e0a-c5f4-94dfd7554807"
      },
      "outputs": [
        {
          "name": "stdout",
          "output_type": "stream",
          "text": [
            "Default size of broadcast table is 8000.0 MB.\n"
          ]
        }
      ],
      "source": [
        "# Get the threshold value and remove the non-numeric part (the 'b' character for bytes)\n",
        "threshold_value = spark.conf.get(\"spark.sql.autoBroadcastJoinThreshold\").rstrip('b')\n",
        "\n",
        "# Convert the cleaned value to an integer and calculate the size in MB\n",
        "size = int(threshold_value) / (1024 * 1024)\n",
        "\n",
        "# Print the result\n",
        "print(f\"Default size of broadcast table is {size} MB.\")"
      ]
    },
    {
      "cell_type": "code",
      "execution_count": null,
      "metadata": {
        "colab": {
          "base_uri": "https://localhost:8080/"
        },
        "id": "hYqWMBz24tFc",
        "outputId": "607a8377-ec4c-4fbd-a07b-8abaaa9a9e60"
      },
      "outputs": [
        {
          "name": "stdout",
          "output_type": "stream",
          "text": [
            "Memory Used : True\n",
            "Disk Used : True\n"
          ]
        }
      ],
      "source": [
        "# Verify the dataframe has been stored in cache\n",
        "print(\"Memory Used : {0}\".format(df.storageLevel.useMemory))\n",
        "print(\"Disk Used : {0}\".format(df.storageLevel.useDisk))"
      ]
    },
    {
      "cell_type": "markdown",
      "metadata": {},
      "source": [
        "# Load PySpark Dataframe"
      ]
    },
    {
      "cell_type": "code",
      "execution_count": null,
      "metadata": {},
      "outputs": [],
      "source": [
        "# Load the dataframe in PySpark\n",
        "df_spark = spark.createDataFrame(df_result)\n",
        "\n",
        "# Save it in cache for later uses\n",
        "df_spark.cache()"
      ]
    },
    {
      "cell_type": "code",
      "execution_count": 34,
      "metadata": {},
      "outputs": [
        {
          "name": "stdout",
          "output_type": "stream",
          "text": [
            "<class 'pandas.core.frame.DataFrame'>\n",
            "RangeIndex: 184670 entries, 0 to 184669\n",
            "Data columns (total 16 columns):\n",
            " #   Column                Non-Null Count   Dtype              \n",
            "---  ------                --------------   -----              \n",
            " 0   comment_id            184670 non-null  object             \n",
            " 1   author                184670 non-null  object             \n",
            " 2   author_channel_id     184670 non-null  object             \n",
            " 3   text                  184670 non-null  object             \n",
            " 4   like_count            184670 non-null  float64            \n",
            " 5   published_at          184670 non-null  datetime64[ns, UTC]\n",
            " 6   updated_at            184670 non-null  datetime64[ns, UTC]\n",
            " 7   totalReplyCount       184670 non-null  float64            \n",
            " 8   video_id              184670 non-null  object             \n",
            " 9   translation           184670 non-null  object             \n",
            " 10  clean_text            184670 non-null  object             \n",
            " 11  sentiment             184670 non-null  float64            \n",
            " 12  clean_text_truncated  184670 non-null  object             \n",
            " 13  __index_level_0__     184670 non-null  int64              \n",
            " 14  emotions              184670 non-null  object             \n",
            " 15  emotions_score        184670 non-null  float64            \n",
            "dtypes: datetime64[ns, UTC](2), float64(4), int64(1), object(9)\n",
            "memory usage: 22.5+ MB\n"
          ]
        }
      ],
      "source": []
    },
    {
      "cell_type": "code",
      "execution_count": 28,
      "metadata": {
        "id": "xaoXhTR4_T6T"
      },
      "outputs": [],
      "source": [
        "df_final = df_final.select(\"video_id\", \"like_count\", \"sentiment_score\")\n",
        "# df_final.write.parquet(\"../data/final_sentiment_score.parquet\")"
      ]
    },
    {
      "cell_type": "markdown",
      "metadata": {
        "id": "so1bXnaU_T6U"
      },
      "source": [
        "# SQL Query"
      ]
    },
    {
      "cell_type": "code",
      "execution_count": 14,
      "metadata": {
        "id": "GryEetMY_T6U"
      },
      "outputs": [],
      "source": [
        "# Register the DataFrame as a temporary SQL view\n",
        "df_final.createOrReplaceTempView(\"sentiment_data\")"
      ]
    },
    {
      "cell_type": "code",
      "execution_count": 15,
      "metadata": {
        "id": "0BgJqMlG_T6U"
      },
      "outputs": [],
      "source": [
        "# Execute SQL query to apply the same logic as the PySpark code\n",
        "df_weighted_sentiment_sum = spark.sql(\"\"\"\n",
        "    SELECT\n",
        "        video_id,\n",
        "        (SUM(like_count * sentiment_score) / SUM(like_count)) AS weighted_sentiment_score\n",
        "    FROM\n",
        "        sentiment_data\n",
        "    GROUP BY\n",
        "        video_id\n",
        "\"\"\")"
      ]
    },
    {
      "cell_type": "code",
      "execution_count": 16,
      "metadata": {
        "id": "m3Oko-bc_T6V"
      },
      "outputs": [
        {
          "name": "stderr",
          "output_type": "stream",
          "text": [
            "ERROR:root:Exception while sending command.                      (0 + 12) / 100]\n",
            "Traceback (most recent call last):\n",
            "  File \"/home/ivanseldasp/.local/lib/python3.10/site-packages/py4j/clientserver.py\", line 516, in send_command\n",
            "    raise Py4JNetworkError(\"Answer from Java side is empty\")\n",
            "py4j.protocol.Py4JNetworkError: Answer from Java side is empty\n",
            "\n",
            "During handling of the above exception, another exception occurred:\n",
            "\n",
            "Traceback (most recent call last):\n",
            "  File \"/home/ivanseldasp/.local/lib/python3.10/site-packages/py4j/java_gateway.py\", line 1038, in send_command\n",
            "    response = connection.send_command(command)\n",
            "  File \"/home/ivanseldasp/.local/lib/python3.10/site-packages/py4j/clientserver.py\", line 539, in send_command\n",
            "    raise Py4JNetworkError(\n",
            "py4j.protocol.Py4JNetworkError: Error while sending or receiving\n",
            "ERROR:root:Exception while sending command.\n",
            "Traceback (most recent call last):\n",
            "  File \"/home/ivanseldasp/.local/lib/python3.10/site-packages/py4j/clientserver.py\", line 516, in send_command\n",
            "    raise Py4JNetworkError(\"Answer from Java side is empty\")\n",
            "py4j.protocol.Py4JNetworkError: Answer from Java side is empty\n",
            "\n",
            "During handling of the above exception, another exception occurred:\n",
            "\n",
            "Traceback (most recent call last):\n",
            "  File \"/home/ivanseldasp/.local/lib/python3.10/site-packages/py4j/java_gateway.py\", line 1038, in send_command\n",
            "    response = connection.send_command(command)\n",
            "  File \"/home/ivanseldasp/.local/lib/python3.10/site-packages/py4j/clientserver.py\", line 539, in send_command\n",
            "    raise Py4JNetworkError(\n",
            "py4j.protocol.Py4JNetworkError: Error while sending or receiving\n"
          ]
        },
        {
          "name": "stderr",
          "output_type": "stream",
          "text": [
            "----------------------------------------\n",
            "Exception occurred during processing of request from ('127.0.0.1', 47186)\n",
            "Traceback (most recent call last):\n",
            "  File \"/usr/lib/python3.10/socketserver.py\", line 316, in _handle_request_noblock\n",
            "    self.process_request(request, client_address)\n",
            "  File \"/usr/lib/python3.10/socketserver.py\", line 347, in process_request\n",
            "    self.finish_request(request, client_address)\n",
            "  File \"/usr/lib/python3.10/socketserver.py\", line 360, in finish_request\n",
            "    self.RequestHandlerClass(request, client_address, self)\n",
            "  File \"/usr/lib/python3.10/socketserver.py\", line 747, in __init__\n",
            "    self.handle()\n",
            "  File \"/home/ivanseldasp/.local/lib/python3.10/site-packages/pyspark/accumulators.py\", line 295, in handle\n",
            "    poll(accum_updates)\n",
            "  File \"/home/ivanseldasp/.local/lib/python3.10/site-packages/pyspark/accumulators.py\", line 267, in poll\n",
            "    if self.rfile in r and func():\n",
            "  File \"/home/ivanseldasp/.local/lib/python3.10/site-packages/pyspark/accumulators.py\", line 271, in accum_updates\n",
            "    num_updates = read_int(self.rfile)\n",
            "  File \"/home/ivanseldasp/.local/lib/python3.10/site-packages/pyspark/serializers.py\", line 596, in read_int\n",
            "    raise EOFError\n",
            "EOFError\n",
            "----------------------------------------\n"
          ]
        },
        {
          "ename": "Py4JError",
          "evalue": "An error occurred while calling o99.showString",
          "output_type": "error",
          "traceback": [
            "\u001b[0;31m---------------------------------------------------------------------------\u001b[0m",
            "\u001b[0;31mPy4JError\u001b[0m                                 Traceback (most recent call last)",
            "Cell \u001b[0;32mIn[16], line 1\u001b[0m\n\u001b[0;32m----> 1\u001b[0m \u001b[43mdf_weighted_sentiment_sum\u001b[49m\u001b[38;5;241;43m.\u001b[39;49m\u001b[43mshow\u001b[49m\u001b[43m(\u001b[49m\u001b[38;5;241;43m5\u001b[39;49m\u001b[43m)\u001b[49m\n",
            "File \u001b[0;32m~/.local/lib/python3.10/site-packages/pyspark/sql/dataframe.py:945\u001b[0m, in \u001b[0;36mDataFrame.show\u001b[0;34m(self, n, truncate, vertical)\u001b[0m\n\u001b[1;32m    885\u001b[0m \u001b[38;5;28;01mdef\u001b[39;00m \u001b[38;5;21mshow\u001b[39m(\u001b[38;5;28mself\u001b[39m, n: \u001b[38;5;28mint\u001b[39m \u001b[38;5;241m=\u001b[39m \u001b[38;5;241m20\u001b[39m, truncate: Union[\u001b[38;5;28mbool\u001b[39m, \u001b[38;5;28mint\u001b[39m] \u001b[38;5;241m=\u001b[39m \u001b[38;5;28;01mTrue\u001b[39;00m, vertical: \u001b[38;5;28mbool\u001b[39m \u001b[38;5;241m=\u001b[39m \u001b[38;5;28;01mFalse\u001b[39;00m) \u001b[38;5;241m-\u001b[39m\u001b[38;5;241m>\u001b[39m \u001b[38;5;28;01mNone\u001b[39;00m:\n\u001b[1;32m    886\u001b[0m \u001b[38;5;250m    \u001b[39m\u001b[38;5;124;03m\"\"\"Prints the first ``n`` rows to the console.\u001b[39;00m\n\u001b[1;32m    887\u001b[0m \n\u001b[1;32m    888\u001b[0m \u001b[38;5;124;03m    .. versionadded:: 1.3.0\u001b[39;00m\n\u001b[0;32m   (...)\u001b[0m\n\u001b[1;32m    943\u001b[0m \u001b[38;5;124;03m    name | Bob\u001b[39;00m\n\u001b[1;32m    944\u001b[0m \u001b[38;5;124;03m    \"\"\"\u001b[39;00m\n\u001b[0;32m--> 945\u001b[0m     \u001b[38;5;28mprint\u001b[39m(\u001b[38;5;28;43mself\u001b[39;49m\u001b[38;5;241;43m.\u001b[39;49m\u001b[43m_show_string\u001b[49m\u001b[43m(\u001b[49m\u001b[43mn\u001b[49m\u001b[43m,\u001b[49m\u001b[43m \u001b[49m\u001b[43mtruncate\u001b[49m\u001b[43m,\u001b[49m\u001b[43m \u001b[49m\u001b[43mvertical\u001b[49m\u001b[43m)\u001b[49m)\n",
            "File \u001b[0;32m~/.local/lib/python3.10/site-packages/pyspark/sql/dataframe.py:963\u001b[0m, in \u001b[0;36mDataFrame._show_string\u001b[0;34m(self, n, truncate, vertical)\u001b[0m\n\u001b[1;32m    957\u001b[0m     \u001b[38;5;28;01mraise\u001b[39;00m PySparkTypeError(\n\u001b[1;32m    958\u001b[0m         error_class\u001b[38;5;241m=\u001b[39m\u001b[38;5;124m\"\u001b[39m\u001b[38;5;124mNOT_BOOL\u001b[39m\u001b[38;5;124m\"\u001b[39m,\n\u001b[1;32m    959\u001b[0m         message_parameters\u001b[38;5;241m=\u001b[39m{\u001b[38;5;124m\"\u001b[39m\u001b[38;5;124marg_name\u001b[39m\u001b[38;5;124m\"\u001b[39m: \u001b[38;5;124m\"\u001b[39m\u001b[38;5;124mvertical\u001b[39m\u001b[38;5;124m\"\u001b[39m, \u001b[38;5;124m\"\u001b[39m\u001b[38;5;124marg_type\u001b[39m\u001b[38;5;124m\"\u001b[39m: \u001b[38;5;28mtype\u001b[39m(vertical)\u001b[38;5;241m.\u001b[39m\u001b[38;5;18m__name__\u001b[39m},\n\u001b[1;32m    960\u001b[0m     )\n\u001b[1;32m    962\u001b[0m \u001b[38;5;28;01mif\u001b[39;00m \u001b[38;5;28misinstance\u001b[39m(truncate, \u001b[38;5;28mbool\u001b[39m) \u001b[38;5;129;01mand\u001b[39;00m truncate:\n\u001b[0;32m--> 963\u001b[0m     \u001b[38;5;28;01mreturn\u001b[39;00m \u001b[38;5;28;43mself\u001b[39;49m\u001b[38;5;241;43m.\u001b[39;49m\u001b[43m_jdf\u001b[49m\u001b[38;5;241;43m.\u001b[39;49m\u001b[43mshowString\u001b[49m\u001b[43m(\u001b[49m\u001b[43mn\u001b[49m\u001b[43m,\u001b[49m\u001b[43m \u001b[49m\u001b[38;5;241;43m20\u001b[39;49m\u001b[43m,\u001b[49m\u001b[43m \u001b[49m\u001b[43mvertical\u001b[49m\u001b[43m)\u001b[49m\n\u001b[1;32m    964\u001b[0m \u001b[38;5;28;01melse\u001b[39;00m:\n\u001b[1;32m    965\u001b[0m     \u001b[38;5;28;01mtry\u001b[39;00m:\n",
            "File \u001b[0;32m~/.local/lib/python3.10/site-packages/py4j/java_gateway.py:1322\u001b[0m, in \u001b[0;36mJavaMember.__call__\u001b[0;34m(self, *args)\u001b[0m\n\u001b[1;32m   1316\u001b[0m command \u001b[38;5;241m=\u001b[39m proto\u001b[38;5;241m.\u001b[39mCALL_COMMAND_NAME \u001b[38;5;241m+\u001b[39m\\\n\u001b[1;32m   1317\u001b[0m     \u001b[38;5;28mself\u001b[39m\u001b[38;5;241m.\u001b[39mcommand_header \u001b[38;5;241m+\u001b[39m\\\n\u001b[1;32m   1318\u001b[0m     args_command \u001b[38;5;241m+\u001b[39m\\\n\u001b[1;32m   1319\u001b[0m     proto\u001b[38;5;241m.\u001b[39mEND_COMMAND_PART\n\u001b[1;32m   1321\u001b[0m answer \u001b[38;5;241m=\u001b[39m \u001b[38;5;28mself\u001b[39m\u001b[38;5;241m.\u001b[39mgateway_client\u001b[38;5;241m.\u001b[39msend_command(command)\n\u001b[0;32m-> 1322\u001b[0m return_value \u001b[38;5;241m=\u001b[39m \u001b[43mget_return_value\u001b[49m\u001b[43m(\u001b[49m\n\u001b[1;32m   1323\u001b[0m \u001b[43m    \u001b[49m\u001b[43manswer\u001b[49m\u001b[43m,\u001b[49m\u001b[43m \u001b[49m\u001b[38;5;28;43mself\u001b[39;49m\u001b[38;5;241;43m.\u001b[39;49m\u001b[43mgateway_client\u001b[49m\u001b[43m,\u001b[49m\u001b[43m \u001b[49m\u001b[38;5;28;43mself\u001b[39;49m\u001b[38;5;241;43m.\u001b[39;49m\u001b[43mtarget_id\u001b[49m\u001b[43m,\u001b[49m\u001b[43m \u001b[49m\u001b[38;5;28;43mself\u001b[39;49m\u001b[38;5;241;43m.\u001b[39;49m\u001b[43mname\u001b[49m\u001b[43m)\u001b[49m\n\u001b[1;32m   1325\u001b[0m \u001b[38;5;28;01mfor\u001b[39;00m temp_arg \u001b[38;5;129;01min\u001b[39;00m temp_args:\n\u001b[1;32m   1326\u001b[0m     \u001b[38;5;28;01mif\u001b[39;00m \u001b[38;5;28mhasattr\u001b[39m(temp_arg, \u001b[38;5;124m\"\u001b[39m\u001b[38;5;124m_detach\u001b[39m\u001b[38;5;124m\"\u001b[39m):\n",
            "File \u001b[0;32m~/.local/lib/python3.10/site-packages/pyspark/errors/exceptions/captured.py:179\u001b[0m, in \u001b[0;36mcapture_sql_exception.<locals>.deco\u001b[0;34m(*a, **kw)\u001b[0m\n\u001b[1;32m    177\u001b[0m \u001b[38;5;28;01mdef\u001b[39;00m \u001b[38;5;21mdeco\u001b[39m(\u001b[38;5;241m*\u001b[39ma: Any, \u001b[38;5;241m*\u001b[39m\u001b[38;5;241m*\u001b[39mkw: Any) \u001b[38;5;241m-\u001b[39m\u001b[38;5;241m>\u001b[39m Any:\n\u001b[1;32m    178\u001b[0m     \u001b[38;5;28;01mtry\u001b[39;00m:\n\u001b[0;32m--> 179\u001b[0m         \u001b[38;5;28;01mreturn\u001b[39;00m \u001b[43mf\u001b[49m\u001b[43m(\u001b[49m\u001b[38;5;241;43m*\u001b[39;49m\u001b[43ma\u001b[49m\u001b[43m,\u001b[49m\u001b[43m \u001b[49m\u001b[38;5;241;43m*\u001b[39;49m\u001b[38;5;241;43m*\u001b[39;49m\u001b[43mkw\u001b[49m\u001b[43m)\u001b[49m\n\u001b[1;32m    180\u001b[0m     \u001b[38;5;28;01mexcept\u001b[39;00m Py4JJavaError \u001b[38;5;28;01mas\u001b[39;00m e:\n\u001b[1;32m    181\u001b[0m         converted \u001b[38;5;241m=\u001b[39m convert_exception(e\u001b[38;5;241m.\u001b[39mjava_exception)\n",
            "File \u001b[0;32m~/.local/lib/python3.10/site-packages/py4j/protocol.py:334\u001b[0m, in \u001b[0;36mget_return_value\u001b[0;34m(answer, gateway_client, target_id, name)\u001b[0m\n\u001b[1;32m    330\u001b[0m             \u001b[38;5;28;01mraise\u001b[39;00m Py4JError(\n\u001b[1;32m    331\u001b[0m                 \u001b[38;5;124m\"\u001b[39m\u001b[38;5;124mAn error occurred while calling \u001b[39m\u001b[38;5;132;01m{0}\u001b[39;00m\u001b[38;5;132;01m{1}\u001b[39;00m\u001b[38;5;132;01m{2}\u001b[39;00m\u001b[38;5;124m. Trace:\u001b[39m\u001b[38;5;130;01m\\n\u001b[39;00m\u001b[38;5;132;01m{3}\u001b[39;00m\u001b[38;5;130;01m\\n\u001b[39;00m\u001b[38;5;124m\"\u001b[39m\u001b[38;5;241m.\u001b[39m\n\u001b[1;32m    332\u001b[0m                 \u001b[38;5;28mformat\u001b[39m(target_id, \u001b[38;5;124m\"\u001b[39m\u001b[38;5;124m.\u001b[39m\u001b[38;5;124m\"\u001b[39m, name, value))\n\u001b[1;32m    333\u001b[0m     \u001b[38;5;28;01melse\u001b[39;00m:\n\u001b[0;32m--> 334\u001b[0m         \u001b[38;5;28;01mraise\u001b[39;00m Py4JError(\n\u001b[1;32m    335\u001b[0m             \u001b[38;5;124m\"\u001b[39m\u001b[38;5;124mAn error occurred while calling \u001b[39m\u001b[38;5;132;01m{0}\u001b[39;00m\u001b[38;5;132;01m{1}\u001b[39;00m\u001b[38;5;132;01m{2}\u001b[39;00m\u001b[38;5;124m\"\u001b[39m\u001b[38;5;241m.\u001b[39m\n\u001b[1;32m    336\u001b[0m             \u001b[38;5;28mformat\u001b[39m(target_id, \u001b[38;5;124m\"\u001b[39m\u001b[38;5;124m.\u001b[39m\u001b[38;5;124m\"\u001b[39m, name))\n\u001b[1;32m    337\u001b[0m \u001b[38;5;28;01melse\u001b[39;00m:\n\u001b[1;32m    338\u001b[0m     \u001b[38;5;28mtype\u001b[39m \u001b[38;5;241m=\u001b[39m answer[\u001b[38;5;241m1\u001b[39m]\n",
            "\u001b[0;31mPy4JError\u001b[0m: An error occurred while calling o99.showString"
          ]
        }
      ],
      "source": [
        "df_weighted_sentiment_sum.show(5)"
      ]
    },
    {
      "cell_type": "markdown",
      "metadata": {
        "id": "kqXcBfKmSmMk"
      },
      "source": []
    },
    {
      "cell_type": "markdown",
      "metadata": {
        "id": "FhUrjLUU_T6V"
      },
      "source": [
        "# Plotting test"
      ]
    },
    {
      "cell_type": "code",
      "execution_count": null,
      "metadata": {
        "id": "9AeYcPRr_T6V"
      },
      "outputs": [],
      "source": [
        "import matplotlib.pyplot as plt\n",
        "import pandas as pd\n",
        "import numpy as np\n",
        "\n",
        "# Sample data for a bubble heatmap\n",
        "data = np.random.choice([0, 1, 2], size=(10, 10))  # Random data with values 0, 1, 2\n",
        "df = pd.DataFrame(data, columns=[f\"Column {i+1}\" for i in range(10)],\n",
        "                  index=[f\"Row {i+1}\" for i in range(10)])\n",
        "\n",
        "# Create the bubble heatmap\n",
        "plt.figure(figsize=(6, 5))\n",
        "\n",
        "for i in range(df.shape[0]):\n",
        "    for j in range(df.shape[1]):\n",
        "        value = df.iloc[i, j]\n",
        "        if value != 0:\n",
        "            plt.scatter(j, i, s=value * 300, color='blue' if value == 1 else 'purple', alpha=0.6)\n",
        "\n",
        "# Customizing the heatmap\n",
        "plt.xticks(np.arange(df.shape[1]), df.columns, rotation=90)\n",
        "plt.yticks(np.arange(df.shape[0]), df.index)\n",
        "plt.gca().invert_yaxis()  # To match the orientation\n",
        "\n",
        "plt.grid(True, which='both', color='gray', linestyle='--', linewidth=0.5, alpha=0.7)\n",
        "\n",
        "# Creating a custom legend\n",
        "legend_elements = [plt.Line2D([0], [0], marker='o', color='w', label='Probably', markersize=10,\n",
        "                               markerfacecolor='blue', alpha=0.6),\n",
        "                   plt.Line2D([0], [0], marker='o', color='w', label='Could be', markersize=10,\n",
        "                               markerfacecolor='purple', alpha=0.6)]\n",
        "\n",
        "plt.legend(handles=legend_elements, title='Key', loc='upper right')\n",
        "\n",
        "plt.title('Bubble Heatmap Example', fontsize=14)\n",
        "plt.tight_layout()\n",
        "plt.show()"
      ]
    },
    {
      "cell_type": "code",
      "execution_count": null,
      "metadata": {
        "id": "pdO1vi6y_T6W"
      },
      "outputs": [],
      "source": [
        "import pandas as pd\n",
        "import matplotlib.pyplot as plt\n",
        "from sklearn.feature_extraction.text import TfidfVectorizer\n",
        "import numpy as np\n",
        "\n",
        "# Sample text data\n",
        "documents = [\n",
        "    \"Data science is an interdisciplinary field.\",\n",
        "    \"Machine learning is a subset of artificial intelligence.\",\n",
        "    \"Python is widely used in data science and machine learning.\",\n",
        "    \"TF-IDF is a statistical measure used in text mining.\",\n",
        "    \"Visualization is key in presenting data analysis.\"\n",
        "]\n",
        "\n",
        "# Generate TF-IDF matrix\n",
        "vectorizer = TfidfVectorizer()\n",
        "tfidf_matrix = vectorizer.fit_transform(documents)\n",
        "\n",
        "# Create a DataFrame from the TF-IDF matrix\n",
        "tfidf_df = pd.DataFrame(tfidf_matrix.toarray(), columns=vectorizer.get_feature_names_out())\n",
        "\n",
        "# Define a threshold for low values\n",
        "low_value_threshold = 0.1\n",
        "\n",
        "# Creating a bubble map\n",
        "plt.figure(figsize=(15, 10))\n",
        "\n",
        "# Iterate over the DataFrame to create the bubble map with crosses for low values\n",
        "for row_idx in range(tfidf_df.shape[0]):\n",
        "    for col_idx in range(tfidf_df.shape[1]):\n",
        "        value = tfidf_df.iloc[row_idx, col_idx]\n",
        "        if value > 0:\n",
        "            # Plot bubbles for non-zero values\n",
        "            plt.scatter(col_idx, row_idx, s=value * 1000, alpha=0.6, color='blue')\n",
        "            # Plot a cross for low TF-IDF values\n",
        "            if value < low_value_threshold:\n",
        "                plt.scatter(col_idx, row_idx, s=100, marker='x', color='red', alpha=0.8, linewidths=2)\n",
        "\n",
        "# Customizing the bubble map\n",
        "plt.xticks(np.arange(tfidf_df.shape[1]), tfidf_df.columns, rotation=90)\n",
        "plt.yticks(np.arange(tfidf_df.shape[0]), [f\"Doc {i+1}\" for i in range(tfidf_df.shape[0])])\n",
        "plt.gca().invert_yaxis()  # To match the heatmap orientation\n",
        "plt.gca().set_aspect('equal', adjustable='box')\n",
        "\n",
        "\n",
        "plt.grid(True, which='both', color='gray', linestyle='--', linewidth=0.5, alpha=0.7)\n",
        "\n",
        "# Title and layout adjustments\n",
        "plt.title('Bubble Map of TF-IDF Matrix with Crosses for Low Values', fontsize=14)\n",
        "plt.tight_layout()\n",
        "plt.show();"
      ]
    },
    {
      "cell_type": "code",
      "execution_count": null,
      "metadata": {
        "id": "nhQybc6B_T6W"
      },
      "outputs": [],
      "source": [
        "import matplotlib.pyplot as plt\n",
        "import pandas as pd\n",
        "import numpy as np\n",
        "import seaborn as sns\n",
        "\n",
        "# Crear los datos de ejemplo similares al gráfico que compartiste\n",
        "emotions = [\n",
        "    \"Abysmal\", \"Awful\", \"Terrible\", \"Very bad\", \"Really bad\", \"Rubbish\", \"Bad\", \"Poor\",\n",
        "    \"Pretty bad\", \"Below average\", \"Mediocre\", \"Average\", \"Not bad\", \"Above average\",\n",
        "    \"Pretty good\", \"Good\", \"Great\", \"Really good\", \"Very good\", \"Fantastic\", \"Superb\",\n",
        "    \"Brilliant\", \"Incredible\"\n",
        "]\n",
        "average_scores = np.linspace(1.2, 8.8, len(emotions))\n",
        "\n",
        "# Creamos una lista de distribuciones ficticias para cada emoción\n",
        "np.random.seed(42)\n",
        "data = {\n",
        "    'score': np.concatenate([np.random.normal(loc=avg, scale=0.4, size=500) for avg in average_scores]),\n",
        "    'emotion': np.concatenate([[emotion] * 500 for emotion in emotions])\n",
        "}\n",
        "\n",
        "df = pd.DataFrame(data)\n",
        "df['score'] = df['score'].clip(0, 10)  # Limitar valores de score entre 0 y 10\n",
        "\n",
        "# Crear el gráfico estilo joyplot manualmente asegurando el desplazamiento vertical y la alineación con la cuadrícula\n",
        "plt.figure(figsize=(10, 14))\n",
        "colors = plt.cm.RdYlGn(np.linspace(0, 1, len(emotions)))\n",
        "\n",
        "# Configuración del desplazamiento para permitir superposición y alineación\n",
        "offset = 0\n",
        "overlap_factor = 0.5  # Ajusta este factor para la superposición\n",
        "\n",
        "# Generar los datos de densidad para cada emoción\n",
        "for i, emotion in enumerate(reversed(emotions)):\n",
        "    subset = df[df['emotion'] == emotion]\n",
        "    density, bins = np.histogram(subset['score'], bins=150, range=(0, 10), density=True)\n",
        "    bins_center = 0.5 * (bins[1:] + bins[:-1])\n",
        "\n",
        "    # Dibujar el área sombreada con color y permitir superposición\n",
        "    plt.fill_between(bins_center, offset, density + offset, color=colors[i], alpha=0.2, step='mid')\n",
        "\n",
        "    # Dibujar la línea de la curva de densidad sobre el área coloreada\n",
        "    plt.plot(bins_center, density + offset, color='black', linewidth=0.8)\n",
        "\n",
        "    # Incrementar el offset para la siguiente línea permitiendo superposición y alineación con la cuadrícula\n",
        "    offset += max(density) * overlap_factor\n",
        "\n",
        "# Configuraciones del gráfico\n",
        "plt.yticks(np.arange(0, offset, offset / len(emotions)), reversed(emotions))  # Asegurar alineación\n",
        "plt.xticks(np.arange(0, 11, 1))  # Alinear los ticks del eje x con la cuadrícula\n",
        "plt.xlabel(\"Emotional Intensity (0 = Very Negative, 10 = Very Positive)\")\n",
        "plt.ylabel(\"Emotion\")\n",
        "plt.title(\"Emotional Analysis of YouTube Video Comments\", fontsize=14)\n",
        "plt.xlim(0, 10)\n",
        "\n",
        "# Mejorar la visualización de la cuadrícula\n",
        "plt.grid(axis='x', linestyle='--', alpha=0.5)\n",
        "plt.grid(axis='y', linestyle=':', alpha=0.2)\n",
        "\n",
        "# Mostrar el gráfico\n",
        "plt.tight_layout()\n",
        "plt.show()"
      ]
    }
  ],
  "metadata": {
    "colab": {
      "collapsed_sections": [
        "FhUrjLUU_T6V"
      ],
      "provenance": []
    },
    "kernelspec": {
      "display_name": "Python 3",
      "language": "python",
      "name": "python3"
    },
    "language_info": {
      "codemirror_mode": {
        "name": "ipython",
        "version": 3
      },
      "file_extension": ".py",
      "mimetype": "text/x-python",
      "name": "python",
      "nbconvert_exporter": "python",
      "pygments_lexer": "ipython3",
      "version": "3.10.12"
    }
  },
  "nbformat": 4,
  "nbformat_minor": 0
}
